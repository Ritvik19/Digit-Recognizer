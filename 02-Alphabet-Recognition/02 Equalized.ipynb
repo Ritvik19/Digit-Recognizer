{
 "cells": [
  {
   "cell_type": "markdown",
   "metadata": {},
   "source": [
    "# Libraries"
   ]
  },
  {
   "cell_type": "code",
   "execution_count": 1,
   "metadata": {
    "ExecuteTime": {
     "end_time": "2020-06-02T08:00:14.168074Z",
     "start_time": "2020-06-02T08:00:13.018598Z"
    }
   },
   "outputs": [],
   "source": [
    "import numpy as np\n",
    "import pandas as pd\n",
    "import matplotlib.pyplot as plt"
   ]
  },
  {
   "cell_type": "code",
   "execution_count": 2,
   "metadata": {
    "ExecuteTime": {
     "end_time": "2020-06-02T08:00:14.175987Z",
     "start_time": "2020-06-02T08:00:14.170002Z"
    }
   },
   "outputs": [],
   "source": [
    "import warnings\n",
    "warnings.filterwarnings(\"ignore\")"
   ]
  },
  {
   "cell_type": "code",
   "execution_count": 3,
   "metadata": {
    "ExecuteTime": {
     "end_time": "2020-06-02T08:00:14.372370Z",
     "start_time": "2020-06-02T08:00:14.179977Z"
    }
   },
   "outputs": [],
   "source": [
    "from tqdm.auto import tqdm"
   ]
  },
  {
   "cell_type": "markdown",
   "metadata": {},
   "source": [
    "# Data"
   ]
  },
  {
   "cell_type": "code",
   "execution_count": 4,
   "metadata": {
    "ExecuteTime": {
     "end_time": "2020-06-02T08:00:25.726930Z",
     "start_time": "2020-06-02T08:00:14.374869Z"
    }
   },
   "outputs": [],
   "source": [
    "train = pd.read_csv('../Data/emnist/emnist-balanced-train.csv', header=None)\n",
    "test = pd.read_csv('../Data/emnist/emnist-balanced-test.csv', header=None)"
   ]
  },
  {
   "cell_type": "code",
   "execution_count": 5,
   "metadata": {
    "ExecuteTime": {
     "end_time": "2020-06-02T08:00:26.447647Z",
     "start_time": "2020-06-02T08:00:25.728925Z"
    }
   },
   "outputs": [],
   "source": [
    "X_train = train.iloc[:, 1:]\n",
    "y_train = train.iloc[:, 0]\n",
    "X_test = test.iloc[:, 1:]\n",
    "y_test = test.iloc[:, 0]\n",
    "\n",
    "del train, test\n",
    "\n",
    "X_train = X_train[y_train >= 10].values\n",
    "y_train = pd.get_dummies(y_train[y_train >= 10] - 10).values\n",
    "X_test = X_test[y_test >= 10].values\n",
    "y_test = pd.get_dummies(y_test[y_test >= 10] - 10).values"
   ]
  },
  {
   "cell_type": "code",
   "execution_count": 6,
   "metadata": {
    "ExecuteTime": {
     "end_time": "2020-06-02T08:00:26.460613Z",
     "start_time": "2020-06-02T08:00:26.449642Z"
    },
    "cell_style": "split"
   },
   "outputs": [
    {
     "name": "stdout",
     "output_type": "stream",
     "text": [
      "Training Set\n",
      "88800\n",
      "(88800, 784)\n",
      "(88800, 37)\n"
     ]
    }
   ],
   "source": [
    "print('Training Set')\n",
    "print(len(X_train))\n",
    "print(X_train.shape)\n",
    "print(y_train.shape)"
   ]
  },
  {
   "cell_type": "code",
   "execution_count": 7,
   "metadata": {
    "ExecuteTime": {
     "end_time": "2020-06-02T08:00:26.559862Z",
     "start_time": "2020-06-02T08:00:26.463604Z"
    },
    "cell_style": "split"
   },
   "outputs": [
    {
     "name": "stdout",
     "output_type": "stream",
     "text": [
      "Testing Set\n",
      "14800\n",
      "(14800, 784)\n",
      "(14800, 37)\n"
     ]
    }
   ],
   "source": [
    "print('Testing Set')\n",
    "print(len(X_test))\n",
    "print(X_test.shape)\n",
    "print(y_test.shape)"
   ]
  },
  {
   "cell_type": "code",
   "execution_count": 8,
   "metadata": {
    "ExecuteTime": {
     "end_time": "2020-06-02T08:00:28.169041Z",
     "start_time": "2020-06-02T08:00:26.565847Z"
    }
   },
   "outputs": [
    {
     "data": {
      "image/png": "[encoded data removed]",
      "text/plain": [
       "<Figure size 1440x432 with 10 Axes>"
      ]
     },
     "metadata": {
      "needs_background": "light"
     },
     "output_type": "display_data"
    }
   ],
   "source": [
    "fig, ax = plt.subplots(1, 10, figsize=(20, 6))\n",
    "for i in range(10):\n",
    "    ax[i].imshow(X_train[i].reshape([28, 28]),cmap=plt.get_cmap('gray'))"
   ]
  },
  {
   "cell_type": "code",
   "execution_count": 9,
   "metadata": {
    "ExecuteTime": {
     "end_time": "2020-06-02T08:00:32.425186Z",
     "start_time": "2020-06-02T08:00:28.174027Z"
    }
   },
   "outputs": [],
   "source": [
    "def rotate(image):\n",
    "    image = image.reshape([28, 28])\n",
    "    image = np.fliplr(image)\n",
    "    image = np.rot90(image)\n",
    "    return image.reshape([28 * 28])\n",
    "X_train = np.apply_along_axis(rotate, 1, X_train)\n",
    "X_test = np.apply_along_axis(rotate, 1, X_test)"
   ]
  },
  {
   "cell_type": "code",
   "execution_count": 10,
   "metadata": {
    "ExecuteTime": {
     "end_time": "2020-06-02T08:00:32.959760Z",
     "start_time": "2020-06-02T08:00:32.428148Z"
    }
   },
   "outputs": [],
   "source": [
    "X_train = 255 - X_train\n",
    "X_test = 255 - X_test"
   ]
  },
  {
   "cell_type": "code",
   "execution_count": 11,
   "metadata": {
    "ExecuteTime": {
     "end_time": "2020-06-02T08:00:34.082824Z",
     "start_time": "2020-06-02T08:00:32.963742Z"
    }
   },
   "outputs": [
    {
     "data": {
      "image/png": "[encoded data removed]",
      "text/plain": [
       "<Figure size 1440x432 with 10 Axes>"
      ]
     },
     "metadata": {
      "needs_background": "light"
     },
     "output_type": "display_data"
    }
   ],
   "source": [
    "fig, ax = plt.subplots(1, 10, figsize=(20, 6))\n",
    "for i in range(10):\n",
    "    ax[i].imshow(X_train[i].reshape([28, 28]),cmap=plt.get_cmap('gray'))"
   ]
  },
  {
   "cell_type": "code",
   "execution_count": 12,
   "metadata": {
    "ExecuteTime": {
     "end_time": "2020-06-02T08:00:34.094791Z",
     "start_time": "2020-06-02T08:00:34.085817Z"
    }
   },
   "outputs": [],
   "source": [
    "def image_histogram_equalization(image, number_bins=256):\n",
    "    image_histogram, bins = np.histogram(image.flatten(), number_bins, density=True)\n",
    "    cdf = image_histogram.cumsum() # cumulative distribution function\n",
    "    cdf = 255 * cdf / cdf[-1] # normalize\n",
    "\n",
    "    image_equalized = np.interp(image.flatten(), bins[:-1], cdf)\n",
    "\n",
    "    return image_equalized.reshape(image.shape)"
   ]
  },
  {
   "cell_type": "code",
   "execution_count": 13,
   "metadata": {
    "ExecuteTime": {
     "end_time": "2020-06-02T08:01:06.354030Z",
     "start_time": "2020-06-02T08:00:34.097785Z"
    }
   },
   "outputs": [
    {
     "data": {
      "application/vnd.jupyter.widget-view+json": {
       "model_id": "5ba9a62ad6784df0ab53e31084ef8fe5",
       "version_major": 2,
       "version_minor": 0
      },
      "text/plain": [
       "HBox(children=(FloatProgress(value=0.0, max=88800.0), HTML(value='')))"
      ]
     },
     "metadata": {},
     "output_type": "display_data"
    },
    {
     "name": "stdout",
     "output_type": "stream",
     "text": [
      "\n"
     ]
    },
    {
     "data": {
      "application/vnd.jupyter.widget-view+json": {
       "model_id": "9959c3dd98894d2094e0d0c10182d68c",
       "version_major": 2,
       "version_minor": 0
      },
      "text/plain": [
       "HBox(children=(FloatProgress(value=0.0, max=14800.0), HTML(value='')))"
      ]
     },
     "metadata": {},
     "output_type": "display_data"
    },
    {
     "name": "stdout",
     "output_type": "stream",
     "text": [
      "\n"
     ]
    }
   ],
   "source": [
    "X_train_ = []\n",
    "for im in tqdm(X_train):\n",
    "    X_train_.append(image_histogram_equalization(im))\n",
    "    \n",
    "X_test_ = []\n",
    "for im in tqdm(X_test):\n",
    "    X_test_.append(image_histogram_equalization(im))   \n",
    "    \n",
    "X_train = np.array(X_train_)\n",
    "X_test = np.array(X_test_)\n",
    "\n",
    "del X_train_, X_test_"
   ]
  },
  {
   "cell_type": "code",
   "execution_count": 14,
   "metadata": {
    "ExecuteTime": {
     "end_time": "2020-06-02T08:01:06.750744Z",
     "start_time": "2020-06-02T08:01:06.358020Z"
    }
   },
   "outputs": [],
   "source": [
    "X_train = X_train.astype('float32')\n",
    "X_test = X_test.astype('float32')\n",
    "X_train /= 255.0\n",
    "X_test /= 255.0"
   ]
  },
  {
   "cell_type": "code",
   "execution_count": 15,
   "metadata": {
    "ExecuteTime": {
     "end_time": "2020-06-02T08:01:07.890919Z",
     "start_time": "2020-06-02T08:01:06.753738Z"
    }
   },
   "outputs": [
    {
     "data": {
      "image/png": "[encoded data removed]",
      "text/plain": [
       "<Figure size 1440x432 with 10 Axes>"
      ]
     },
     "metadata": {
      "needs_background": "light"
     },
     "output_type": "display_data"
    }
   ],
   "source": [
    "fig, ax = plt.subplots(1, 10, figsize=(20, 6))\n",
    "for i in range(10):\n",
    "    ax[i].imshow(X_train[i].reshape((28, 28)),cmap=plt.get_cmap('gray'))"
   ]
  },
  {
   "cell_type": "markdown",
   "metadata": {},
   "source": [
    "# Preprocessing"
   ]
  },
  {
   "cell_type": "code",
   "execution_count": 16,
   "metadata": {
    "ExecuteTime": {
     "end_time": "2020-06-02T08:01:07.903879Z",
     "start_time": "2020-06-02T08:01:07.893914Z"
    },
    "cell_style": "center"
   },
   "outputs": [
    {
     "data": {
      "text/plain": [
       "(88800, 28, 28, 1)"
      ]
     },
     "execution_count": 16,
     "metadata": {},
     "output_type": "execute_result"
    }
   ],
   "source": [
    "X_train = X_train.reshape(-1, 28, 28, 1)\n",
    "X_test = X_test.reshape(-1, 28, 28, 1)\n",
    "\n",
    "X_train.shape"
   ]
  },
  {
   "cell_type": "code",
   "execution_count": 17,
   "metadata": {
    "ExecuteTime": {
     "end_time": "2020-06-02T08:01:08.310582Z",
     "start_time": "2020-06-02T08:01:07.908864Z"
    }
   },
   "outputs": [],
   "source": [
    "X_all = np.concatenate((X_train, X_test))\n",
    "y_all = np.concatenate((y_train,  y_test))\n",
    "\n",
    "del X_train, X_test, y_train, y_test"
   ]
  },
  {
   "cell_type": "markdown",
   "metadata": {},
   "source": [
    "# Model Fitting"
   ]
  },
  {
   "cell_type": "code",
   "execution_count": 18,
   "metadata": {
    "ExecuteTime": {
     "end_time": "2020-06-02T08:01:20.420006Z",
     "start_time": "2020-06-02T08:01:08.312579Z"
    }
   },
   "outputs": [],
   "source": [
    "from sklearn.metrics import confusion_matrix, classification_report"
   ]
  },
  {
   "cell_type": "code",
   "execution_count": 19,
   "metadata": {
    "ExecuteTime": {
     "end_time": "2020-06-02T08:01:48.855990Z",
     "start_time": "2020-06-02T08:01:20.426953Z"
    }
   },
   "outputs": [
    {
     "name": "stderr",
     "output_type": "stream",
     "text": [
      "Using TensorFlow backend.\n"
     ]
    }
   ],
   "source": [
    "from keras.models import Sequential\n",
    "from keras.layers import Dense, Dropout, Conv2D, Flatten, MaxPooling2D\n",
    "from keras.callbacks import EarlyStopping, ModelCheckpoint, ReduceLROnPlateau"
   ]
  },
  {
   "cell_type": "markdown",
   "metadata": {},
   "source": [
    "## Convolutional Neural Network"
   ]
  },
  {
   "cell_type": "code",
   "execution_count": 20,
   "metadata": {
    "ExecuteTime": {
     "end_time": "2020-06-02T08:01:49.592049Z",
     "start_time": "2020-06-02T08:01:48.857888Z"
    }
   },
   "outputs": [
    {
     "name": "stdout",
     "output_type": "stream",
     "text": [
      "Model: \"sequential_1\"\n",
      "_________________________________________________________________\n",
      "Layer (type)                 Output Shape              Param #   \n",
      "=================================================================\n",
      "conv2d_1 (Conv2D)            (None, 26, 26, 32)        320       \n",
      "_________________________________________________________________\n",
      "max_pooling2d_1 (MaxPooling2 (None, 13, 13, 32)        0         \n",
      "_________________________________________________________________\n",
      "flatten_1 (Flatten)          (None, 5408)              0         \n",
      "_________________________________________________________________\n",
      "dense_1 (Dense)              (None, 37)                200133    \n",
      "=================================================================\n",
      "Total params: 200,453\n",
      "Trainable params: 200,453\n",
      "Non-trainable params: 0\n",
      "_________________________________________________________________\n"
     ]
    }
   ],
   "source": [
    "es = EarlyStopping(monitor='loss', mode='min', verbose=1, patience=5)\n",
    "filepath = \"lens-alpha-2.h5\"\n",
    "ckpt = ModelCheckpoint(filepath, monitor='loss', verbose=1, save_best_only=True, mode='min')\n",
    "rlp = ReduceLROnPlateau(patience=2)\n",
    "\n",
    "def cnn(image_size):\n",
    "    classifier = Sequential()\n",
    "    classifier.add(Conv2D(32, (3, 3), input_shape = (*image_size, 1), activation = 'relu'))\n",
    "    classifier.add(MaxPooling2D(pool_size=(2, 2)))\n",
    "    classifier.add(Flatten())\n",
    "    classifier.add(Dense(units = 37, activation = 'softmax'))\n",
    "    classifier.compile(optimizer = 'adam', loss = 'categorical_crossentropy', metrics = ['accuracy'])\n",
    "    classifier.summary()\n",
    "    return classifier\n",
    "\n",
    "\n",
    "model = cnn((28,28))"
   ]
  },
  {
   "cell_type": "code",
   "execution_count": 21,
   "metadata": {
    "ExecuteTime": {
     "end_time": "2020-06-02T08:01:54.904648Z",
     "start_time": "2020-06-02T08:01:49.595039Z"
    }
   },
   "outputs": [
    {
     "data": {
      "image/png": "[encoded data removed]",
      "text/plain": [
       "<IPython.core.display.Image object>"
      ]
     },
     "execution_count": 21,
     "metadata": {},
     "output_type": "execute_result"
    }
   ],
   "source": [
    "from keras.utils.vis_utils import plot_model\n",
    "plot_model(model, to_file='CNN2.png', show_shapes=True, show_layer_names=True)"
   ]
  },
  {
   "cell_type": "code",
   "execution_count": 22,
   "metadata": {
    "ExecuteTime": {
     "end_time": "2020-06-02T08:26:45.313469Z",
     "start_time": "2020-06-02T08:01:54.909635Z"
    },
    "scrolled": true
   },
   "outputs": [
    {
     "name": "stdout",
     "output_type": "stream",
     "text": [
      "Train on 93240 samples, validate on 10360 samples\n",
      "Epoch 1/1000\n",
      "93240/93240 [==============================] - 41s 443us/step - loss: 0.8096 - accuracy: 0.7714 - val_loss: 0.5597 - val_accuracy: 0.8432\n",
      "\n",
      "Epoch 00001: loss improved from inf to 0.80963, saving model to lens-alpha-2.h5\n",
      "Epoch 2/1000\n",
      "93240/93240 [==============================] - 41s 441us/step - loss: 0.4763 - accuracy: 0.8592 - val_loss: 0.4989 - val_accuracy: 0.8587\n",
      "\n",
      "Epoch 00002: loss improved from 0.80963 to 0.47633, saving model to lens-alpha-2.h5\n",
      "Epoch 3/1000\n",
      "93240/93240 [==============================] - 40s 429us/step - loss: 0.4117 - accuracy: 0.8764 - val_loss: 0.4753 - val_accuracy: 0.8666\n",
      "\n",
      "Epoch 00003: loss improved from 0.47633 to 0.41172, saving model to lens-alpha-2.h5\n",
      "Epoch 4/1000\n",
      "93240/93240 [==============================] - 40s 434us/step - loss: 0.3709 - accuracy: 0.8859 - val_loss: 0.4808 - val_accuracy: 0.8610\n",
      "\n",
      "Epoch 00004: loss improved from 0.41172 to 0.37093, saving model to lens-alpha-2.h5\n",
      "Epoch 5/1000\n",
      "93240/93240 [==============================] - 40s 426us/step - loss: 0.3403 - accuracy: 0.8944 - val_loss: 0.4847 - val_accuracy: 0.8601\n",
      "\n",
      "Epoch 00005: loss improved from 0.37093 to 0.34035, saving model to lens-alpha-2.h5\n",
      "Epoch 6/1000\n",
      "93240/93240 [==============================] - 43s 466us/step - loss: 0.2597 - accuracy: 0.9210 - val_loss: 0.4261 - val_accuracy: 0.8795\n",
      "\n",
      "Epoch 00006: loss improved from 0.34035 to 0.25973, saving model to lens-alpha-2.h5\n",
      "Epoch 7/1000\n",
      "93240/93240 [==============================] - 45s 478us/step - loss: 0.2476 - accuracy: 0.9253 - val_loss: 0.4259 - val_accuracy: 0.8820\n",
      "\n",
      "Epoch 00007: loss improved from 0.25973 to 0.24757, saving model to lens-alpha-2.h5\n",
      "Epoch 8/1000\n",
      "93240/93240 [==============================] - 42s 450us/step - loss: 0.2417 - accuracy: 0.9271 - val_loss: 0.4258 - val_accuracy: 0.8802\n",
      "\n",
      "Epoch 00008: loss improved from 0.24757 to 0.24171, saving model to lens-alpha-2.h5\n",
      "Epoch 9/1000\n",
      "93240/93240 [==============================] - 41s 439us/step - loss: 0.2372 - accuracy: 0.9284 - val_loss: 0.4249 - val_accuracy: 0.8825\n",
      "\n",
      "Epoch 00009: loss improved from 0.24171 to 0.23723, saving model to lens-alpha-2.h5\n",
      "Epoch 10/1000\n",
      "93240/93240 [==============================] - 41s 443us/step - loss: 0.2332 - accuracy: 0.9291 - val_loss: 0.4275 - val_accuracy: 0.8812\n",
      "\n",
      "Epoch 00010: loss improved from 0.23723 to 0.23318, saving model to lens-alpha-2.h5\n",
      "Epoch 11/1000\n",
      "93240/93240 [==============================] - 40s 433us/step - loss: 0.2296 - accuracy: 0.9306 - val_loss: 0.4282 - val_accuracy: 0.8819\n",
      "\n",
      "Epoch 00011: loss improved from 0.23318 to 0.22956, saving model to lens-alpha-2.h5\n",
      "Epoch 12/1000\n",
      "93240/93240 [==============================] - 40s 434us/step - loss: 0.2196 - accuracy: 0.9342 - val_loss: 0.4249 - val_accuracy: 0.8822\n",
      "\n",
      "Epoch 00012: loss improved from 0.22956 to 0.21958, saving model to lens-alpha-2.h5\n",
      "Epoch 13/1000\n",
      "93240/93240 [==============================] - 41s 440us/step - loss: 0.2186 - accuracy: 0.9348 - val_loss: 0.4248 - val_accuracy: 0.8812\n",
      "\n",
      "Epoch 00013: loss improved from 0.21958 to 0.21859, saving model to lens-alpha-2.h5\n",
      "Epoch 14/1000\n",
      "93240/93240 [==============================] - 41s 438us/step - loss: 0.2181 - accuracy: 0.9347 - val_loss: 0.4252 - val_accuracy: 0.8821\n",
      "\n",
      "Epoch 00014: loss improved from 0.21859 to 0.21805, saving model to lens-alpha-2.h5\n",
      "Epoch 15/1000\n",
      "93240/93240 [==============================] - 41s 438us/step - loss: 0.2177 - accuracy: 0.9347 - val_loss: 0.4253 - val_accuracy: 0.8811\n",
      "\n",
      "Epoch 00015: loss improved from 0.21805 to 0.21770, saving model to lens-alpha-2.h5\n",
      "Epoch 16/1000\n",
      "93240/93240 [==============================] - 42s 446us/step - loss: 0.2165 - accuracy: 0.9352 - val_loss: 0.4252 - val_accuracy: 0.8816\n",
      "\n",
      "Epoch 00016: loss improved from 0.21770 to 0.21648, saving model to lens-alpha-2.h5\n",
      "Epoch 17/1000\n",
      "93240/93240 [==============================] - 41s 445us/step - loss: 0.2164 - accuracy: 0.9353 - val_loss: 0.4252 - val_accuracy: 0.8816\n",
      "\n",
      "Epoch 00017: loss improved from 0.21648 to 0.21642, saving model to lens-alpha-2.h5\n",
      "Epoch 18/1000\n",
      "93240/93240 [==============================] - 41s 441us/step - loss: 0.2163 - accuracy: 0.9353 - val_loss: 0.4252 - val_accuracy: 0.8816\n",
      "\n",
      "Epoch 00018: loss improved from 0.21642 to 0.21627, saving model to lens-alpha-2.h5\n",
      "Epoch 19/1000\n",
      "93240/93240 [==============================] - 41s 445us/step - loss: 0.2163 - accuracy: 0.9353 - val_loss: 0.4252 - val_accuracy: 0.8816\n",
      "\n",
      "Epoch 00019: loss improved from 0.21627 to 0.21626, saving model to lens-alpha-2.h5\n",
      "Epoch 20/1000\n",
      "93240/93240 [==============================] - 46s 491us/step - loss: 0.2162 - accuracy: 0.9353 - val_loss: 0.4252 - val_accuracy: 0.8816\n",
      "\n",
      "Epoch 00020: loss improved from 0.21626 to 0.21625, saving model to lens-alpha-2.h5\n",
      "Epoch 21/1000\n",
      "93240/93240 [==============================] - 55s 585us/step - loss: 0.2162 - accuracy: 0.9353 - val_loss: 0.4252 - val_accuracy: 0.8816\n",
      "\n",
      "Epoch 00021: loss improved from 0.21625 to 0.21625, saving model to lens-alpha-2.h5\n",
      "Epoch 22/1000\n",
      "93240/93240 [==============================] - 54s 578us/step - loss: 0.2162 - accuracy: 0.9353 - val_loss: 0.4252 - val_accuracy: 0.8816\n",
      "\n",
      "Epoch 00022: loss improved from 0.21625 to 0.21625, saving model to lens-alpha-2.h5\n",
      "Epoch 23/1000\n",
      "93240/93240 [==============================] - 44s 468us/step - loss: 0.2162 - accuracy: 0.9353 - val_loss: 0.4252 - val_accuracy: 0.8816\n",
      "\n",
      "Epoch 00023: loss improved from 0.21625 to 0.21625, saving model to lens-alpha-2.h5\n",
      "Epoch 24/1000\n",
      "93240/93240 [==============================] - 41s 440us/step - loss: 0.2162 - accuracy: 0.9353 - val_loss: 0.4252 - val_accuracy: 0.8816\n",
      "\n",
      "Epoch 00024: loss improved from 0.21625 to 0.21625, saving model to lens-alpha-2.h5\n",
      "Epoch 25/1000\n",
      "93240/93240 [==============================] - 40s 432us/step - loss: 0.2162 - accuracy: 0.9353 - val_loss: 0.4252 - val_accuracy: 0.8816\n",
      "\n",
      "Epoch 00025: loss did not improve from 0.21625\n",
      "Epoch 26/1000\n",
      "93240/93240 [==============================] - 42s 445us/step - loss: 0.2162 - accuracy: 0.9353 - val_loss: 0.4252 - val_accuracy: 0.8816\n",
      "\n",
      "Epoch 00026: loss improved from 0.21625 to 0.21625, saving model to lens-alpha-2.h5\n",
      "Epoch 27/1000\n",
      "93240/93240 [==============================] - 40s 433us/step - loss: 0.2162 - accuracy: 0.9353 - val_loss: 0.4252 - val_accuracy: 0.8816\n",
      "\n",
      "Epoch 00027: loss did not improve from 0.21625\n",
      "Epoch 28/1000\n",
      "93240/93240 [==============================] - 40s 430us/step - loss: 0.2162 - accuracy: 0.9353 - val_loss: 0.4252 - val_accuracy: 0.8816\n",
      "\n",
      "Epoch 00028: loss did not improve from 0.21625\n",
      "Epoch 29/1000\n",
      "93240/93240 [==============================] - 41s 437us/step - loss: 0.2162 - accuracy: 0.9353 - val_loss: 0.4252 - val_accuracy: 0.8816\n",
      "\n",
      "Epoch 00029: loss did not improve from 0.21625\n",
      "Epoch 30/1000\n",
      "93240/93240 [==============================] - 44s 467us/step - loss: 0.2162 - accuracy: 0.9353 - val_loss: 0.4252 - val_accuracy: 0.8816\n",
      "\n",
      "Epoch 00030: loss improved from 0.21625 to 0.21625, saving model to lens-alpha-2.h5\n",
      "Epoch 31/1000\n",
      "93240/93240 [==============================] - 43s 464us/step - loss: 0.2162 - accuracy: 0.9353 - val_loss: 0.4252 - val_accuracy: 0.8816\n",
      "\n",
      "Epoch 00031: loss did not improve from 0.21625\n",
      "Epoch 32/1000\n",
      "93240/93240 [==============================] - 40s 431us/step - loss: 0.2162 - accuracy: 0.9353 - val_loss: 0.4252 - val_accuracy: 0.8816\n",
      "\n",
      "Epoch 00032: loss did not improve from 0.21625\n",
      "Epoch 33/1000\n",
      "93240/93240 [==============================] - 44s 474us/step - loss: 0.2162 - accuracy: 0.9353 - val_loss: 0.4252 - val_accuracy: 0.8816\n",
      "\n",
      "Epoch 00033: loss did not improve from 0.21625\n",
      "Epoch 34/1000\n",
      "93240/93240 [==============================] - 46s 489us/step - loss: 0.2162 - accuracy: 0.9353 - val_loss: 0.4252 - val_accuracy: 0.8816\n",
      "\n",
      "Epoch 00034: loss did not improve from 0.21625\n",
      "Epoch 35/1000\n",
      "93240/93240 [==============================] - 42s 452us/step - loss: 0.2162 - accuracy: 0.9353 - val_loss: 0.4252 - val_accuracy: 0.8816\n",
      "\n",
      "Epoch 00035: loss did not improve from 0.21625\n",
      "Epoch 00035: early stopping\n"
     ]
    }
   ],
   "source": [
    "history = model.fit(X_all, y_all, validation_split=0.1, epochs=1000, callbacks=[es, ckpt, rlp])"
   ]
  },
  {
   "cell_type": "code",
   "execution_count": 23,
   "metadata": {
    "ExecuteTime": {
     "end_time": "2020-06-02T08:26:46.443449Z",
     "start_time": "2020-06-02T08:26:45.320452Z"
    }
   },
   "outputs": [
    {
     "data": {
      "image/png": "[encoded data removed]",
      "text/plain": [
       "<Figure size 1440x864 with 2 Axes>"
      ]
     },
     "metadata": {
      "needs_background": "light"
     },
     "output_type": "display_data"
    }
   ],
   "source": [
    "fig, ax = plt.subplots(2, 1, figsize=(20, 12))\n",
    "\n",
    "fig.suptitle('Model Performance', fontsize=24) \n",
    "\n",
    "ax[0].plot(history.history['loss'], label='t-loss')\n",
    "ax[0].plot(history.history['val_loss'], label='v-loss')\n",
    "ax[0].set_title('Loss', fontsize=18)\n",
    "ax[0].set_ylabel('Loss')\n",
    "\n",
    "ax[1].plot(history.history['accuracy'], label='t-acc')\n",
    "ax[1].plot(history.history['val_accuracy'], label='v-acc')\n",
    "ax[1].set_title('Accuracy', fontsize=18)\n",
    "ax[1].set_ylabel('Accuracy')\n",
    "\n",
    "\n",
    "for i in range(2):\n",
    "    ax[i].grid()\n",
    "    ax[i].legend()\n",
    "    ax[i].set_xlabel('Epochs')\n",
    "    \n",
    "plt.savefig('Training2.png')    "
   ]
  },
  {
   "cell_type": "code",
   "execution_count": null,
   "metadata": {},
   "outputs": [],
   "source": []
  }
 ],
 "metadata": {
  "kernelspec": {
   "display_name": "Python 3",
   "language": "python",
   "name": "python3"
  },
  "language_info": {
   "codemirror_mode": {
    "name": "ipython",
    "version": 3
   },
   "file_extension": ".py",
   "mimetype": "text/x-python",
   "name": "python",
   "nbconvert_exporter": "python",
   "pygments_lexer": "ipython3",
   "version": "3.7.7"
  },
  "toc": {
   "base_numbering": 1,
   "nav_menu": {},
   "number_sections": true,
   "sideBar": true,
   "skip_h1_title": false,
   "title_cell": "Table of Contents",
   "title_sidebar": "Contents",
   "toc_cell": false,
   "toc_position": {},
   "toc_section_display": true,
   "toc_window_display": false
  },
  "varInspector": {
   "cols": {
    "lenName": 16,
    "lenType": 16,
    "lenVar": 40
   },
   "kernels_config": {
    "python": {
     "delete_cmd_postfix": "",
     "delete_cmd_prefix": "del ",
     "library": "var_list.py",
     "varRefreshCmd": "print(var_dic_list())"
    },
    "r": {
     "delete_cmd_postfix": ") ",
     "delete_cmd_prefix": "rm(",
     "library": "var_list.r",
     "varRefreshCmd": "cat(var_dic_list()) "
    }
   },
   "types_to_exclude": [
    "module",
    "function",
    "builtin_function_or_method",
    "instance",
    "_Feature"
   ],
   "window_display": false
  }
 },
 "nbformat": 4,
 "nbformat_minor": 2
}
