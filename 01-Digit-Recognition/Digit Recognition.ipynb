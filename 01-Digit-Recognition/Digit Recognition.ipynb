{
 "cells": [
  {
   "cell_type": "markdown",
   "metadata": {},
   "source": [
    "# Libraries"
   ]
  },
  {
   "cell_type": "code",
   "execution_count": 1,
   "metadata": {
    "ExecuteTime": {
     "end_time": "2020-06-01T05:26:36.634935Z",
     "start_time": "2020-06-01T05:26:35.099999Z"
    }
   },
   "outputs": [],
   "source": [
    "import numpy as np\n",
    "import pandas as pd\n",
    "import matplotlib.pyplot as plt"
   ]
  },
  {
   "cell_type": "code",
   "execution_count": 2,
   "metadata": {
    "ExecuteTime": {
     "end_time": "2020-06-01T05:26:36.643911Z",
     "start_time": "2020-06-01T05:26:36.637928Z"
    }
   },
   "outputs": [],
   "source": [
    "import warnings\n",
    "warnings.filterwarnings(\"ignore\")"
   ]
  },
  {
   "cell_type": "markdown",
   "metadata": {},
   "source": [
    "# Data"
   ]
  },
  {
   "cell_type": "code",
   "execution_count": 3,
   "metadata": {
    "ExecuteTime": {
     "end_time": "2020-06-01T05:26:42.110671Z",
     "start_time": "2020-06-01T05:26:36.655880Z"
    }
   },
   "outputs": [
    {
     "name": "stderr",
     "output_type": "stream",
     "text": [
      "Using TensorFlow backend.\n"
     ]
    }
   ],
   "source": [
    "from keras.datasets import mnist"
   ]
  },
  {
   "cell_type": "code",
   "execution_count": 4,
   "metadata": {
    "ExecuteTime": {
     "end_time": "2020-06-01T05:26:42.633835Z",
     "start_time": "2020-06-01T05:26:42.114661Z"
    }
   },
   "outputs": [],
   "source": [
    "(X_train, y_train), (X_test, y_test) = mnist.load_data()"
   ]
  },
  {
   "cell_type": "code",
   "execution_count": 5,
   "metadata": {
    "ExecuteTime": {
     "end_time": "2020-06-01T05:26:42.647798Z",
     "start_time": "2020-06-01T05:26:42.636827Z"
    },
    "cell_style": "split"
   },
   "outputs": [
    {
     "name": "stdout",
     "output_type": "stream",
     "text": [
      "Training Set\n",
      "60000\n",
      "(60000, 28, 28)\n",
      "(60000,)\n"
     ]
    }
   ],
   "source": [
    "print('Training Set')\n",
    "print(len(X_train))\n",
    "print(X_train.shape)\n",
    "print(y_train.shape)"
   ]
  },
  {
   "cell_type": "code",
   "execution_count": 6,
   "metadata": {
    "ExecuteTime": {
     "end_time": "2020-06-01T05:26:42.825799Z",
     "start_time": "2020-06-01T05:26:42.651789Z"
    },
    "cell_style": "split"
   },
   "outputs": [
    {
     "name": "stdout",
     "output_type": "stream",
     "text": [
      "Testing Set\n",
      "10000\n",
      "(10000, 28, 28)\n",
      "(10000,)\n"
     ]
    }
   ],
   "source": [
    "print('Testing Set')\n",
    "print(len(X_test))\n",
    "print(X_test.shape)\n",
    "print(y_test.shape)"
   ]
  },
  {
   "cell_type": "code",
   "execution_count": 7,
   "metadata": {
    "ExecuteTime": {
     "end_time": "2020-06-01T05:26:44.976470Z",
     "start_time": "2020-06-01T05:26:42.828792Z"
    }
   },
   "outputs": [
    {
     "data": {
      "image/png": "[encoded data removed]",
      "text/plain": [
       "<Figure size 1440x432 with 10 Axes>"
      ]
     },
     "metadata": {
      "needs_background": "light"
     },
     "output_type": "display_data"
    }
   ],
   "source": [
    "fig, ax = plt.subplots(1, 10, figsize=(20, 6))\n",
    "for i in range(10):\n",
    "    ax[i].imshow(X_train[i],cmap=plt.get_cmap('gray'))"
   ]
  },
  {
   "cell_type": "code",
   "execution_count": 8,
   "metadata": {
    "ExecuteTime": {
     "end_time": "2020-06-01T05:26:45.106123Z",
     "start_time": "2020-06-01T05:26:44.982454Z"
    }
   },
   "outputs": [],
   "source": [
    "X_train = 255 - X_train\n",
    "X_test = 255 - X_test"
   ]
  },
  {
   "cell_type": "code",
   "execution_count": 9,
   "metadata": {
    "ExecuteTime": {
     "end_time": "2020-06-01T05:26:47.287682Z",
     "start_time": "2020-06-01T05:26:45.110112Z"
    }
   },
   "outputs": [
    {
     "data": {
      "image/png": "[encoded data removed]",
      "text/plain": [
       "<Figure size 1440x432 with 10 Axes>"
      ]
     },
     "metadata": {
      "needs_background": "light"
     },
     "output_type": "display_data"
    }
   ],
   "source": [
    "fig, ax = plt.subplots(1, 10, figsize=(20, 6))\n",
    "for i in range(10):\n",
    "    ax[i].imshow(X_train[i],cmap=plt.get_cmap('gray'))"
   ]
  },
  {
   "cell_type": "markdown",
   "metadata": {},
   "source": [
    "# Preprocessing"
   ]
  },
  {
   "cell_type": "code",
   "execution_count": 10,
   "metadata": {
    "ExecuteTime": {
     "end_time": "2020-06-01T05:26:47.312615Z",
     "start_time": "2020-06-01T05:26:47.307629Z"
    }
   },
   "outputs": [],
   "source": [
    "from keras.utils.np_utils import to_categorical"
   ]
  },
  {
   "cell_type": "code",
   "execution_count": 11,
   "metadata": {
    "ExecuteTime": {
     "end_time": "2020-06-01T05:26:47.490178Z",
     "start_time": "2020-06-01T05:26:47.317602Z"
    },
    "cell_style": "split"
   },
   "outputs": [
    {
     "data": {
      "text/plain": [
       "(60000, 28, 28, 1)"
      ]
     },
     "execution_count": 11,
     "metadata": {},
     "output_type": "execute_result"
    }
   ],
   "source": [
    "X_train = X_train.reshape(-1, 28, 28, 1)\n",
    "X_test = X_test.reshape(-1, 28, 28, 1)\n",
    "\n",
    "X_train.shape"
   ]
  },
  {
   "cell_type": "code",
   "execution_count": 12,
   "metadata": {
    "ExecuteTime": {
     "end_time": "2020-06-01T05:26:47.603874Z",
     "start_time": "2020-06-01T05:26:47.493172Z"
    },
    "cell_style": "split"
   },
   "outputs": [
    {
     "data": {
      "text/plain": [
       "(60000, 10)"
      ]
     },
     "execution_count": 12,
     "metadata": {},
     "output_type": "execute_result"
    }
   ],
   "source": [
    "y_train = to_categorical(y_train)\n",
    "y_test = to_categorical(y_test)\n",
    "\n",
    "y_train.shape"
   ]
  },
  {
   "cell_type": "code",
   "execution_count": 13,
   "metadata": {
    "ExecuteTime": {
     "end_time": "2020-06-01T05:26:47.882530Z",
     "start_time": "2020-06-01T05:26:47.606865Z"
    },
    "cell_style": "center"
   },
   "outputs": [],
   "source": [
    "X_train = X_train.astype('float32')\n",
    "X_test = X_test.astype('float32')\n",
    "X_train /= 255.0\n",
    "X_test /= 255.0"
   ]
  },
  {
   "cell_type": "code",
   "execution_count": 14,
   "metadata": {
    "ExecuteTime": {
     "end_time": "2020-06-01T05:26:48.127151Z",
     "start_time": "2020-06-01T05:26:47.886032Z"
    }
   },
   "outputs": [],
   "source": [
    "X_all = np.concatenate((X_train, X_test))\n",
    "y_all = np.concatenate((y_train,  y_test))"
   ]
  },
  {
   "cell_type": "markdown",
   "metadata": {},
   "source": [
    "# Model Fitting"
   ]
  },
  {
   "cell_type": "code",
   "execution_count": 15,
   "metadata": {
    "ExecuteTime": {
     "end_time": "2020-06-01T05:26:48.921531Z",
     "start_time": "2020-06-01T05:26:48.130143Z"
    }
   },
   "outputs": [],
   "source": [
    "from sklearn.metrics import confusion_matrix, classification_report"
   ]
  },
  {
   "cell_type": "code",
   "execution_count": 16,
   "metadata": {
    "ExecuteTime": {
     "end_time": "2020-06-01T05:26:48.932531Z",
     "start_time": "2020-06-01T05:26:48.924552Z"
    }
   },
   "outputs": [],
   "source": [
    "from keras.models import Sequential\n",
    "from keras.layers import Dense, Dropout, Conv2D, Flatten, MaxPooling2D\n",
    "from keras.callbacks import EarlyStopping, ModelCheckpoint, ReduceLROnPlateau"
   ]
  },
  {
   "cell_type": "markdown",
   "metadata": {},
   "source": [
    "## Convolutional Neural Network"
   ]
  },
  {
   "cell_type": "code",
   "execution_count": 17,
   "metadata": {
    "ExecuteTime": {
     "end_time": "2020-06-01T05:26:49.332385Z",
     "start_time": "2020-06-01T05:26:48.937550Z"
    }
   },
   "outputs": [
    {
     "name": "stdout",
     "output_type": "stream",
     "text": [
      "Model: \"sequential_1\"\n",
      "_________________________________________________________________\n",
      "Layer (type)                 Output Shape              Param #   \n",
      "=================================================================\n",
      "conv2d_1 (Conv2D)            (None, 26, 26, 32)        320       \n",
      "_________________________________________________________________\n",
      "max_pooling2d_1 (MaxPooling2 (None, 13, 13, 32)        0         \n",
      "_________________________________________________________________\n",
      "flatten_1 (Flatten)          (None, 5408)              0         \n",
      "_________________________________________________________________\n",
      "dense_1 (Dense)              (None, 10)                54090     \n",
      "=================================================================\n",
      "Total params: 54,410\n",
      "Trainable params: 54,410\n",
      "Non-trainable params: 0\n",
      "_________________________________________________________________\n"
     ]
    }
   ],
   "source": [
    "es = EarlyStopping(monitor='loss', mode='min', verbose=1, patience=5)\n",
    "filepath = \"lens-digi.h5\"\n",
    "ckpt = ModelCheckpoint(filepath, monitor='loss', verbose=1, save_best_only=True, mode='min')\n",
    "rlp = ReduceLROnPlateau(patience=2)\n",
    "\n",
    "def cnn(image_size):\n",
    "    classifier = Sequential()\n",
    "    classifier.add(Conv2D(32, (3, 3), input_shape = (*image_size, 1), activation = 'relu'))\n",
    "    classifier.add(MaxPooling2D(pool_size=(2, 2)))\n",
    "    classifier.add(Flatten())\n",
    "    classifier.add(Dense(units = 10, activation = 'softmax'))\n",
    "    classifier.compile(optimizer = 'adam', loss = 'categorical_crossentropy', metrics = ['accuracy'])\n",
    "    classifier.summary()\n",
    "    return classifier\n",
    "\n",
    "\n",
    "model = cnn((28,28))"
   ]
  },
  {
   "cell_type": "code",
   "execution_count": 18,
   "metadata": {
    "ExecuteTime": {
     "end_time": "2020-06-01T05:26:50.250052Z",
     "start_time": "2020-06-01T05:26:49.335377Z"
    }
   },
   "outputs": [
    {
     "data": {
      "image/png": "[encoded data removed]",
      "text/plain": [
       "<IPython.core.display.Image object>"
      ]
     },
     "execution_count": 18,
     "metadata": {},
     "output_type": "execute_result"
    }
   ],
   "source": [
    "from keras.utils.vis_utils import plot_model\n",
    "plot_model(model, to_file='CNN.png', show_shapes=True, show_layer_names=True)"
   ]
  },
  {
   "cell_type": "code",
   "execution_count": 19,
   "metadata": {
    "ExecuteTime": {
     "end_time": "2020-06-01T05:39:26.754784Z",
     "start_time": "2020-06-01T05:26:50.253104Z"
    },
    "scrolled": true
   },
   "outputs": [
    {
     "name": "stdout",
     "output_type": "stream",
     "text": [
      "Train on 63000 samples, validate on 7000 samples\n",
      "Epoch 1/1000\n",
      "63000/63000 [==============================] - 28s 446us/step - loss: 0.2512 - accuracy: 0.9305 - val_loss: 0.0835 - val_accuracy: 0.9761\n",
      "\n",
      "Epoch 00001: loss improved from inf to 0.25125, saving model to lens-digi.h5\n",
      "Epoch 2/1000\n",
      "63000/63000 [==============================] - 25s 401us/step - loss: 0.0861 - accuracy: 0.9746 - val_loss: 0.0600 - val_accuracy: 0.9817\n",
      "\n",
      "Epoch 00002: loss improved from 0.25125 to 0.08608, saving model to lens-digi.h5\n",
      "Epoch 3/1000\n",
      "63000/63000 [==============================] - 24s 388us/step - loss: 0.0629 - accuracy: 0.9816 - val_loss: 0.0574 - val_accuracy: 0.9813\n",
      "\n",
      "Epoch 00003: loss improved from 0.08608 to 0.06293, saving model to lens-digi.h5\n",
      "Epoch 4/1000\n",
      "63000/63000 [==============================] - 25s 399us/step - loss: 0.0514 - accuracy: 0.9845 - val_loss: 0.0426 - val_accuracy: 0.9861\n",
      "\n",
      "Epoch 00004: loss improved from 0.06293 to 0.05139, saving model to lens-digi.h5\n",
      "Epoch 5/1000\n",
      "63000/63000 [==============================] - 26s 405us/step - loss: 0.0431 - accuracy: 0.9866 - val_loss: 0.0442 - val_accuracy: 0.9850\n",
      "\n",
      "Epoch 00005: loss improved from 0.05139 to 0.04310, saving model to lens-digi.h5\n",
      "Epoch 6/1000\n",
      "63000/63000 [==============================] - 26s 414us/step - loss: 0.0370 - accuracy: 0.9887 - val_loss: 0.0431 - val_accuracy: 0.9863\n",
      "\n",
      "Epoch 00006: loss improved from 0.04310 to 0.03696, saving model to lens-digi.h5\n",
      "Epoch 7/1000\n",
      "63000/63000 [==============================] - 26s 416us/step - loss: 0.0238 - accuracy: 0.9937 - val_loss: 0.0365 - val_accuracy: 0.9887\n",
      "\n",
      "Epoch 00007: loss improved from 0.03696 to 0.02380, saving model to lens-digi.h5\n",
      "Epoch 8/1000\n",
      "63000/63000 [==============================] - 26s 419us/step - loss: 0.0218 - accuracy: 0.9943 - val_loss: 0.0369 - val_accuracy: 0.9884\n",
      "\n",
      "Epoch 00008: loss improved from 0.02380 to 0.02177, saving model to lens-digi.h5\n",
      "Epoch 9/1000\n",
      "63000/63000 [==============================] - 25s 391us/step - loss: 0.0208 - accuracy: 0.9947 - val_loss: 0.0370 - val_accuracy: 0.9884\n",
      "\n",
      "Epoch 00009: loss improved from 0.02177 to 0.02080, saving model to lens-digi.h5\n",
      "Epoch 10/1000\n",
      "63000/63000 [==============================] - 27s 435us/step - loss: 0.0191 - accuracy: 0.9955 - val_loss: 0.0368 - val_accuracy: 0.9887\n",
      "\n",
      "Epoch 00010: loss improved from 0.02080 to 0.01908, saving model to lens-digi.h5\n",
      "Epoch 11/1000\n",
      "63000/63000 [==============================] - 25s 391us/step - loss: 0.0190 - accuracy: 0.9955 - val_loss: 0.0368 - val_accuracy: 0.9886\n",
      "\n",
      "Epoch 00011: loss improved from 0.01908 to 0.01896, saving model to lens-digi.h5\n",
      "Epoch 12/1000\n",
      "63000/63000 [==============================] - 25s 390us/step - loss: 0.0188 - accuracy: 0.9956 - val_loss: 0.0368 - val_accuracy: 0.9886\n",
      "\n",
      "Epoch 00012: loss improved from 0.01896 to 0.01876, saving model to lens-digi.h5\n",
      "Epoch 13/1000\n",
      "63000/63000 [==============================] - 26s 407us/step - loss: 0.0188 - accuracy: 0.9956 - val_loss: 0.0368 - val_accuracy: 0.9883\n",
      "\n",
      "Epoch 00013: loss improved from 0.01876 to 0.01875, saving model to lens-digi.h5\n",
      "Epoch 14/1000\n",
      "63000/63000 [==============================] - 23s 372us/step - loss: 0.0187 - accuracy: 0.9956 - val_loss: 0.0368 - val_accuracy: 0.9883\n",
      "\n",
      "Epoch 00014: loss improved from 0.01875 to 0.01873, saving model to lens-digi.h5\n",
      "Epoch 15/1000\n",
      "63000/63000 [==============================] - 28s 443us/step - loss: 0.0187 - accuracy: 0.9956 - val_loss: 0.0368 - val_accuracy: 0.9883\n",
      "\n",
      "Epoch 00015: loss improved from 0.01873 to 0.01873, saving model to lens-digi.h5\n",
      "Epoch 16/1000\n",
      "63000/63000 [==============================] - 26s 416us/step - loss: 0.0187 - accuracy: 0.9956 - val_loss: 0.0368 - val_accuracy: 0.9883\n",
      "\n",
      "Epoch 00016: loss improved from 0.01873 to 0.01873, saving model to lens-digi.h5\n",
      "Epoch 17/1000\n",
      "63000/63000 [==============================] - 32s 512us/step - loss: 0.0187 - accuracy: 0.9956 - val_loss: 0.0368 - val_accuracy: 0.9883\n",
      "\n",
      "Epoch 00017: loss improved from 0.01873 to 0.01873, saving model to lens-digi.h5\n",
      "Epoch 18/1000\n",
      "63000/63000 [==============================] - 27s 433us/step - loss: 0.0187 - accuracy: 0.9956 - val_loss: 0.0368 - val_accuracy: 0.9883\n",
      "\n",
      "Epoch 00018: loss improved from 0.01873 to 0.01872, saving model to lens-digi.h5\n",
      "Epoch 19/1000\n",
      "63000/63000 [==============================] - 25s 392us/step - loss: 0.0187 - accuracy: 0.9956 - val_loss: 0.0368 - val_accuracy: 0.9883\n",
      "\n",
      "Epoch 00019: loss improved from 0.01872 to 0.01872, saving model to lens-digi.h5\n",
      "Epoch 20/1000\n",
      "63000/63000 [==============================] - 25s 400us/step - loss: 0.0187 - accuracy: 0.9956 - val_loss: 0.0368 - val_accuracy: 0.9883\n",
      "\n",
      "Epoch 00020: loss improved from 0.01872 to 0.01872, saving model to lens-digi.h5\n",
      "Epoch 21/1000\n",
      "63000/63000 [==============================] - 25s 402us/step - loss: 0.0187 - accuracy: 0.9956 - val_loss: 0.0368 - val_accuracy: 0.9883\n",
      "\n",
      "Epoch 00021: loss improved from 0.01872 to 0.01872, saving model to lens-digi.h5\n",
      "Epoch 22/1000\n",
      "63000/63000 [==============================] - 25s 403us/step - loss: 0.0187 - accuracy: 0.9956 - val_loss: 0.0368 - val_accuracy: 0.9883\n",
      "\n",
      "Epoch 00022: loss did not improve from 0.01872\n",
      "Epoch 23/1000\n",
      "63000/63000 [==============================] - 27s 427us/step - loss: 0.0187 - accuracy: 0.9956 - val_loss: 0.0368 - val_accuracy: 0.9883\n",
      "\n",
      "Epoch 00023: loss did not improve from 0.01872\n",
      "Epoch 24/1000\n",
      "63000/63000 [==============================] - 28s 442us/step - loss: 0.0187 - accuracy: 0.9956 - val_loss: 0.0368 - val_accuracy: 0.9883\n",
      "\n",
      "Epoch 00024: loss improved from 0.01872 to 0.01872, saving model to lens-digi.h5\n",
      "Epoch 25/1000\n",
      "63000/63000 [==============================] - 24s 388us/step - loss: 0.0187 - accuracy: 0.9956 - val_loss: 0.0368 - val_accuracy: 0.9883\n",
      "\n",
      "Epoch 00025: loss did not improve from 0.01872\n",
      "Epoch 26/1000\n",
      "63000/63000 [==============================] - 24s 387us/step - loss: 0.0187 - accuracy: 0.9956 - val_loss: 0.0368 - val_accuracy: 0.9883\n",
      "\n",
      "Epoch 00026: loss did not improve from 0.01872\n",
      "Epoch 27/1000\n",
      "63000/63000 [==============================] - 25s 393us/step - loss: 0.0187 - accuracy: 0.9956 - val_loss: 0.0368 - val_accuracy: 0.9883\n",
      "\n",
      "Epoch 00027: loss did not improve from 0.01872\n",
      "Epoch 28/1000\n",
      "63000/63000 [==============================] - 25s 392us/step - loss: 0.0187 - accuracy: 0.9956 - val_loss: 0.0368 - val_accuracy: 0.9883\n",
      "\n",
      "Epoch 00028: loss did not improve from 0.01872\n",
      "Epoch 29/1000\n",
      "63000/63000 [==============================] - 25s 398us/step - loss: 0.0187 - accuracy: 0.9956 - val_loss: 0.0368 - val_accuracy: 0.9883\n",
      "\n",
      "Epoch 00029: loss did not improve from 0.01872\n",
      "Epoch 00029: early stopping\n"
     ]
    }
   ],
   "source": [
    "history = model.fit(X_all, y_all, validation_split=0.1, epochs=1000, callbacks=[es, ckpt, rlp])"
   ]
  },
  {
   "cell_type": "code",
   "execution_count": 20,
   "metadata": {
    "ExecuteTime": {
     "end_time": "2020-06-01T05:39:27.566610Z",
     "start_time": "2020-06-01T05:39:26.757775Z"
    }
   },
   "outputs": [
    {
     "data": {
      "image/png": "[encoded data removed]",
      "text/plain": [
       "<Figure size 1440x864 with 2 Axes>"
      ]
     },
     "metadata": {
      "needs_background": "light"
     },
     "output_type": "display_data"
    }
   ],
   "source": [
    "fig, ax = plt.subplots(2, 1, figsize=(20, 12))\n",
    "\n",
    "fig.suptitle('Model Performance', fontsize=24) \n",
    "\n",
    "ax[0].plot(history.history['loss'], label='t-loss')\n",
    "ax[0].plot(history.history['val_loss'], label='v-loss')\n",
    "ax[0].set_title('Loss', fontsize=18)\n",
    "ax[0].set_ylabel('Loss')\n",
    "\n",
    "ax[1].plot(history.history['accuracy'], label='t-acc')\n",
    "ax[1].plot(history.history['val_accuracy'], label='v-acc')\n",
    "ax[1].set_title('Accuracy', fontsize=18)\n",
    "ax[1].set_ylabel('Accuracy')\n",
    "\n",
    "\n",
    "for i in range(2):\n",
    "    ax[i].grid()\n",
    "    ax[i].legend()\n",
    "    ax[i].set_xlabel('Epochs')\n",
    "    \n",
    "plt.savefig('Training.png')    "
   ]
  },
  {
   "cell_type": "code",
   "execution_count": null,
   "metadata": {},
   "outputs": [],
   "source": []
  }
 ],
 "metadata": {
  "kernelspec": {
   "display_name": "Python 3",
   "language": "python",
   "name": "python3"
  },
  "language_info": {
   "codemirror_mode": {
    "name": "ipython",
    "version": 3
   },
   "file_extension": ".py",
   "mimetype": "text/x-python",
   "name": "python",
   "nbconvert_exporter": "python",
   "pygments_lexer": "ipython3",
   "version": "3.7.7"
  },
  "toc": {
   "base_numbering": 1,
   "nav_menu": {},
   "number_sections": true,
   "sideBar": true,
   "skip_h1_title": false,
   "title_cell": "Table of Contents",
   "title_sidebar": "Contents",
   "toc_cell": false,
   "toc_position": {},
   "toc_section_display": true,
   "toc_window_display": false
  },
  "varInspector": {
   "cols": {
    "lenName": 16,
    "lenType": 16,
    "lenVar": 40
   },
   "kernels_config": {
    "python": {
     "delete_cmd_postfix": "",
     "delete_cmd_prefix": "del ",
     "library": "var_list.py",
     "varRefreshCmd": "print(var_dic_list())"
    },
    "r": {
     "delete_cmd_postfix": ") ",
     "delete_cmd_prefix": "rm(",
     "library": "var_list.r",
     "varRefreshCmd": "cat(var_dic_list()) "
    }
   },
   "types_to_exclude": [
    "module",
    "function",
    "builtin_function_or_method",
    "instance",
    "_Feature"
   ],
   "window_display": false
  }
 },
 "nbformat": 4,
 "nbformat_minor": 2
}
