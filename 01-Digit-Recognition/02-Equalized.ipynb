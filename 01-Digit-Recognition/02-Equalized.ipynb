{
 "cells": [
  {
   "cell_type": "markdown",
   "metadata": {},
   "source": [
    "# Libraries"
   ]
  },
  {
   "cell_type": "code",
   "execution_count": 1,
   "metadata": {
    "ExecuteTime": {
     "end_time": "2020-06-02T06:58:24.772762Z",
     "start_time": "2020-06-02T06:58:23.672714Z"
    }
   },
   "outputs": [],
   "source": [
    "import numpy as np\n",
    "import pandas as pd\n",
    "import matplotlib.pyplot as plt"
   ]
  },
  {
   "cell_type": "code",
   "execution_count": 2,
   "metadata": {
    "ExecuteTime": {
     "end_time": "2020-06-02T06:58:27.031607Z",
     "start_time": "2020-06-02T06:58:27.027619Z"
    }
   },
   "outputs": [],
   "source": [
    "import warnings\n",
    "warnings.filterwarnings(\"ignore\")"
   ]
  },
  {
   "cell_type": "code",
   "execution_count": 3,
   "metadata": {
    "ExecuteTime": {
     "end_time": "2020-06-02T06:58:27.430121Z",
     "start_time": "2020-06-02T06:58:27.396212Z"
    }
   },
   "outputs": [],
   "source": [
    "from cv2 import equalizeHist"
   ]
  },
  {
   "cell_type": "markdown",
   "metadata": {},
   "source": [
    "# Data"
   ]
  },
  {
   "cell_type": "code",
   "execution_count": 4,
   "metadata": {
    "ExecuteTime": {
     "end_time": "2020-06-02T06:58:31.567096Z",
     "start_time": "2020-06-02T06:58:28.054474Z"
    }
   },
   "outputs": [
    {
     "name": "stderr",
     "output_type": "stream",
     "text": [
      "Using TensorFlow backend.\n"
     ]
    }
   ],
   "source": [
    "from keras.datasets import mnist"
   ]
  },
  {
   "cell_type": "code",
   "execution_count": 5,
   "metadata": {
    "ExecuteTime": {
     "end_time": "2020-06-02T06:58:32.051061Z",
     "start_time": "2020-06-02T06:58:31.701210Z"
    }
   },
   "outputs": [],
   "source": [
    "(X_train, y_train), (X_test, y_test) = mnist.load_data()"
   ]
  },
  {
   "cell_type": "code",
   "execution_count": 6,
   "metadata": {
    "ExecuteTime": {
     "end_time": "2020-06-02T06:58:32.233515Z",
     "start_time": "2020-06-02T06:58:32.222543Z"
    },
    "cell_style": "split"
   },
   "outputs": [
    {
     "name": "stdout",
     "output_type": "stream",
     "text": [
      "Training Set\n",
      "60000\n",
      "(60000, 28, 28)\n",
      "(60000,)\n"
     ]
    }
   ],
   "source": [
    "print('Training Set')\n",
    "print(len(X_train))\n",
    "print(X_train.shape)\n",
    "print(y_train.shape)"
   ]
  },
  {
   "cell_type": "code",
   "execution_count": 7,
   "metadata": {
    "ExecuteTime": {
     "end_time": "2020-06-02T06:58:32.472389Z",
     "start_time": "2020-06-02T06:58:32.437483Z"
    },
    "cell_style": "split"
   },
   "outputs": [
    {
     "name": "stdout",
     "output_type": "stream",
     "text": [
      "Testing Set\n",
      "10000\n",
      "(10000, 28, 28)\n",
      "(10000,)\n"
     ]
    }
   ],
   "source": [
    "print('Testing Set')\n",
    "print(len(X_test))\n",
    "print(X_test.shape)\n",
    "print(y_test.shape)"
   ]
  },
  {
   "cell_type": "code",
   "execution_count": 8,
   "metadata": {
    "ExecuteTime": {
     "end_time": "2020-06-02T06:58:33.741879Z",
     "start_time": "2020-06-02T06:58:32.649915Z"
    }
   },
   "outputs": [
    {
     "data": {
      "image/png": "[encoded data removed]",
      "text/plain": [
       "<Figure size 1440x432 with 10 Axes>"
      ]
     },
     "metadata": {
      "needs_background": "light"
     },
     "output_type": "display_data"
    }
   ],
   "source": [
    "fig, ax = plt.subplots(1, 10, figsize=(20, 6))\n",
    "for i in range(10):\n",
    "    ax[i].imshow(X_train[i],cmap=plt.get_cmap('gray'))"
   ]
  },
  {
   "cell_type": "code",
   "execution_count": 9,
   "metadata": {
    "ExecuteTime": {
     "end_time": "2020-06-02T06:58:34.090144Z",
     "start_time": "2020-06-02T06:58:33.969955Z"
    }
   },
   "outputs": [],
   "source": [
    "X_train = 255 - X_train\n",
    "X_test = 255 - X_test"
   ]
  },
  {
   "cell_type": "code",
   "execution_count": 10,
   "metadata": {
    "ExecuteTime": {
     "end_time": "2020-06-02T06:58:35.494064Z",
     "start_time": "2020-06-02T06:58:34.311580Z"
    }
   },
   "outputs": [
    {
     "data": {
      "image/png": "[encoded data removed]",
      "text/plain": [
       "<Figure size 1440x432 with 10 Axes>"
      ]
     },
     "metadata": {
      "needs_background": "light"
     },
     "output_type": "display_data"
    }
   ],
   "source": [
    "fig, ax = plt.subplots(1, 10, figsize=(20, 6))\n",
    "for i in range(10):\n",
    "    ax[i].imshow(X_train[i],cmap=plt.get_cmap('gray'))"
   ]
  },
  {
   "cell_type": "code",
   "execution_count": 11,
   "metadata": {
    "ExecuteTime": {
     "end_time": "2020-06-02T06:58:36.219723Z",
     "start_time": "2020-06-02T06:58:35.714436Z"
    }
   },
   "outputs": [],
   "source": [
    "X_train_ = []\n",
    "for im in X_train:\n",
    "    X_train_.append(equalizeHist(im))\n",
    "    \n",
    "X_test_ = []\n",
    "for im in X_test:\n",
    "    X_test_.append(equalizeHist(im))   \n",
    "    \n",
    "X_train = np.array(X_train_)\n",
    "X_test = np.array(X_test_)\n",
    "\n",
    "del X_train_, X_test_"
   ]
  },
  {
   "cell_type": "code",
   "execution_count": 12,
   "metadata": {
    "ExecuteTime": {
     "end_time": "2020-06-02T06:58:36.688468Z",
     "start_time": "2020-06-02T06:58:36.449109Z"
    }
   },
   "outputs": [],
   "source": [
    "X_train = X_train.astype('float32')\n",
    "X_test = X_test.astype('float32')\n",
    "X_train /= 255.0\n",
    "X_test /= 255.0"
   ]
  },
  {
   "cell_type": "code",
   "execution_count": 13,
   "metadata": {
    "ExecuteTime": {
     "end_time": "2020-06-02T06:58:38.013345Z",
     "start_time": "2020-06-02T06:58:36.962735Z"
    }
   },
   "outputs": [
    {
     "data": {
      "image/png": "[encoded data removed]",
      "text/plain": [
       "<Figure size 1440x432 with 10 Axes>"
      ]
     },
     "metadata": {
      "needs_background": "light"
     },
     "output_type": "display_data"
    }
   ],
   "source": [
    "fig, ax = plt.subplots(1, 10, figsize=(20, 6))\n",
    "for i in range(10):\n",
    "    ax[i].imshow(X_train[i],cmap=plt.get_cmap('gray'))"
   ]
  },
  {
   "cell_type": "markdown",
   "metadata": {},
   "source": [
    "# Preparation"
   ]
  },
  {
   "cell_type": "code",
   "execution_count": 14,
   "metadata": {
    "ExecuteTime": {
     "end_time": "2020-06-02T06:58:46.609600Z",
     "start_time": "2020-06-02T06:58:46.605638Z"
    }
   },
   "outputs": [],
   "source": [
    "from keras.utils.np_utils import to_categorical"
   ]
  },
  {
   "cell_type": "code",
   "execution_count": 15,
   "metadata": {
    "ExecuteTime": {
     "end_time": "2020-06-02T06:58:47.174115Z",
     "start_time": "2020-06-02T06:58:47.165168Z"
    },
    "cell_style": "split"
   },
   "outputs": [
    {
     "data": {
      "text/plain": [
       "(60000, 28, 28, 1)"
      ]
     },
     "execution_count": 15,
     "metadata": {},
     "output_type": "execute_result"
    }
   ],
   "source": [
    "X_train = X_train.reshape(-1, 28, 28, 1)\n",
    "X_test = X_test.reshape(-1, 28, 28, 1)\n",
    "\n",
    "X_train.shape"
   ]
  },
  {
   "cell_type": "code",
   "execution_count": 16,
   "metadata": {
    "ExecuteTime": {
     "end_time": "2020-06-02T06:58:47.992474Z",
     "start_time": "2020-06-02T06:58:47.981502Z"
    },
    "cell_style": "split"
   },
   "outputs": [
    {
     "data": {
      "text/plain": [
       "(60000, 10)"
      ]
     },
     "execution_count": 16,
     "metadata": {},
     "output_type": "execute_result"
    }
   ],
   "source": [
    "y_train = to_categorical(y_train)\n",
    "y_test = to_categorical(y_test)\n",
    "\n",
    "y_train.shape"
   ]
  },
  {
   "cell_type": "code",
   "execution_count": 17,
   "metadata": {
    "ExecuteTime": {
     "end_time": "2020-06-02T06:58:48.827125Z",
     "start_time": "2020-06-02T06:58:48.636124Z"
    }
   },
   "outputs": [],
   "source": [
    "X_all = np.concatenate((X_train, X_test))\n",
    "y_all = np.concatenate((y_train,  y_test))"
   ]
  },
  {
   "cell_type": "markdown",
   "metadata": {},
   "source": [
    "# Model Fitting"
   ]
  },
  {
   "cell_type": "code",
   "execution_count": 18,
   "metadata": {
    "ExecuteTime": {
     "end_time": "2020-06-02T06:58:50.338183Z",
     "start_time": "2020-06-02T06:58:49.828532Z"
    }
   },
   "outputs": [],
   "source": [
    "from sklearn.metrics import confusion_matrix, classification_report"
   ]
  },
  {
   "cell_type": "code",
   "execution_count": 19,
   "metadata": {
    "ExecuteTime": {
     "end_time": "2020-06-02T06:58:50.729588Z",
     "start_time": "2020-06-02T06:58:50.724597Z"
    }
   },
   "outputs": [],
   "source": [
    "from keras.models import Sequential\n",
    "from keras.layers import Dense, Dropout, Conv2D, Flatten, MaxPooling2D\n",
    "from keras.callbacks import EarlyStopping, ModelCheckpoint, ReduceLROnPlateau"
   ]
  },
  {
   "cell_type": "markdown",
   "metadata": {},
   "source": [
    "## Convolutional Neural Network"
   ]
  },
  {
   "cell_type": "code",
   "execution_count": 20,
   "metadata": {
    "ExecuteTime": {
     "end_time": "2020-06-02T06:59:20.468699Z",
     "start_time": "2020-06-02T06:59:20.213371Z"
    }
   },
   "outputs": [
    {
     "name": "stdout",
     "output_type": "stream",
     "text": [
      "Model: \"sequential_1\"\n",
      "_________________________________________________________________\n",
      "Layer (type)                 Output Shape              Param #   \n",
      "=================================================================\n",
      "conv2d_1 (Conv2D)            (None, 26, 26, 32)        320       \n",
      "_________________________________________________________________\n",
      "max_pooling2d_1 (MaxPooling2 (None, 13, 13, 32)        0         \n",
      "_________________________________________________________________\n",
      "flatten_1 (Flatten)          (None, 5408)              0         \n",
      "_________________________________________________________________\n",
      "dense_1 (Dense)              (None, 10)                54090     \n",
      "=================================================================\n",
      "Total params: 54,410\n",
      "Trainable params: 54,410\n",
      "Non-trainable params: 0\n",
      "_________________________________________________________________\n"
     ]
    }
   ],
   "source": [
    "es = EarlyStopping(monitor='loss', mode='min', verbose=1, patience=5)\n",
    "filepath = \"lens-digi-2.h5\"\n",
    "ckpt = ModelCheckpoint(filepath, monitor='loss', verbose=1, save_best_only=True, mode='min')\n",
    "rlp = ReduceLROnPlateau(patience=2)\n",
    "\n",
    "def cnn(image_size):\n",
    "    classifier = Sequential()\n",
    "    classifier.add(Conv2D(32, (3, 3), input_shape = (*image_size, 1), activation = 'relu'))\n",
    "    classifier.add(MaxPooling2D(pool_size=(2, 2)))\n",
    "    classifier.add(Flatten())\n",
    "    classifier.add(Dense(units = 10, activation = 'softmax'))\n",
    "    classifier.compile(optimizer = 'adam', loss = 'categorical_crossentropy', metrics = ['accuracy'])\n",
    "    classifier.summary()\n",
    "    return classifier\n",
    "\n",
    "\n",
    "model = cnn((28,28))"
   ]
  },
  {
   "cell_type": "code",
   "execution_count": 21,
   "metadata": {
    "ExecuteTime": {
     "end_time": "2020-06-02T06:59:24.103470Z",
     "start_time": "2020-06-02T06:59:23.742411Z"
    }
   },
   "outputs": [
    {
     "data": {
      "image/png": "[encoded data removed]",
      "text/plain": [
       "<IPython.core.display.Image object>"
      ]
     },
     "execution_count": 21,
     "metadata": {},
     "output_type": "execute_result"
    }
   ],
   "source": [
    "from keras.utils.vis_utils import plot_model\n",
    "plot_model(model, to_file='CNN2.png', show_shapes=True, show_layer_names=True)"
   ]
  },
  {
   "cell_type": "code",
   "execution_count": 22,
   "metadata": {
    "ExecuteTime": {
     "end_time": "2020-06-02T07:12:24.588930Z",
     "start_time": "2020-06-02T06:59:27.205613Z"
    },
    "scrolled": true
   },
   "outputs": [
    {
     "name": "stdout",
     "output_type": "stream",
     "text": [
      "Train on 63000 samples, validate on 7000 samples\n",
      "Epoch 1/1000\n",
      "63000/63000 [==============================] - 26s 420us/step - loss: 0.2508 - accuracy: 0.9297 - val_loss: 0.1084 - val_accuracy: 0.9684\n",
      "\n",
      "Epoch 00001: loss improved from inf to 0.25075, saving model to lens-digi-2.h5\n",
      "Epoch 2/1000\n",
      "63000/63000 [==============================] - 28s 441us/step - loss: 0.1012 - accuracy: 0.9704 - val_loss: 0.0712 - val_accuracy: 0.9787\n",
      "\n",
      "Epoch 00002: loss improved from 0.25075 to 0.10115, saving model to lens-digi-2.h5\n",
      "Epoch 3/1000\n",
      "63000/63000 [==============================] - 25s 400us/step - loss: 0.0742 - accuracy: 0.9778 - val_loss: 0.0640 - val_accuracy: 0.9809\n",
      "\n",
      "Epoch 00003: loss improved from 0.10115 to 0.07418, saving model to lens-digi-2.h5\n",
      "Epoch 4/1000\n",
      "63000/63000 [==============================] - 25s 390us/step - loss: 0.0604 - accuracy: 0.9821 - val_loss: 0.0668 - val_accuracy: 0.9791\n",
      "\n",
      "Epoch 00004: loss improved from 0.07418 to 0.06041, saving model to lens-digi-2.h5\n",
      "Epoch 5/1000\n",
      "63000/63000 [==============================] - 24s 387us/step - loss: 0.0515 - accuracy: 0.9841 - val_loss: 0.0594 - val_accuracy: 0.9817\n",
      "\n",
      "Epoch 00005: loss improved from 0.06041 to 0.05148, saving model to lens-digi-2.h5\n",
      "Epoch 6/1000\n",
      "63000/63000 [==============================] - 24s 388us/step - loss: 0.0448 - accuracy: 0.9862 - val_loss: 0.0546 - val_accuracy: 0.9824\n",
      "\n",
      "Epoch 00006: loss improved from 0.05148 to 0.04483, saving model to lens-digi-2.h5\n",
      "Epoch 7/1000\n",
      "63000/63000 [==============================] - 25s 391us/step - loss: 0.0388 - accuracy: 0.9879 - val_loss: 0.0615 - val_accuracy: 0.9824\n",
      "\n",
      "Epoch 00007: loss improved from 0.04483 to 0.03883, saving model to lens-digi-2.h5\n",
      "Epoch 8/1000\n",
      "63000/63000 [==============================] - 24s 388us/step - loss: 0.0333 - accuracy: 0.9898 - val_loss: 0.0649 - val_accuracy: 0.9807\n",
      "\n",
      "Epoch 00008: loss improved from 0.03883 to 0.03330, saving model to lens-digi-2.h5\n",
      "Epoch 9/1000\n",
      "63000/63000 [==============================] - 25s 391us/step - loss: 0.0207 - accuracy: 0.9946 - val_loss: 0.0521 - val_accuracy: 0.9850\n",
      "\n",
      "Epoch 00009: loss improved from 0.03330 to 0.02068, saving model to lens-digi-2.h5\n",
      "Epoch 10/1000\n",
      "63000/63000 [==============================] - 25s 391us/step - loss: 0.0184 - accuracy: 0.9957 - val_loss: 0.0526 - val_accuracy: 0.9844\n",
      "\n",
      "Epoch 00010: loss improved from 0.02068 to 0.01844, saving model to lens-digi-2.h5\n",
      "Epoch 11/1000\n",
      "63000/63000 [==============================] - 25s 393us/step - loss: 0.0175 - accuracy: 0.9960 - val_loss: 0.0520 - val_accuracy: 0.9847\n",
      "\n",
      "Epoch 00011: loss improved from 0.01844 to 0.01746, saving model to lens-digi-2.h5\n",
      "Epoch 12/1000\n",
      "63000/63000 [==============================] - 25s 390us/step - loss: 0.0166 - accuracy: 0.9962 - val_loss: 0.0534 - val_accuracy: 0.9847\n",
      "\n",
      "Epoch 00012: loss improved from 0.01746 to 0.01660, saving model to lens-digi-2.h5\n",
      "Epoch 13/1000\n",
      "63000/63000 [==============================] - 24s 387us/step - loss: 0.0160 - accuracy: 0.9965 - val_loss: 0.0540 - val_accuracy: 0.9839\n",
      "\n",
      "Epoch 00013: loss improved from 0.01660 to 0.01600, saving model to lens-digi-2.h5\n",
      "Epoch 14/1000\n",
      "63000/63000 [==============================] - 26s 407us/step - loss: 0.0146 - accuracy: 0.9969 - val_loss: 0.0531 - val_accuracy: 0.9844\n",
      "\n",
      "Epoch 00014: loss improved from 0.01600 to 0.01461, saving model to lens-digi-2.h5\n",
      "Epoch 15/1000\n",
      "63000/63000 [==============================] - 26s 408us/step - loss: 0.0144 - accuracy: 0.9970 - val_loss: 0.0535 - val_accuracy: 0.9839\n",
      "\n",
      "Epoch 00015: loss improved from 0.01461 to 0.01441, saving model to lens-digi-2.h5\n",
      "Epoch 16/1000\n",
      "63000/63000 [==============================] - 27s 426us/step - loss: 0.0143 - accuracy: 0.9970 - val_loss: 0.0534 - val_accuracy: 0.9843\n",
      "\n",
      "Epoch 00016: loss improved from 0.01441 to 0.01428, saving model to lens-digi-2.h5\n",
      "Epoch 17/1000\n",
      "63000/63000 [==============================] - 24s 383us/step - loss: 0.0143 - accuracy: 0.9970 - val_loss: 0.0533 - val_accuracy: 0.9843\n",
      "\n",
      "Epoch 00017: loss improved from 0.01428 to 0.01425, saving model to lens-digi-2.h5\n",
      "Epoch 18/1000\n",
      "63000/63000 [==============================] - 25s 391us/step - loss: 0.0142 - accuracy: 0.9970 - val_loss: 0.0533 - val_accuracy: 0.9843\n",
      "\n",
      "Epoch 00018: loss improved from 0.01425 to 0.01423, saving model to lens-digi-2.h5\n",
      "Epoch 19/1000\n",
      "63000/63000 [==============================] - 24s 382us/step - loss: 0.0142 - accuracy: 0.9970 - val_loss: 0.0533 - val_accuracy: 0.9843\n",
      "\n",
      "Epoch 00019: loss improved from 0.01423 to 0.01423, saving model to lens-digi-2.h5\n",
      "Epoch 20/1000\n",
      "63000/63000 [==============================] - 24s 383us/step - loss: 0.0142 - accuracy: 0.9970 - val_loss: 0.0533 - val_accuracy: 0.9843\n",
      "\n",
      "Epoch 00020: loss improved from 0.01423 to 0.01423, saving model to lens-digi-2.h5\n",
      "Epoch 21/1000\n",
      "63000/63000 [==============================] - 24s 386us/step - loss: 0.0142 - accuracy: 0.9970 - val_loss: 0.0533 - val_accuracy: 0.9843\n",
      "\n",
      "Epoch 00021: loss improved from 0.01423 to 0.01423, saving model to lens-digi-2.h5\n",
      "Epoch 22/1000\n",
      "63000/63000 [==============================] - 25s 405us/step - loss: 0.0142 - accuracy: 0.9970 - val_loss: 0.0533 - val_accuracy: 0.9843\n",
      "\n",
      "Epoch 00022: loss improved from 0.01423 to 0.01423, saving model to lens-digi-2.h5\n",
      "Epoch 23/1000\n",
      "63000/63000 [==============================] - 25s 391us/step - loss: 0.0142 - accuracy: 0.9970 - val_loss: 0.0533 - val_accuracy: 0.9843\n",
      "\n",
      "Epoch 00023: loss improved from 0.01423 to 0.01423, saving model to lens-digi-2.h5\n",
      "Epoch 24/1000\n",
      "63000/63000 [==============================] - 25s 392us/step - loss: 0.0142 - accuracy: 0.9970 - val_loss: 0.0533 - val_accuracy: 0.9843\n",
      "\n",
      "Epoch 00024: loss improved from 0.01423 to 0.01423, saving model to lens-digi-2.h5\n",
      "Epoch 25/1000\n",
      "63000/63000 [==============================] - 25s 396us/step - loss: 0.0142 - accuracy: 0.9970 - val_loss: 0.0533 - val_accuracy: 0.9843\n",
      "\n",
      "Epoch 00025: loss did not improve from 0.01423\n",
      "Epoch 26/1000\n",
      "63000/63000 [==============================] - 25s 395us/step - loss: 0.0142 - accuracy: 0.9970 - val_loss: 0.0533 - val_accuracy: 0.9843\n",
      "\n",
      "Epoch 00026: loss improved from 0.01423 to 0.01423, saving model to lens-digi-2.h5\n",
      "Epoch 27/1000\n",
      "63000/63000 [==============================] - 25s 401us/step - loss: 0.0142 - accuracy: 0.9970 - val_loss: 0.0533 - val_accuracy: 0.9843\n",
      "\n",
      "Epoch 00027: loss did not improve from 0.01423\n",
      "Epoch 28/1000\n",
      "63000/63000 [==============================] - 25s 392us/step - loss: 0.0142 - accuracy: 0.9970 - val_loss: 0.0533 - val_accuracy: 0.9843\n",
      "\n",
      "Epoch 00028: loss did not improve from 0.01423\n",
      "Epoch 29/1000\n",
      "63000/63000 [==============================] - 25s 399us/step - loss: 0.0142 - accuracy: 0.9970 - val_loss: 0.0533 - val_accuracy: 0.9843\n",
      "\n",
      "Epoch 00029: loss did not improve from 0.01423\n",
      "Epoch 30/1000\n",
      "63000/63000 [==============================] - 24s 388us/step - loss: 0.0142 - accuracy: 0.9970 - val_loss: 0.0533 - val_accuracy: 0.9843\n",
      "\n",
      "Epoch 00030: loss did not improve from 0.01423\n",
      "Epoch 31/1000\n",
      "63000/63000 [==============================] - 24s 387us/step - loss: 0.0142 - accuracy: 0.9970 - val_loss: 0.0533 - val_accuracy: 0.9843\n",
      "\n",
      "Epoch 00031: loss did not improve from 0.01423\n",
      "Epoch 00031: early stopping\n"
     ]
    }
   ],
   "source": [
    "history = model.fit(X_all, y_all, validation_split=0.1, epochs=1000, callbacks=[es, ckpt, rlp])"
   ]
  },
  {
   "cell_type": "code",
   "execution_count": 23,
   "metadata": {
    "ExecuteTime": {
     "end_time": "2020-06-02T07:12:25.632227Z",
     "start_time": "2020-06-02T07:12:24.927034Z"
    }
   },
   "outputs": [
    {
     "data": {
      "image/png": "[encoded data removed]",
      "text/plain": [
       "<Figure size 1440x864 with 2 Axes>"
      ]
     },
     "metadata": {
      "needs_background": "light"
     },
     "output_type": "display_data"
    }
   ],
   "source": [
    "fig, ax = plt.subplots(2, 1, figsize=(20, 12))\n",
    "\n",
    "fig.suptitle('Model Performance', fontsize=24) \n",
    "\n",
    "ax[0].plot(history.history['loss'], label='t-loss')\n",
    "ax[0].plot(history.history['val_loss'], label='v-loss')\n",
    "ax[0].set_title('Loss', fontsize=18)\n",
    "ax[0].set_ylabel('Loss')\n",
    "\n",
    "ax[1].plot(history.history['accuracy'], label='t-acc')\n",
    "ax[1].plot(history.history['val_accuracy'], label='v-acc')\n",
    "ax[1].set_title('Accuracy', fontsize=18)\n",
    "ax[1].set_ylabel('Accuracy')\n",
    "\n",
    "\n",
    "for i in range(2):\n",
    "    ax[i].grid()\n",
    "    ax[i].legend()\n",
    "    ax[i].set_xlabel('Epochs')\n",
    "    \n",
    "plt.savefig('Training2.png')    "
   ]
  },
  {
   "cell_type": "code",
   "execution_count": null,
   "metadata": {},
   "outputs": [],
   "source": []
  }
 ],
 "metadata": {
  "kernelspec": {
   "display_name": "Python 3",
   "language": "python",
   "name": "python3"
  },
  "toc": {
   "base_numbering": 1,
   "nav_menu": {},
   "number_sections": true,
   "sideBar": true,
   "skip_h1_title": false,
   "title_cell": "Table of Contents",
   "title_sidebar": "Contents",
   "toc_cell": false,
   "toc_position": {},
   "toc_section_display": true,
   "toc_window_display": false
  },
  "varInspector": {
   "cols": {
    "lenName": 16,
    "lenType": 16,
    "lenVar": 40
   },
   "kernels_config": {
    "python": {
     "delete_cmd_postfix": "",
     "delete_cmd_prefix": "del ",
     "library": "var_list.py",
     "varRefreshCmd": "print(var_dic_list())"
    },
    "r": {
     "delete_cmd_postfix": ") ",
     "delete_cmd_prefix": "rm(",
     "library": "var_list.r",
     "varRefreshCmd": "cat(var_dic_list()) "
    }
   },
   "types_to_exclude": [
    "module",
    "function",
    "builtin_function_or_method",
    "instance",
    "_Feature"
   ],
   "window_display": false
  }
 },
 "nbformat": 4,
 "nbformat_minor": 2
}
