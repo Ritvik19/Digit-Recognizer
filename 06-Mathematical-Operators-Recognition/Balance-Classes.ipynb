{
 "cells": [
  {
   "cell_type": "code",
   "execution_count": 1,
   "metadata": {
    "ExecuteTime": {
     "end_time": "2020-06-23T18:55:35.283085Z",
     "start_time": "2020-06-23T18:55:07.238118Z"
    }
   },
   "outputs": [],
   "source": [
    "import os, random\n",
    "import numpy as np\n",
    "import matplotlib.pyplot as plt\n",
    "from tqdm.auto import tqdm\n",
    "from tensorflow.keras.preprocessing.image import ImageDataGenerator"
   ]
  },
  {
   "cell_type": "code",
   "execution_count": 2,
   "metadata": {
    "ExecuteTime": {
     "end_time": "2020-06-23T18:55:35.292991Z",
     "start_time": "2020-06-23T18:55:35.286039Z"
    }
   },
   "outputs": [],
   "source": [
    "dataaug = ImageDataGenerator(\n",
    "    rotation_range=5, \n",
    "    zoom_range = 0.05,\n",
    "    width_shift_range=0.05, \n",
    "    height_shift_range=0.05,\n",
    ")"
   ]
  },
  {
   "cell_type": "code",
   "execution_count": 3,
   "metadata": {
    "ExecuteTime": {
     "end_time": "2020-06-23T18:55:35.418307Z",
     "start_time": "2020-06-23T18:55:35.295984Z"
    }
   },
   "outputs": [],
   "source": [
    "def balance_class(source_directory, target_directory, imagegen_obj, target_size=None, cmap='viridis'):\n",
    "    \n",
    "    class_examples = []\n",
    "    os.mkdir(target_directory)\n",
    "    for directory in os.listdir(source_directory):\n",
    "        os.mkdir(os.path.join(target_directory, directory))\n",
    "        class_examples.append(len(os.listdir(os.path.join(source_directory, directory))))\n",
    "    \n",
    "    print('Class Distribution:', class_examples)\n",
    "    \n",
    "    if target_size == None:\n",
    "        target_size = max(class_examples)\n",
    "        \n",
    "    for i, directory in enumerate(os.listdir(source_directory)):\n",
    "        dest_dir = os.path.join(target_directory, directory)\n",
    "        if target_size > class_examples[i]:        \n",
    "            q, r = divmod(target_size, class_examples[i])\n",
    "            q, r = q-1, r/class_examples[i]\n",
    "            for imgpath in tqdm(os.listdir(os.path.join(source_directory, directory))):\n",
    "                filename, file_extension = os.path.splitext(imgpath)\n",
    "                img = plt.imread(os.path.join(source_directory, directory, imgpath))\n",
    "                plt.imsave(os.path.join(dest_dir, imgpath), img, cmap=cmap)\n",
    "                for i in range(q):\n",
    "                    if cmap == 'gray':\n",
    "                        aug_img = np.squeeze(dataaug.random_transform(np.expand_dims(img, axis=2)))\n",
    "                    else:\n",
    "                        aug_img = imagegen_obj.random_transform(img)\n",
    "                    plt.imsave(os.path.join(dest_dir, f\"{filename}-{i+1}{file_extension}\"), aug_img, cmap=cmap)\n",
    "                prob = random.random()\n",
    "                if prob <= r:\n",
    "                    if cmap == 'gray':\n",
    "                        aug_img = np.squeeze(dataaug.random_transform(np.expand_dims(img, axis=2)))\n",
    "                    else:\n",
    "                        aug_img = imagegen_obj.random_transform(img)\n",
    "                    plt.imsave(os.path.join(dest_dir, f\"{filename}-{0}{file_extension}\"), aug_img, cmap=cmap)\n",
    "        else:\n",
    "            r = target_size/class_examples[i]\n",
    "            for imgpath in tqdm(os.listdir(os.path.join(source_directory, directory))):\n",
    "                filename, file_extension = os.path.splitext(imgpath)\n",
    "                img = plt.imread(os.path.join(source_directory, directory, imgpath))\n",
    "                prob = random.random()\n",
    "                if prob <= r:\n",
    "                    plt.imsave(os.path.join(dest_dir, imgpath), img, cmap=cmap)\n",
    "    class_examples_updated = []\n",
    "    for directory in os.listdir(target_directory):\n",
    "        class_examples_updated.append(len(os.listdir(os.path.join(target_directory, directory))))   \n",
    "    print('Updated Class Distribution:', class_examples_updated)"
   ]
  },
  {
   "cell_type": "code",
   "execution_count": 4,
   "metadata": {
    "ExecuteTime": {
     "end_time": "2020-06-23T19:08:55.289251Z",
     "start_time": "2020-06-23T18:55:35.422295Z"
    }
   },
   "outputs": [
    {
     "name": "stdout",
     "output_type": "stream",
     "text": [
      "Class Distribution: [14294, 14355, 25112, 1067, 13104, 3251, 33997]\n"
     ]
    },
    {
     "data": {
      "application/vnd.jupyter.widget-view+json": {
       "model_id": "ae9d60e5d4cf4cee80a26972ce579305",
       "version_major": 2,
       "version_minor": 0
      },
      "text/plain": [
       "HBox(children=(FloatProgress(value=0.0, max=14294.0), HTML(value='')))"
      ]
     },
     "metadata": {},
     "output_type": "display_data"
    },
    {
     "name": "stdout",
     "output_type": "stream",
     "text": [
      "\n"
     ]
    },
    {
     "data": {
      "application/vnd.jupyter.widget-view+json": {
       "model_id": "940bf9c5b5ce4ea8b0ecec9f41d4a66f",
       "version_major": 2,
       "version_minor": 0
      },
      "text/plain": [
       "HBox(children=(FloatProgress(value=0.0, max=14355.0), HTML(value='')))"
      ]
     },
     "metadata": {},
     "output_type": "display_data"
    },
    {
     "name": "stdout",
     "output_type": "stream",
     "text": [
      "\n"
     ]
    },
    {
     "data": {
      "application/vnd.jupyter.widget-view+json": {
       "model_id": "5b43d0c27a654270995aa232e8cfd139",
       "version_major": 2,
       "version_minor": 0
      },
      "text/plain": [
       "HBox(children=(FloatProgress(value=0.0, max=25112.0), HTML(value='')))"
      ]
     },
     "metadata": {},
     "output_type": "display_data"
    },
    {
     "name": "stdout",
     "output_type": "stream",
     "text": [
      "\n"
     ]
    },
    {
     "data": {
      "application/vnd.jupyter.widget-view+json": {
       "model_id": "6e068a81d1c542cdaf87b17410654b43",
       "version_major": 2,
       "version_minor": 0
      },
      "text/plain": [
       "HBox(children=(FloatProgress(value=0.0, max=1067.0), HTML(value='')))"
      ]
     },
     "metadata": {},
     "output_type": "display_data"
    },
    {
     "name": "stdout",
     "output_type": "stream",
     "text": [
      "\n"
     ]
    },
    {
     "data": {
      "application/vnd.jupyter.widget-view+json": {
       "model_id": "ee7553c9f91b4608ab1c2b0af40574ac",
       "version_major": 2,
       "version_minor": 0
      },
      "text/plain": [
       "HBox(children=(FloatProgress(value=0.0, max=13104.0), HTML(value='')))"
      ]
     },
     "metadata": {},
     "output_type": "display_data"
    },
    {
     "name": "stdout",
     "output_type": "stream",
     "text": [
      "\n"
     ]
    },
    {
     "data": {
      "application/vnd.jupyter.widget-view+json": {
       "model_id": "5050e4046b5d4e2fae7e789b11023057",
       "version_major": 2,
       "version_minor": 0
      },
      "text/plain": [
       "HBox(children=(FloatProgress(value=0.0, max=3251.0), HTML(value='')))"
      ]
     },
     "metadata": {},
     "output_type": "display_data"
    },
    {
     "name": "stdout",
     "output_type": "stream",
     "text": [
      "\n"
     ]
    },
    {
     "data": {
      "application/vnd.jupyter.widget-view+json": {
       "model_id": "a5ab1e9b2da14c668cf05aadc1bcbc63",
       "version_major": 2,
       "version_minor": 0
      },
      "text/plain": [
       "HBox(children=(FloatProgress(value=0.0, max=33997.0), HTML(value='')))"
      ]
     },
     "metadata": {},
     "output_type": "display_data"
    },
    {
     "name": "stdout",
     "output_type": "stream",
     "text": [
      "\n",
      "Updated Class Distribution: [7008, 7116, 6973, 7030, 6958, 6986, 6951]\n"
     ]
    }
   ],
   "source": [
    "balance_class(\n",
    "    source_directory='../Data/MathSymbols/', target_directory='../Data/MathSymbols-balanced/',\n",
    "    imagegen_obj=dataaug, target_size=7000, cmap='gray'\n",
    ") "
   ]
  },
  {
   "cell_type": "code",
   "execution_count": null,
   "metadata": {},
   "outputs": [],
   "source": []
  }
 ],
 "metadata": {
  "kernelspec": {
   "display_name": "Python 3",
   "language": "python",
   "name": "python3"
  },
  "language_info": {
   "codemirror_mode": {
    "name": "ipython",
    "version": 3
   },
   "file_extension": ".py",
   "mimetype": "text/x-python",
   "name": "python",
   "nbconvert_exporter": "python",
   "pygments_lexer": "ipython3",
   "version": "3.7.7"
  },
  "toc": {
   "base_numbering": 1,
   "nav_menu": {},
   "number_sections": true,
   "sideBar": true,
   "skip_h1_title": false,
   "title_cell": "Table of Contents",
   "title_sidebar": "Contents",
   "toc_cell": false,
   "toc_position": {},
   "toc_section_display": true,
   "toc_window_display": false
  },
  "varInspector": {
   "cols": {
    "lenName": 16,
    "lenType": 16,
    "lenVar": 40
   },
   "kernels_config": {
    "python": {
     "delete_cmd_postfix": "",
     "delete_cmd_prefix": "del ",
     "library": "var_list.py",
     "varRefreshCmd": "print(var_dic_list())"
    },
    "r": {
     "delete_cmd_postfix": ") ",
     "delete_cmd_prefix": "rm(",
     "library": "var_list.r",
     "varRefreshCmd": "cat(var_dic_list()) "
    }
   },
   "types_to_exclude": [
    "module",
    "function",
    "builtin_function_or_method",
    "instance",
    "_Feature"
   ],
   "window_display": false
  }
 },
 "nbformat": 4,
 "nbformat_minor": 4
}
