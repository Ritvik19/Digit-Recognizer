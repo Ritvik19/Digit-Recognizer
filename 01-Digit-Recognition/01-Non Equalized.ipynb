{
 "cells": [
  {
   "cell_type": "markdown",
   "metadata": {},
   "source": [
    "# Libraries"
   ]
  },
  {
   "cell_type": "code",
   "execution_count": 1,
   "metadata": {
    "ExecuteTime": {
     "end_time": "2020-06-02T06:41:22.245808Z",
     "start_time": "2020-06-02T06:41:21.174933Z"
    }
   },
   "outputs": [],
   "source": [
    "import numpy as np\n",
    "import pandas as pd\n",
    "import matplotlib.pyplot as plt"
   ]
  },
  {
   "cell_type": "code",
   "execution_count": 2,
   "metadata": {
    "ExecuteTime": {
     "end_time": "2020-06-02T06:41:22.252731Z",
     "start_time": "2020-06-02T06:41:22.247742Z"
    }
   },
   "outputs": [],
   "source": [
    "import warnings\n",
    "warnings.filterwarnings(\"ignore\")"
   ]
  },
  {
   "cell_type": "markdown",
   "metadata": {},
   "source": [
    "# Data"
   ]
  },
  {
   "cell_type": "code",
   "execution_count": 3,
   "metadata": {
    "ExecuteTime": {
     "end_time": "2020-06-02T06:41:25.983583Z",
     "start_time": "2020-06-02T06:41:22.256719Z"
    }
   },
   "outputs": [
    {
     "name": "stderr",
     "output_type": "stream",
     "text": [
      "Using TensorFlow backend.\n"
     ]
    }
   ],
   "source": [
    "from keras.datasets import mnist"
   ]
  },
  {
   "cell_type": "code",
   "execution_count": 4,
   "metadata": {
    "ExecuteTime": {
     "end_time": "2020-06-02T06:41:26.354691Z",
     "start_time": "2020-06-02T06:41:25.986511Z"
    }
   },
   "outputs": [],
   "source": [
    "(X_train, y_train), (X_test, y_test) = mnist.load_data()"
   ]
  },
  {
   "cell_type": "code",
   "execution_count": 5,
   "metadata": {
    "ExecuteTime": {
     "end_time": "2020-06-02T06:41:26.362609Z",
     "start_time": "2020-06-02T06:41:26.356628Z"
    },
    "cell_style": "split"
   },
   "outputs": [
    {
     "name": "stdout",
     "output_type": "stream",
     "text": [
      "Training Set\n",
      "60000\n",
      "(60000, 28, 28)\n",
      "(60000,)\n"
     ]
    }
   ],
   "source": [
    "print('Training Set')\n",
    "print(len(X_train))\n",
    "print(X_train.shape)\n",
    "print(y_train.shape)"
   ]
  },
  {
   "cell_type": "code",
   "execution_count": 6,
   "metadata": {
    "ExecuteTime": {
     "end_time": "2020-06-02T06:41:26.538536Z",
     "start_time": "2020-06-02T06:41:26.365602Z"
    },
    "cell_style": "split"
   },
   "outputs": [
    {
     "name": "stdout",
     "output_type": "stream",
     "text": [
      "Testing Set\n",
      "10000\n",
      "(10000, 28, 28)\n",
      "(10000,)\n"
     ]
    }
   ],
   "source": [
    "print('Testing Set')\n",
    "print(len(X_test))\n",
    "print(X_test.shape)\n",
    "print(y_test.shape)"
   ]
  },
  {
   "cell_type": "code",
   "execution_count": 7,
   "metadata": {
    "ExecuteTime": {
     "end_time": "2020-06-02T06:41:27.684769Z",
     "start_time": "2020-06-02T06:41:26.546455Z"
    }
   },
   "outputs": [
    {
     "data": {
      "image/png": "[encoded data removed]",
      "text/plain": [
       "<Figure size 1440x432 with 10 Axes>"
      ]
     },
     "metadata": {
      "needs_background": "light"
     },
     "output_type": "display_data"
    }
   ],
   "source": [
    "fig, ax = plt.subplots(1, 10, figsize=(20, 6))\n",
    "for i in range(10):\n",
    "    ax[i].imshow(X_train[i],cmap=plt.get_cmap('gray'))"
   ]
  },
  {
   "cell_type": "code",
   "execution_count": 8,
   "metadata": {
    "ExecuteTime": {
     "end_time": "2020-06-02T06:41:27.787502Z",
     "start_time": "2020-06-02T06:41:27.690752Z"
    }
   },
   "outputs": [],
   "source": [
    "X_train = 255 - X_train\n",
    "X_test = 255 - X_test"
   ]
  },
  {
   "cell_type": "code",
   "execution_count": 9,
   "metadata": {
    "ExecuteTime": {
     "end_time": "2020-06-02T06:41:28.006595Z",
     "start_time": "2020-06-02T06:41:27.790487Z"
    }
   },
   "outputs": [],
   "source": [
    "X_train = X_train.astype('float32')\n",
    "X_test = X_test.astype('float32')\n",
    "X_train /= 255.0\n",
    "X_test /= 255.0"
   ]
  },
  {
   "cell_type": "code",
   "execution_count": 10,
   "metadata": {
    "ExecuteTime": {
     "end_time": "2020-06-02T06:41:29.312358Z",
     "start_time": "2020-06-02T06:41:28.010550Z"
    }
   },
   "outputs": [
    {
     "data": {
      "image/png": "[encoded data removed]",
      "text/plain": [
       "<Figure size 1440x432 with 10 Axes>"
      ]
     },
     "metadata": {
      "needs_background": "light"
     },
     "output_type": "display_data"
    }
   ],
   "source": [
    "fig, ax = plt.subplots(1, 10, figsize=(20, 6))\n",
    "for i in range(10):\n",
    "    ax[i].imshow(X_train[i],cmap=plt.get_cmap('gray'))"
   ]
  },
  {
   "cell_type": "markdown",
   "metadata": {},
   "source": [
    "# Preprocessing"
   ]
  },
  {
   "cell_type": "code",
   "execution_count": 11,
   "metadata": {
    "ExecuteTime": {
     "end_time": "2020-06-02T06:41:29.319308Z",
     "start_time": "2020-06-02T06:41:29.314321Z"
    }
   },
   "outputs": [],
   "source": [
    "from keras.utils.np_utils import to_categorical"
   ]
  },
  {
   "cell_type": "code",
   "execution_count": 12,
   "metadata": {
    "ExecuteTime": {
     "end_time": "2020-06-02T06:41:29.441729Z",
     "start_time": "2020-06-02T06:41:29.323298Z"
    },
    "cell_style": "split"
   },
   "outputs": [
    {
     "data": {
      "text/plain": [
       "(60000, 28, 28, 1)"
      ]
     },
     "execution_count": 12,
     "metadata": {},
     "output_type": "execute_result"
    }
   ],
   "source": [
    "X_train = X_train.reshape(-1, 28, 28, 1)\n",
    "X_test = X_test.reshape(-1, 28, 28, 1)\n",
    "\n",
    "X_train.shape"
   ]
  },
  {
   "cell_type": "code",
   "execution_count": 13,
   "metadata": {
    "ExecuteTime": {
     "end_time": "2020-06-02T06:41:29.580509Z",
     "start_time": "2020-06-02T06:41:29.449710Z"
    },
    "cell_style": "split"
   },
   "outputs": [
    {
     "data": {
      "text/plain": [
       "(60000, 10)"
      ]
     },
     "execution_count": 13,
     "metadata": {},
     "output_type": "execute_result"
    }
   ],
   "source": [
    "y_train = to_categorical(y_train)\n",
    "y_test = to_categorical(y_test)\n",
    "\n",
    "y_train.shape"
   ]
  },
  {
   "cell_type": "code",
   "execution_count": 14,
   "metadata": {
    "ExecuteTime": {
     "end_time": "2020-06-02T06:41:29.875359Z",
     "start_time": "2020-06-02T06:41:29.589487Z"
    }
   },
   "outputs": [],
   "source": [
    "X_all = np.concatenate((X_train, X_test))\n",
    "y_all = np.concatenate((y_train,  y_test))"
   ]
  },
  {
   "cell_type": "markdown",
   "metadata": {},
   "source": [
    "# Model Fitting"
   ]
  },
  {
   "cell_type": "code",
   "execution_count": 15,
   "metadata": {
    "ExecuteTime": {
     "end_time": "2020-06-02T06:41:30.415021Z",
     "start_time": "2020-06-02T06:41:29.878349Z"
    }
   },
   "outputs": [],
   "source": [
    "from sklearn.metrics import confusion_matrix, classification_report"
   ]
  },
  {
   "cell_type": "code",
   "execution_count": 16,
   "metadata": {
    "ExecuteTime": {
     "end_time": "2020-06-02T06:41:30.423005Z",
     "start_time": "2020-06-02T06:41:30.417019Z"
    }
   },
   "outputs": [],
   "source": [
    "from keras.models import Sequential\n",
    "from keras.layers import Dense, Dropout, Conv2D, Flatten, MaxPooling2D\n",
    "from keras.callbacks import EarlyStopping, ModelCheckpoint, ReduceLROnPlateau"
   ]
  },
  {
   "cell_type": "markdown",
   "metadata": {},
   "source": [
    "## Convolutional Neural Network"
   ]
  },
  {
   "cell_type": "code",
   "execution_count": 17,
   "metadata": {
    "ExecuteTime": {
     "end_time": "2020-06-02T06:41:30.747226Z",
     "start_time": "2020-06-02T06:41:30.425996Z"
    }
   },
   "outputs": [
    {
     "name": "stdout",
     "output_type": "stream",
     "text": [
      "Model: \"sequential_1\"\n",
      "_________________________________________________________________\n",
      "Layer (type)                 Output Shape              Param #   \n",
      "=================================================================\n",
      "conv2d_1 (Conv2D)            (None, 26, 26, 32)        320       \n",
      "_________________________________________________________________\n",
      "max_pooling2d_1 (MaxPooling2 (None, 13, 13, 32)        0         \n",
      "_________________________________________________________________\n",
      "flatten_1 (Flatten)          (None, 5408)              0         \n",
      "_________________________________________________________________\n",
      "dense_1 (Dense)              (None, 10)                54090     \n",
      "=================================================================\n",
      "Total params: 54,410\n",
      "Trainable params: 54,410\n",
      "Non-trainable params: 0\n",
      "_________________________________________________________________\n"
     ]
    }
   ],
   "source": [
    "es = EarlyStopping(monitor='loss', mode='min', verbose=1, patience=5)\n",
    "filepath = \"lens-digi-1.h5\"\n",
    "ckpt = ModelCheckpoint(filepath, monitor='loss', verbose=1, save_best_only=True, mode='min')\n",
    "rlp = ReduceLROnPlateau(patience=2)\n",
    "\n",
    "def cnn(image_size):\n",
    "    classifier = Sequential()\n",
    "    classifier.add(Conv2D(32, (3, 3), input_shape = (*image_size, 1), activation = 'relu'))\n",
    "    classifier.add(MaxPooling2D(pool_size=(2, 2)))\n",
    "    classifier.add(Flatten())\n",
    "    classifier.add(Dense(units = 10, activation = 'softmax'))\n",
    "    classifier.compile(optimizer = 'adam', loss = 'categorical_crossentropy', metrics = ['accuracy'])\n",
    "    classifier.summary()\n",
    "    return classifier\n",
    "\n",
    "\n",
    "model = cnn((28,28))"
   ]
  },
  {
   "cell_type": "code",
   "execution_count": 18,
   "metadata": {
    "ExecuteTime": {
     "end_time": "2020-06-02T06:41:31.141770Z",
     "start_time": "2020-06-02T06:41:30.749224Z"
    }
   },
   "outputs": [
    {
     "data": {
      "image/png": "[encoded data removed]",
      "text/plain": [
       "<IPython.core.display.Image object>"
      ]
     },
     "execution_count": 18,
     "metadata": {},
     "output_type": "execute_result"
    }
   ],
   "source": [
    "from keras.utils.vis_utils import plot_model\n",
    "plot_model(model, to_file='CNN1.png', show_shapes=True, show_layer_names=True)"
   ]
  },
  {
   "cell_type": "code",
   "execution_count": 19,
   "metadata": {
    "ExecuteTime": {
     "end_time": "2020-06-02T06:53:42.338888Z",
     "start_time": "2020-06-02T06:41:31.144731Z"
    },
    "scrolled": true
   },
   "outputs": [
    {
     "name": "stdout",
     "output_type": "stream",
     "text": [
      "Train on 63000 samples, validate on 7000 samples\n",
      "Epoch 1/1000\n",
      "63000/63000 [==============================] - 26s 412us/step - loss: 0.2446 - accuracy: 0.9308 - val_loss: 0.0853 - val_accuracy: 0.9746\n",
      "\n",
      "Epoch 00001: loss improved from inf to 0.24462, saving model to lens-digi-1.h5\n",
      "Epoch 2/1000\n",
      "63000/63000 [==============================] - 25s 400us/step - loss: 0.0855 - accuracy: 0.9743 - val_loss: 0.0518 - val_accuracy: 0.9837\n",
      "\n",
      "Epoch 00002: loss improved from 0.24462 to 0.08555, saving model to lens-digi-1.h5\n",
      "Epoch 3/1000\n",
      "63000/63000 [==============================] - 25s 396us/step - loss: 0.0649 - accuracy: 0.9812 - val_loss: 0.0450 - val_accuracy: 0.9854\n",
      "\n",
      "Epoch 00003: loss improved from 0.08555 to 0.06492, saving model to lens-digi-1.h5\n",
      "Epoch 4/1000\n",
      "63000/63000 [==============================] - 24s 389us/step - loss: 0.0540 - accuracy: 0.9836 - val_loss: 0.0451 - val_accuracy: 0.9854\n",
      "\n",
      "Epoch 00004: loss improved from 0.06492 to 0.05402, saving model to lens-digi-1.h5\n",
      "Epoch 5/1000\n",
      "63000/63000 [==============================] - 25s 396us/step - loss: 0.0454 - accuracy: 0.9860 - val_loss: 0.0430 - val_accuracy: 0.9863\n",
      "\n",
      "Epoch 00005: loss improved from 0.05402 to 0.04544, saving model to lens-digi-1.h5\n",
      "Epoch 6/1000\n",
      "63000/63000 [==============================] - 24s 382us/step - loss: 0.0398 - accuracy: 0.9876 - val_loss: 0.0441 - val_accuracy: 0.9850\n",
      "\n",
      "Epoch 00006: loss improved from 0.04544 to 0.03978, saving model to lens-digi-1.h5\n",
      "Epoch 7/1000\n",
      "63000/63000 [==============================] - 27s 429us/step - loss: 0.0334 - accuracy: 0.9899 - val_loss: 0.0450 - val_accuracy: 0.9856\n",
      "\n",
      "Epoch 00007: loss improved from 0.03978 to 0.03339, saving model to lens-digi-1.h5\n",
      "Epoch 8/1000\n",
      "63000/63000 [==============================] - 25s 404us/step - loss: 0.0216 - accuracy: 0.9942 - val_loss: 0.0375 - val_accuracy: 0.9883\n",
      "\n",
      "Epoch 00008: loss improved from 0.03339 to 0.02159, saving model to lens-digi-1.h5\n",
      "Epoch 9/1000\n",
      "63000/63000 [==============================] - 25s 399us/step - loss: 0.0195 - accuracy: 0.9949 - val_loss: 0.0370 - val_accuracy: 0.9883\n",
      "\n",
      "Epoch 00009: loss improved from 0.02159 to 0.01946, saving model to lens-digi-1.h5\n",
      "Epoch 10/1000\n",
      "63000/63000 [==============================] - 26s 410us/step - loss: 0.0185 - accuracy: 0.9951 - val_loss: 0.0383 - val_accuracy: 0.9877\n",
      "\n",
      "Epoch 00010: loss improved from 0.01946 to 0.01845, saving model to lens-digi-1.h5\n",
      "Epoch 11/1000\n",
      "63000/63000 [==============================] - 29s 456us/step - loss: 0.0177 - accuracy: 0.9958 - val_loss: 0.0386 - val_accuracy: 0.9877\n",
      "\n",
      "Epoch 00011: loss improved from 0.01845 to 0.01770, saving model to lens-digi-1.h5\n",
      "Epoch 12/1000\n",
      "63000/63000 [==============================] - 26s 412us/step - loss: 0.0162 - accuracy: 0.9963 - val_loss: 0.0383 - val_accuracy: 0.9879\n",
      "\n",
      "Epoch 00012: loss improved from 0.01770 to 0.01619, saving model to lens-digi-1.h5\n",
      "Epoch 13/1000\n",
      "63000/63000 [==============================] - 24s 380us/step - loss: 0.0160 - accuracy: 0.9964 - val_loss: 0.0382 - val_accuracy: 0.9881\n",
      "\n",
      "Epoch 00013: loss improved from 0.01619 to 0.01605, saving model to lens-digi-1.h5\n",
      "Epoch 14/1000\n",
      "63000/63000 [==============================] - 28s 438us/step - loss: 0.0159 - accuracy: 0.9964 - val_loss: 0.0382 - val_accuracy: 0.9881\n",
      "\n",
      "Epoch 00014: loss improved from 0.01605 to 0.01587, saving model to lens-digi-1.h5\n",
      "Epoch 15/1000\n",
      "63000/63000 [==============================] - 24s 386us/step - loss: 0.0159 - accuracy: 0.9965 - val_loss: 0.0382 - val_accuracy: 0.9880\n",
      "\n",
      "Epoch 00015: loss improved from 0.01587 to 0.01586, saving model to lens-digi-1.h5\n",
      "Epoch 16/1000\n",
      "63000/63000 [==============================] - 27s 435us/step - loss: 0.0158 - accuracy: 0.9965 - val_loss: 0.0382 - val_accuracy: 0.9880\n",
      "\n",
      "Epoch 00016: loss improved from 0.01586 to 0.01584, saving model to lens-digi-1.h5\n",
      "Epoch 17/1000\n",
      "63000/63000 [==============================] - 25s 391us/step - loss: 0.0158 - accuracy: 0.9965 - val_loss: 0.0382 - val_accuracy: 0.9880\n",
      "\n",
      "Epoch 00017: loss improved from 0.01584 to 0.01584, saving model to lens-digi-1.h5\n",
      "Epoch 18/1000\n",
      "63000/63000 [==============================] - 26s 412us/step - loss: 0.0158 - accuracy: 0.9965 - val_loss: 0.0382 - val_accuracy: 0.9880\n",
      "\n",
      "Epoch 00018: loss improved from 0.01584 to 0.01584, saving model to lens-digi-1.h5\n",
      "Epoch 19/1000\n",
      "63000/63000 [==============================] - 26s 419us/step - loss: 0.0158 - accuracy: 0.9965 - val_loss: 0.0382 - val_accuracy: 0.9880\n",
      "\n",
      "Epoch 00019: loss improved from 0.01584 to 0.01584, saving model to lens-digi-1.h5\n",
      "Epoch 20/1000\n",
      "63000/63000 [==============================] - 24s 382us/step - loss: 0.0158 - accuracy: 0.9965 - val_loss: 0.0382 - val_accuracy: 0.9880\n",
      "\n",
      "Epoch 00020: loss improved from 0.01584 to 0.01584, saving model to lens-digi-1.h5\n",
      "Epoch 21/1000\n",
      "63000/63000 [==============================] - 27s 424us/step - loss: 0.0158 - accuracy: 0.9965 - val_loss: 0.0382 - val_accuracy: 0.9880\n",
      "\n",
      "Epoch 00021: loss improved from 0.01584 to 0.01584, saving model to lens-digi-1.h5\n",
      "Epoch 22/1000\n",
      "63000/63000 [==============================] - 24s 375us/step - loss: 0.0158 - accuracy: 0.9965 - val_loss: 0.0382 - val_accuracy: 0.9880\n",
      "\n",
      "Epoch 00022: loss improved from 0.01584 to 0.01584, saving model to lens-digi-1.h5\n",
      "Epoch 23/1000\n",
      "63000/63000 [==============================] - 25s 398us/step - loss: 0.0158 - accuracy: 0.9965 - val_loss: 0.0382 - val_accuracy: 0.9880\n",
      "\n",
      "Epoch 00023: loss did not improve from 0.01584\n",
      "Epoch 24/1000\n",
      "63000/63000 [==============================] - 24s 381us/step - loss: 0.0158 - accuracy: 0.9965 - val_loss: 0.0382 - val_accuracy: 0.9880\n",
      "\n",
      "Epoch 00024: loss improved from 0.01584 to 0.01584, saving model to lens-digi-1.h5\n",
      "Epoch 25/1000\n",
      "63000/63000 [==============================] - 23s 361us/step - loss: 0.0158 - accuracy: 0.9965 - val_loss: 0.0382 - val_accuracy: 0.9880\n",
      "\n",
      "Epoch 00025: loss did not improve from 0.01584\n",
      "Epoch 26/1000\n",
      "63000/63000 [==============================] - 23s 359us/step - loss: 0.0158 - accuracy: 0.9965 - val_loss: 0.0382 - val_accuracy: 0.9880\n",
      "\n",
      "Epoch 00026: loss did not improve from 0.01584\n",
      "Epoch 27/1000\n",
      "63000/63000 [==============================] - 24s 374us/step - loss: 0.0158 - accuracy: 0.9965 - val_loss: 0.0382 - val_accuracy: 0.9880\n",
      "\n",
      "Epoch 00027: loss did not improve from 0.01584\n",
      "Epoch 28/1000\n",
      "63000/63000 [==============================] - 23s 371us/step - loss: 0.0158 - accuracy: 0.9965 - val_loss: 0.0382 - val_accuracy: 0.9880\n",
      "\n",
      "Epoch 00028: loss did not improve from 0.01584\n",
      "Epoch 29/1000\n",
      "63000/63000 [==============================] - 23s 366us/step - loss: 0.0158 - accuracy: 0.9965 - val_loss: 0.0382 - val_accuracy: 0.9880\n",
      "\n",
      "Epoch 00029: loss did not improve from 0.01584\n",
      "Epoch 00029: early stopping\n"
     ]
    }
   ],
   "source": [
    "history = model.fit(X_all, y_all, validation_split=0.1, epochs=1000, callbacks=[es, ckpt, rlp])"
   ]
  },
  {
   "cell_type": "code",
   "execution_count": 20,
   "metadata": {
    "ExecuteTime": {
     "end_time": "2020-06-02T06:53:43.290405Z",
     "start_time": "2020-06-02T06:53:42.341864Z"
    }
   },
   "outputs": [
    {
     "data": {
      "image/png": "[encoded data removed]",
      "text/plain": [
       "<Figure size 1440x864 with 2 Axes>"
      ]
     },
     "metadata": {
      "needs_background": "light"
     },
     "output_type": "display_data"
    }
   ],
   "source": [
    "fig, ax = plt.subplots(2, 1, figsize=(20, 12))\n",
    "\n",
    "fig.suptitle('Model Performance', fontsize=24) \n",
    "\n",
    "ax[0].plot(history.history['loss'], label='t-loss')\n",
    "ax[0].plot(history.history['val_loss'], label='v-loss')\n",
    "ax[0].set_title('Loss', fontsize=18)\n",
    "ax[0].set_ylabel('Loss')\n",
    "\n",
    "ax[1].plot(history.history['accuracy'], label='t-acc')\n",
    "ax[1].plot(history.history['val_accuracy'], label='v-acc')\n",
    "ax[1].set_title('Accuracy', fontsize=18)\n",
    "ax[1].set_ylabel('Accuracy')\n",
    "\n",
    "\n",
    "for i in range(2):\n",
    "    ax[i].grid()\n",
    "    ax[i].legend()\n",
    "    ax[i].set_xlabel('Epochs')\n",
    "    \n",
    "plt.savefig('Training1.png')    "
   ]
  },
  {
   "cell_type": "code",
   "execution_count": null,
   "metadata": {},
   "outputs": [],
   "source": []
  }
 ],
 "metadata": {
  "kernelspec": {
   "display_name": "Python 3",
   "language": "python",
   "name": "python3"
  },
  "language_info": {
   "codemirror_mode": {
    "name": "ipython",
    "version": 3
   },
   "file_extension": ".py",
   "mimetype": "text/x-python",
   "name": "python",
   "nbconvert_exporter": "python",
   "pygments_lexer": "ipython3",
   "version": "3.7.7"
  },
  "toc": {
   "base_numbering": 1,
   "nav_menu": {},
   "number_sections": true,
   "sideBar": true,
   "skip_h1_title": false,
   "title_cell": "Table of Contents",
   "title_sidebar": "Contents",
   "toc_cell": false,
   "toc_position": {},
   "toc_section_display": true,
   "toc_window_display": false
  },
  "varInspector": {
   "cols": {
    "lenName": 16,
    "lenType": 16,
    "lenVar": 40
   },
   "kernels_config": {
    "python": {
     "delete_cmd_postfix": "",
     "delete_cmd_prefix": "del ",
     "library": "var_list.py",
     "varRefreshCmd": "print(var_dic_list())"
    },
    "r": {
     "delete_cmd_postfix": ") ",
     "delete_cmd_prefix": "rm(",
     "library": "var_list.r",
     "varRefreshCmd": "cat(var_dic_list()) "
    }
   },
   "types_to_exclude": [
    "module",
    "function",
    "builtin_function_or_method",
    "instance",
    "_Feature"
   ],
   "window_display": false
  }
 },
 "nbformat": 4,
 "nbformat_minor": 2
}
