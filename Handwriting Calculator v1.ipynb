{
 "cells": [
  {
   "cell_type": "code",
   "execution_count": 1,
   "metadata": {
    "ExecuteTime": {
     "end_time": "2019-11-20T15:21:29.595767Z",
     "start_time": "2019-11-20T15:21:28.169618Z"
    }
   },
   "outputs": [],
   "source": [
    "import math\n",
    "from PIL import ImageTk, Image, ImageDraw\n",
    "import PIL\n",
    "from tkinter import Tk, Canvas, Button, Label\n",
    "from matplotlib import pyplot as plt\n",
    "import matplotlib\n",
    "import numpy as np"
   ]
  },
  {
   "cell_type": "code",
   "execution_count": 2,
   "metadata": {
    "ExecuteTime": {
     "end_time": "2019-11-20T15:21:46.116544Z",
     "start_time": "2019-11-20T15:21:29.615715Z"
    }
   },
   "outputs": [
    {
     "name": "stderr",
     "output_type": "stream",
     "text": [
      "Using TensorFlow backend.\n"
     ]
    }
   ],
   "source": [
    "from keras.models import load_model"
   ]
  },
  {
   "cell_type": "code",
   "execution_count": 3,
   "metadata": {
    "ExecuteTime": {
     "end_time": "2019-11-20T15:21:48.791472Z",
     "start_time": "2019-11-20T15:21:46.138454Z"
    }
   },
   "outputs": [
    {
     "name": "stdout",
     "output_type": "stream",
     "text": [
      "WARNING:tensorflow:From D:\\Users\\Ritvik\\Anaconda3\\envs\\datascience\\lib\\site-packages\\tensorflow\\python\\framework\\op_def_library.py:263: colocate_with (from tensorflow.python.framework.ops) is deprecated and will be removed in a future version.\n",
      "Instructions for updating:\n",
      "Colocations handled automatically by placer.\n",
      "WARNING:tensorflow:From D:\\Users\\Ritvik\\Anaconda3\\envs\\datascience\\lib\\site-packages\\keras\\backend\\tensorflow_backend.py:3445: calling dropout (from tensorflow.python.ops.nn_ops) with keep_prob is deprecated and will be removed in a future version.\n",
      "Instructions for updating:\n",
      "Please use `rate` instead of `keep_prob`. Rate should be set to `rate = 1 - keep_prob`.\n",
      "WARNING:tensorflow:From D:\\Users\\Ritvik\\Anaconda3\\envs\\datascience\\lib\\site-packages\\tensorflow\\python\\ops\\math_ops.py:3066: to_int32 (from tensorflow.python.ops.math_ops) is deprecated and will be removed in a future version.\n",
      "Instructions for updating:\n",
      "Use tf.cast instead.\n"
     ]
    }
   ],
   "source": [
    "model = load_model('E:/Models/Digit-Recognition/CNN.h5')"
   ]
  },
  {
   "cell_type": "code",
   "execution_count": 4,
   "metadata": {
    "ExecuteTime": {
     "end_time": "2019-11-20T15:23:00.682156Z",
     "start_time": "2019-11-20T15:21:48.814412Z"
    },
    "scrolled": false
   },
   "outputs": [
    {
     "data": {
      "image/png": "[encoded data removed]",
      "text/plain": [
       "<Figure size 432x288 with 1 Axes>"
      ]
     },
     "metadata": {
      "needs_background": "light"
     },
     "output_type": "display_data"
    },
    {
     "name": "stdout",
     "output_type": "stream",
     "text": [
      "2\n",
      "String 2\n",
      "String 2+\n"
     ]
    },
    {
     "data": {
      "image/png": "[encoded data removed]",
      "text/plain": [
       "<Figure size 432x288 with 1 Axes>"
      ]
     },
     "metadata": {
      "needs_background": "light"
     },
     "output_type": "display_data"
    },
    {
     "name": "stdout",
     "output_type": "stream",
     "text": [
      "2\n",
      "String 2+2\n",
      "String 2+2*\n"
     ]
    },
    {
     "data": {
      "image/png": "[encoded data removed]",
      "text/plain": [
       "<Figure size 432x288 with 1 Axes>"
      ]
     },
     "metadata": {
      "needs_background": "light"
     },
     "output_type": "display_data"
    },
    {
     "name": "stdout",
     "output_type": "stream",
     "text": [
      "2\n",
      "String 2+2*2\n",
      "String 2+2*2**\n"
     ]
    },
    {
     "data": {
      "image/png": "[encoded data removed]",
      "text/plain": [
       "<Figure size 432x288 with 1 Axes>"
      ]
     },
     "metadata": {
      "needs_background": "light"
     },
     "output_type": "display_data"
    },
    {
     "name": "stdout",
     "output_type": "stream",
     "text": [
      "2\n",
      "String 2+2*2**2\n",
      "String 2+2*2**2%\n"
     ]
    },
    {
     "data": {
      "image/png": "[encoded data removed]",
      "text/plain": [
       "<Figure size 432x288 with 1 Axes>"
      ]
     },
     "metadata": {
      "needs_background": "light"
     },
     "output_type": "display_data"
    },
    {
     "name": "stdout",
     "output_type": "stream",
     "text": [
      "2\n",
      "String 2+2*2**2%2\n",
      "String 2\n"
     ]
    }
   ],
   "source": [
    "white = (255, 255, 255)\n",
    "black = (0, 0, 0)\n",
    "\n",
    "window = Tk()\n",
    "window.title(\"Handwriting Calculator\")\n",
    "window.geometry('265x165')\n",
    "\n",
    "\n",
    "LABEL_TEXT = \"\"\n",
    "\n",
    "lbl = Label(window, text='',font=('Arial Bold',20))\n",
    "lbl.grid(column=1, row=1, columnspan=2)\n",
    "\n",
    "def fun(op):\n",
    "    global LABEL_TEXT\n",
    "    LABEL_TEXT += op\n",
    "    lbl.config(text=LABEL_TEXT)\n",
    "    print('String', LABEL_TEXT)\n",
    "\n",
    "def eql():\n",
    "    global LABEL_TEXT\n",
    "    LABEL_TEXT = str(eval(LABEL_TEXT))\n",
    "    lbl.config(text=LABEL_TEXT)\n",
    "    print('String', LABEL_TEXT)\n",
    "\n",
    "def dlt():\n",
    "    global LABEL_TEXT\n",
    "    LABEL_TEXT = LABEL_TEXT[:-1]\n",
    "    lbl.config(text=LABEL_TEXT)\n",
    "    print('String', LABEL_TEXT)\n",
    "    \n",
    "def rst():\n",
    "    cv.delete('all')\n",
    "    global LABEL_TEXT\n",
    "    LABEL_TEXT = ''\n",
    "    lbl.config(text=LABEL_TEXT)\n",
    "    print('String', LABEL_TEXT)\n",
    "\n",
    "def rgb2gray(rgb):\n",
    "    return np.dot(rgb[...,:3], [0.2989, 0.5870, 0.1140])    \n",
    "    \n",
    "def save(image):\n",
    "#     image.save('image.png')\n",
    "    img = np.asarray(image)\n",
    "    gray = rgb2gray(img)    \n",
    "    rescaled = np.array(Image.fromarray(gray).resize((28, 28), Image.ANTIALIAS))\n",
    "    M = rescaled.max()\n",
    "    m = rescaled.min()\n",
    "    rescaled = rescaled.astype('float32')\n",
    "    rescaled -= m\n",
    "    rescaled /= (M-m)\n",
    "    rescaled = 1 - rescaled\n",
    "    plt.imshow(rescaled, cmap=plt.get_cmap('gray'), vmin=0, vmax=1)\n",
    "    plt.show()\n",
    "#     print(rescaled)\n",
    "    digit = model.predict_classes(rescaled.reshape(-1,28,28,1))[0]\n",
    "    print(digit)\n",
    "    global LABEL_TEXT\n",
    "    LABEL_TEXT += str(digit)\n",
    "    lbl.config(text=LABEL_TEXT)\n",
    "    print('String', LABEL_TEXT)\n",
    "    \n",
    "def paint(event):\n",
    "    x1, y1 = (event.x - 1), (event.y - 1)\n",
    "    x2, y2 = (event.x + 1), (event.y + 1)\n",
    "    cv.create_oval(x1, y1, x2, y2, fill=\"black\",width=5)\n",
    "    draw.line([x1, y1, x2, y2],fill=\"black\",width=5)\n",
    "\n",
    "cv = Canvas(window, width=120, height=120, bg='white')\n",
    "cv.grid(column=1,row=2, rowspan=4)\n",
    "image = PIL.Image.new(\"RGB\", (120, 120), white)\n",
    "draw = ImageDraw.Draw(image)\n",
    "cv.bind(\"<B1-Motion>\", paint)\n",
    "\n",
    "\n",
    "btn_add = Button(window, text='+', width=5, command=lambda: fun('+'))\n",
    "btn_add.grid(column=2,row=2)\n",
    "\n",
    "btn_sub = Button(window, text='-', width=5, command=lambda: fun('-'))\n",
    "btn_sub.grid(column=2,row=3)\n",
    "\n",
    "btn_mul = Button(window, text='*', width=5, command=lambda: fun('*'))\n",
    "btn_mul.grid(column=2,row=4)\n",
    "\n",
    "btn_idiv = Button(window, text='//', width=5, command=lambda: fun('//'))\n",
    "btn_idiv.grid(column=2,row=5)\n",
    "\n",
    "btn_dot = Button(window, text='.', width=5, command=lambda: fun('.'))\n",
    "btn_dot.grid(column=3,row=2)\n",
    "\n",
    "btn_mod = Button(window, text='%', width=5, command=lambda: fun('%'))\n",
    "btn_mod.grid(column=3,row=3)\n",
    "\n",
    "btn_pow = Button(window, text='**', width=5, command=lambda: fun('**'))\n",
    "btn_pow.grid(column=3,row=4)\n",
    "\n",
    "btn_tdiv = Button(window, text='/', width=5, command=lambda: fun('/'))\n",
    "btn_tdiv.grid(column=3,row=5)\n",
    "\n",
    "btn_sv = Button(window, text='save', width=5, command=lambda: save(image))\n",
    "btn_sv.grid(column=4,row=2)\n",
    "\n",
    "btn_eql = Button(window, text='=', width=5, command=lambda: eql())\n",
    "btn_eql.grid(column=4,row=3)\n",
    "\n",
    "btn_dlt = Button(window, text='<-', width=5, command=lambda: dlt())\n",
    "btn_dlt.grid(column=4,row=4)\n",
    "\n",
    "btn_rst = Button(window, text='reset', width=5, command=rst)\n",
    "btn_rst.grid(column=4,row=5)\n",
    "\n",
    "window.mainloop()"
   ]
  },
  {
   "cell_type": "code",
   "execution_count": null,
   "metadata": {},
   "outputs": [],
   "source": []
  },
  {
   "cell_type": "code",
   "execution_count": null,
   "metadata": {},
   "outputs": [],
   "source": []
  }
 ],
 "metadata": {
  "kernelspec": {
   "display_name": "Python 3",
   "language": "python",
   "name": "python3"
  },
  "language_info": {
   "codemirror_mode": {
    "name": "ipython",
    "version": 3
   },
   "file_extension": ".py",
   "mimetype": "text/x-python",
   "name": "python",
   "nbconvert_exporter": "python",
   "pygments_lexer": "ipython3",
   "version": "3.7.3"
  },
  "toc": {
   "base_numbering": 1,
   "nav_menu": {},
   "number_sections": true,
   "sideBar": true,
   "skip_h1_title": false,
   "title_cell": "Table of Contents",
   "title_sidebar": "Contents",
   "toc_cell": false,
   "toc_position": {},
   "toc_section_display": true,
   "toc_window_display": false
  },
  "varInspector": {
   "cols": {
    "lenName": 16,
    "lenType": 16,
    "lenVar": 40
   },
   "kernels_config": {
    "python": {
     "delete_cmd_postfix": "",
     "delete_cmd_prefix": "del ",
     "library": "var_list.py",
     "varRefreshCmd": "print(var_dic_list())"
    },
    "r": {
     "delete_cmd_postfix": ") ",
     "delete_cmd_prefix": "rm(",
     "library": "var_list.r",
     "varRefreshCmd": "cat(var_dic_list()) "
    }
   },
   "types_to_exclude": [
    "module",
    "function",
    "builtin_function_or_method",
    "instance",
    "_Feature"
   ],
   "window_display": false
  }
 },
 "nbformat": 4,
 "nbformat_minor": 2
}
