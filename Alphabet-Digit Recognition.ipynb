{
 "cells": [
  {
   "cell_type": "markdown",
   "metadata": {},
   "source": [
    "# Libraires"
   ]
  },
  {
   "cell_type": "code",
   "execution_count": 1,
   "metadata": {
    "ExecuteTime": {
     "end_time": "2020-01-19T05:23:31.669471Z",
     "start_time": "2020-01-19T05:23:10.321731Z"
    }
   },
   "outputs": [],
   "source": [
    "import numpy as np\n",
    "import pandas as pd\n",
    "import matplotlib.pyplot as plt"
   ]
  },
  {
   "cell_type": "code",
   "execution_count": 2,
   "metadata": {
    "ExecuteTime": {
     "end_time": "2020-01-19T05:23:31.683408Z",
     "start_time": "2020-01-19T05:23:31.675424Z"
    }
   },
   "outputs": [],
   "source": [
    "import warnings\n",
    "warnings.filterwarnings(\"ignore\")"
   ]
  },
  {
   "cell_type": "markdown",
   "metadata": {},
   "source": [
    "# Data"
   ]
  },
  {
   "cell_type": "code",
   "execution_count": 3,
   "metadata": {
    "ExecuteTime": {
     "end_time": "2020-01-19T05:23:47.141670Z",
     "start_time": "2020-01-19T05:23:31.688389Z"
    }
   },
   "outputs": [],
   "source": [
    "X_train = pd.read_csv('../[Data] HandWriting-Recognition/emnist/emnist-balanced-train.csv', header=None).iloc[:, 1: ].values\n",
    "X_test =  pd.read_csv('../[Data] HandWriting-Recognition/emnist/emnist-balanced-test.csv', header=None).iloc[:, 1:].values"
   ]
  },
  {
   "cell_type": "code",
   "execution_count": 4,
   "metadata": {
    "ExecuteTime": {
     "end_time": "2020-01-19T05:24:05.353738Z",
     "start_time": "2020-01-19T05:23:49.763480Z"
    }
   },
   "outputs": [],
   "source": [
    "y_train = pd.read_csv('../[Data] HandWriting-Recognition/emnist/emnist-balanced-train.csv', header=None)[0].values\n",
    "y_test = pd.read_csv('../[Data] HandWriting-Recognition/emnist/emnist-balanced-test.csv', header=None)[0].values"
   ]
  },
  {
   "cell_type": "code",
   "execution_count": 5,
   "metadata": {
    "ExecuteTime": {
     "end_time": "2020-01-19T05:24:05.394628Z",
     "start_time": "2020-01-19T05:24:05.388645Z"
    },
    "cell_style": "split"
   },
   "outputs": [
    {
     "name": "stdout",
     "output_type": "stream",
     "text": [
      "Training Set\n",
      "112800\n"
     ]
    }
   ],
   "source": [
    "print('Training Set')\n",
    "print(len(y_train))"
   ]
  },
  {
   "cell_type": "code",
   "execution_count": 6,
   "metadata": {
    "ExecuteTime": {
     "end_time": "2020-01-19T05:24:05.640862Z",
     "start_time": "2020-01-19T05:24:05.413578Z"
    },
    "cell_style": "split"
   },
   "outputs": [
    {
     "name": "stdout",
     "output_type": "stream",
     "text": [
      "Testing Set\n",
      "18800\n"
     ]
    }
   ],
   "source": [
    "print('Testing Set')\n",
    "print(len(y_test))"
   ]
  },
  {
   "cell_type": "code",
   "execution_count": 7,
   "metadata": {
    "ExecuteTime": {
     "end_time": "2020-01-19T05:24:05.982099Z",
     "start_time": "2020-01-19T05:24:05.659938Z"
    }
   },
   "outputs": [
    {
     "data": {
      "text/plain": [
       "array([ 0,  1,  2,  3,  4,  5,  6,  7,  8,  9, 10, 11, 12, 13, 14, 15, 16,\n",
       "       17, 18, 19, 20, 21, 22, 23, 24, 25, 26, 27, 28, 29, 30, 31, 32, 33,\n",
       "       34, 35, 36, 37, 38, 39, 40, 41, 42, 43, 44, 45, 46], dtype=int64)"
      ]
     },
     "execution_count": 7,
     "metadata": {},
     "output_type": "execute_result"
    }
   ],
   "source": [
    "np.unique(y_train)"
   ]
  },
  {
   "cell_type": "code",
   "execution_count": 8,
   "metadata": {
    "ExecuteTime": {
     "end_time": "2020-01-19T05:24:06.089814Z",
     "start_time": "2020-01-19T05:24:06.040105Z"
    }
   },
   "outputs": [
    {
     "name": "stdout",
     "output_type": "stream",
     "text": [
      "{0: '0', 1: '1', 2: '2', 3: '3', 4: '4', 5: '5', 6: '6', 7: '7', 8: '8', 9: '9', 10: 'A', 11: 'B', 12: 'C', 13: 'D', 14: 'E', 15: 'F', 16: 'G', 17: 'H', 18: 'I', 19: 'J', 20: 'K', 21: 'L', 22: 'M', 23: 'N', 24: 'O', 25: 'P', 26: 'Q', 27: 'R', 28: 'S', 29: 'T', 30: 'U', 31: 'V', 32: 'W', 33: 'X', 34: 'Y', 35: 'Z', 36: 'a', 37: 'b', 38: 'd', 39: 'e', 40: 'f', 41: 'g', 42: 'h', 43: 'n', 44: 'q', 45: 'r', 46: 't'}\n"
     ]
    }
   ],
   "source": [
    "mapping = {}\n",
    "with open('../[Data] HandWriting-Recognition/emnist/emnist-balanced-mapping.txt') as f:\n",
    "    for line in f.readlines():\n",
    "        a,b = line.strip().split()\n",
    "        mapping[int(a)] = chr(int(b))\n",
    "print(mapping)        "
   ]
  },
  {
   "cell_type": "code",
   "execution_count": 9,
   "metadata": {
    "ExecuteTime": {
     "end_time": "2020-01-19T05:24:06.252836Z",
     "start_time": "2020-01-19T05:24:06.153684Z"
    }
   },
   "outputs": [],
   "source": [
    "def sample(i):\n",
    "    print(mapping[y_train[i]])\n",
    "    plt.imshow(X_train[i].reshape(28,28),cmap=plt.get_cmap('gray'))"
   ]
  },
  {
   "cell_type": "code",
   "execution_count": 10,
   "metadata": {
    "ExecuteTime": {
     "end_time": "2020-01-19T05:24:08.835229Z",
     "start_time": "2020-01-19T05:24:06.276777Z"
    },
    "cell_style": "split"
   },
   "outputs": [
    {
     "name": "stdout",
     "output_type": "stream",
     "text": [
      "r\n"
     ]
    },
    {
     "data": {
      "image/png": "[encoded data removed]",
      "text/plain": [
       "<Figure size 432x288 with 1 Axes>"
      ]
     },
     "metadata": {
      "needs_background": "light"
     },
     "output_type": "display_data"
    }
   ],
   "source": [
    "sample(0)"
   ]
  },
  {
   "cell_type": "code",
   "execution_count": 11,
   "metadata": {
    "ExecuteTime": {
     "end_time": "2020-01-19T05:24:09.114479Z",
     "start_time": "2020-01-19T05:24:08.848193Z"
    },
    "cell_style": "split"
   },
   "outputs": [
    {
     "name": "stdout",
     "output_type": "stream",
     "text": [
      "a\n"
     ]
    },
    {
     "data": {
      "image/png": "[encoded data removed]",
      "text/plain": [
       "<Figure size 432x288 with 1 Axes>"
      ]
     },
     "metadata": {
      "needs_background": "light"
     },
     "output_type": "display_data"
    }
   ],
   "source": [
    "sample(1)"
   ]
  },
  {
   "cell_type": "markdown",
   "metadata": {},
   "source": [
    "# Preprocessing\n",
    "\n",
    "**The EMNIST dataset is rotated and flipped and we need to fix that**"
   ]
  },
  {
   "cell_type": "code",
   "execution_count": 12,
   "metadata": {
    "ExecuteTime": {
     "end_time": "2020-01-19T05:24:55.227330Z",
     "start_time": "2020-01-19T05:24:09.129552Z"
    }
   },
   "outputs": [
    {
     "name": "stderr",
     "output_type": "stream",
     "text": [
      "Using TensorFlow backend.\n"
     ]
    }
   ],
   "source": [
    "from keras.utils.np_utils import to_categorical"
   ]
  },
  {
   "cell_type": "code",
   "execution_count": 13,
   "metadata": {
    "ExecuteTime": {
     "end_time": "2020-01-19T05:25:04.060083Z",
     "start_time": "2020-01-19T05:24:55.245288Z"
    }
   },
   "outputs": [],
   "source": [
    "def rotate(image):\n",
    "    image = image.reshape([28, 28])\n",
    "    image = np.fliplr(image)\n",
    "    image = np.rot90(image)\n",
    "    return image.reshape([28 * 28])\n",
    "X_train = np.apply_along_axis(rotate, 1, X_train)/255\n",
    "X_test = np.apply_along_axis(rotate, 1, X_test)/255"
   ]
  },
  {
   "cell_type": "code",
   "execution_count": 14,
   "metadata": {
    "ExecuteTime": {
     "end_time": "2020-01-19T05:25:04.865737Z",
     "start_time": "2020-01-19T05:25:04.224872Z"
    },
    "cell_style": "split"
   },
   "outputs": [
    {
     "name": "stdout",
     "output_type": "stream",
     "text": [
      "r\n"
     ]
    },
    {
     "data": {
      "image/png": "[encoded data removed]",
      "text/plain": [
       "<Figure size 432x288 with 1 Axes>"
      ]
     },
     "metadata": {
      "needs_background": "light"
     },
     "output_type": "display_data"
    }
   ],
   "source": [
    "sample(0)"
   ]
  },
  {
   "cell_type": "code",
   "execution_count": 15,
   "metadata": {
    "ExecuteTime": {
     "end_time": "2020-01-19T05:25:05.134018Z",
     "start_time": "2020-01-19T05:25:04.891665Z"
    },
    "cell_style": "split"
   },
   "outputs": [
    {
     "name": "stdout",
     "output_type": "stream",
     "text": [
      "a\n"
     ]
    },
    {
     "data": {
      "image/png": "[encoded data removed]",
      "text/plain": [
       "<Figure size 432x288 with 1 Axes>"
      ]
     },
     "metadata": {
      "needs_background": "light"
     },
     "output_type": "display_data"
    }
   ],
   "source": [
    "sample(1)"
   ]
  },
  {
   "cell_type": "code",
   "execution_count": 16,
   "metadata": {
    "ExecuteTime": {
     "end_time": "2020-01-19T05:25:06.123155Z",
     "start_time": "2020-01-19T05:25:05.152967Z"
    }
   },
   "outputs": [],
   "source": [
    "X_all = np.concatenate((X_train, X_test)).reshape(-1, 28, 28, 1)\n",
    "y_all = np.concatenate((y_train,  y_test))\n",
    "y_all = to_categorical(y_all)"
   ]
  },
  {
   "cell_type": "code",
   "execution_count": 17,
   "metadata": {
    "ExecuteTime": {
     "end_time": "2020-01-19T05:25:06.959530Z",
     "start_time": "2020-01-19T05:25:06.651345Z"
    }
   },
   "outputs": [],
   "source": [
    "del X_train, X_test, y_train, y_test"
   ]
  },
  {
   "cell_type": "markdown",
   "metadata": {},
   "source": [
    "# Model Training"
   ]
  },
  {
   "cell_type": "code",
   "execution_count": 18,
   "metadata": {
    "ExecuteTime": {
     "end_time": "2020-01-19T05:25:07.194877Z",
     "start_time": "2020-01-19T05:25:06.982442Z"
    }
   },
   "outputs": [],
   "source": [
    "from keras.models import Sequential\n",
    "from keras.layers import Dense, Dropout, Conv2D, Flatten, MaxPooling2D\n",
    "from keras.callbacks import EarlyStopping, ModelCheckpoint"
   ]
  },
  {
   "cell_type": "code",
   "execution_count": 19,
   "metadata": {
    "ExecuteTime": {
     "end_time": "2020-01-19T05:25:07.446595Z",
     "start_time": "2020-01-19T05:25:07.217813Z"
    }
   },
   "outputs": [],
   "source": [
    "es = EarlyStopping(monitor='loss', mode='min', verbose=1)\n",
    "filepath = \"E:/Models/Alphabet-Digit-Recognition/CNN1.h5\"\n",
    "ckpt = ModelCheckpoint(filepath, monitor='loss', verbose=1, save_best_only=True, mode='min')"
   ]
  },
  {
   "cell_type": "code",
   "execution_count": 20,
   "metadata": {
    "ExecuteTime": {
     "end_time": "2020-01-19T05:25:55.330666Z",
     "start_time": "2020-01-19T05:25:55.320695Z"
    }
   },
   "outputs": [],
   "source": [
    "def cnn(image_size):\n",
    "    classifier = Sequential()\n",
    "    classifier.add(Conv2D(32, (3, 3), input_shape = (*image_size, 1), activation = 'relu'))\n",
    "    classifier.add(MaxPooling2D((2,2)))\n",
    "    classifier.add(Dropout(0.2))\n",
    "    classifier.add(Flatten())\n",
    "    classifier.add(Dense(units = 128, activation = 'relu'))\n",
    "    classifier.add(Dropout(0.2))\n",
    "    classifier.add(Dense(units = 47, activation = 'softmax'))\n",
    "    classifier.compile(optimizer = 'adam', loss = 'categorical_crossentropy', metrics = ['accuracy'])\n",
    "    classifier.summary()\n",
    "    return classifier"
   ]
  },
  {
   "cell_type": "code",
   "execution_count": 21,
   "metadata": {
    "ExecuteTime": {
     "end_time": "2020-01-19T05:25:58.071777Z",
     "start_time": "2020-01-19T05:25:55.832704Z"
    }
   },
   "outputs": [
    {
     "name": "stdout",
     "output_type": "stream",
     "text": [
      "WARNING:tensorflow:From D:\\Users\\Ritvik\\Anaconda3\\envs\\datascience\\lib\\site-packages\\tensorflow\\python\\framework\\op_def_library.py:263: colocate_with (from tensorflow.python.framework.ops) is deprecated and will be removed in a future version.\n",
      "Instructions for updating:\n",
      "Colocations handled automatically by placer.\n",
      "WARNING:tensorflow:From D:\\Users\\Ritvik\\Anaconda3\\envs\\datascience\\lib\\site-packages\\keras\\backend\\tensorflow_backend.py:3445: calling dropout (from tensorflow.python.ops.nn_ops) with keep_prob is deprecated and will be removed in a future version.\n",
      "Instructions for updating:\n",
      "Please use `rate` instead of `keep_prob`. Rate should be set to `rate = 1 - keep_prob`.\n",
      "_________________________________________________________________\n",
      "Layer (type)                 Output Shape              Param #   \n",
      "=================================================================\n",
      "conv2d_1 (Conv2D)            (None, 26, 26, 32)        320       \n",
      "_________________________________________________________________\n",
      "max_pooling2d_1 (MaxPooling2 (None, 13, 13, 32)        0         \n",
      "_________________________________________________________________\n",
      "dropout_1 (Dropout)          (None, 13, 13, 32)        0         \n",
      "_________________________________________________________________\n",
      "flatten_1 (Flatten)          (None, 5408)              0         \n",
      "_________________________________________________________________\n",
      "dense_1 (Dense)              (None, 128)               692352    \n",
      "_________________________________________________________________\n",
      "dropout_2 (Dropout)          (None, 128)               0         \n",
      "_________________________________________________________________\n",
      "dense_2 (Dense)              (None, 47)                6063      \n",
      "=================================================================\n",
      "Total params: 698,735\n",
      "Trainable params: 698,735\n",
      "Non-trainable params: 0\n",
      "_________________________________________________________________\n"
     ]
    }
   ],
   "source": [
    "model = cnn((28,28))"
   ]
  },
  {
   "cell_type": "code",
   "execution_count": 22,
   "metadata": {
    "ExecuteTime": {
     "end_time": "2020-01-19T06:10:08.254551Z",
     "start_time": "2020-01-19T05:25:58.092771Z"
    },
    "scrolled": true
   },
   "outputs": [
    {
     "name": "stdout",
     "output_type": "stream",
     "text": [
      "WARNING:tensorflow:From D:\\Users\\Ritvik\\Anaconda3\\envs\\datascience\\lib\\site-packages\\tensorflow\\python\\ops\\math_ops.py:3066: to_int32 (from tensorflow.python.ops.math_ops) is deprecated and will be removed in a future version.\n",
      "Instructions for updating:\n",
      "Use tf.cast instead.\n",
      "Train on 92120 samples, validate on 39480 samples\n",
      "Epoch 1/500\n",
      "92120/92120 [==============================] - 91s 990us/step - loss: 0.9967 - acc: 0.6988 - val_loss: 0.5617 - val_acc: 0.8146\n",
      "\n",
      "Epoch 00001: loss improved from inf to 0.99672, saving model to E:/Models/Alphabet-Digit-Recognition/CNN1.h5\n",
      "Epoch 2/500\n",
      "92120/92120 [==============================] - 67s 726us/step - loss: 0.6025 - acc: 0.8026 - val_loss: 0.4778 - val_acc: 0.8383\n",
      "\n",
      "Epoch 00002: loss improved from 0.99672 to 0.60251, saving model to E:/Models/Alphabet-Digit-Recognition/CNN1.h5\n",
      "Epoch 3/500\n",
      "92120/92120 [==============================] - 66s 717us/step - loss: 0.5285 - acc: 0.8231 - val_loss: 0.4641 - val_acc: 0.8419\n",
      "\n",
      "Epoch 00003: loss improved from 0.60251 to 0.52853, saving model to E:/Models/Alphabet-Digit-Recognition/CNN1.h5\n",
      "Epoch 4/500\n",
      "92120/92120 [==============================] - 79s 859us/step - loss: 0.4828 - acc: 0.8363 - val_loss: 0.4382 - val_acc: 0.8510\n",
      "\n",
      "Epoch 00004: loss improved from 0.52853 to 0.48282, saving model to E:/Models/Alphabet-Digit-Recognition/CNN1.h5\n",
      "Epoch 5/500\n",
      "92120/92120 [==============================] - 75s 811us/step - loss: 0.4521 - acc: 0.8439 - val_loss: 0.4247 - val_acc: 0.8548\n",
      "\n",
      "Epoch 00005: loss improved from 0.48282 to 0.45213, saving model to E:/Models/Alphabet-Digit-Recognition/CNN1.h5\n",
      "Epoch 6/500\n",
      "92120/92120 [==============================] - 75s 816us/step - loss: 0.4268 - acc: 0.8489 - val_loss: 0.4205 - val_acc: 0.8570\n",
      "\n",
      "Epoch 00006: loss improved from 0.45213 to 0.42677, saving model to E:/Models/Alphabet-Digit-Recognition/CNN1.h5\n",
      "Epoch 7/500\n",
      "92120/92120 [==============================] - 69s 749us/step - loss: 0.4064 - acc: 0.8571 - val_loss: 0.4211 - val_acc: 0.8572\n",
      "\n",
      "Epoch 00007: loss improved from 0.42677 to 0.40642, saving model to E:/Models/Alphabet-Digit-Recognition/CNN1.h5\n",
      "Epoch 8/500\n",
      "92120/92120 [==============================] - 73s 796us/step - loss: 0.3892 - acc: 0.8612 - val_loss: 0.4131 - val_acc: 0.8603\n",
      "\n",
      "Epoch 00008: loss improved from 0.40642 to 0.38925, saving model to E:/Models/Alphabet-Digit-Recognition/CNN1.h5\n",
      "Epoch 9/500\n",
      "92120/92120 [==============================] - 71s 766us/step - loss: 0.3733 - acc: 0.8668 - val_loss: 0.4087 - val_acc: 0.8629\n",
      "\n",
      "Epoch 00009: loss improved from 0.38925 to 0.37330, saving model to E:/Models/Alphabet-Digit-Recognition/CNN1.h5\n",
      "Epoch 10/500\n",
      "92120/92120 [==============================] - 70s 760us/step - loss: 0.3592 - acc: 0.8702 - val_loss: 0.4140 - val_acc: 0.8621\n",
      "\n",
      "Epoch 00010: loss improved from 0.37330 to 0.35918, saving model to E:/Models/Alphabet-Digit-Recognition/CNN1.h5\n",
      "Epoch 11/500\n",
      "92120/92120 [==============================] - 67s 731us/step - loss: 0.3471 - acc: 0.8721 - val_loss: 0.4114 - val_acc: 0.8618\n",
      "\n",
      "Epoch 00011: loss improved from 0.35918 to 0.34712, saving model to E:/Models/Alphabet-Digit-Recognition/CNN1.h5\n",
      "Epoch 12/500\n",
      "92120/92120 [==============================] - 67s 732us/step - loss: 0.3367 - acc: 0.8774 - val_loss: 0.4130 - val_acc: 0.8615\n",
      "\n",
      "Epoch 00012: loss improved from 0.34712 to 0.33672, saving model to E:/Models/Alphabet-Digit-Recognition/CNN1.h5\n",
      "Epoch 13/500\n",
      "92120/92120 [==============================] - 67s 722us/step - loss: 0.3241 - acc: 0.8812 - val_loss: 0.4154 - val_acc: 0.8654\n",
      "\n",
      "Epoch 00013: loss improved from 0.33672 to 0.32413, saving model to E:/Models/Alphabet-Digit-Recognition/CNN1.h5\n",
      "Epoch 14/500\n",
      "92120/92120 [==============================] - 67s 732us/step - loss: 0.3180 - acc: 0.8815 - val_loss: 0.4198 - val_acc: 0.8610\n",
      "\n",
      "Epoch 00014: loss improved from 0.32413 to 0.31799, saving model to E:/Models/Alphabet-Digit-Recognition/CNN1.h5\n",
      "Epoch 15/500\n",
      "92120/92120 [==============================] - 68s 743us/step - loss: 0.3086 - acc: 0.8853 - val_loss: 0.4207 - val_acc: 0.8631\n",
      "\n",
      "Epoch 00015: loss improved from 0.31799 to 0.30857, saving model to E:/Models/Alphabet-Digit-Recognition/CNN1.h5\n",
      "Epoch 16/500\n",
      "92120/92120 [==============================] - 67s 727us/step - loss: 0.3017 - acc: 0.8858 - val_loss: 0.4289 - val_acc: 0.8626\n",
      "\n",
      "Epoch 00016: loss improved from 0.30857 to 0.30173, saving model to E:/Models/Alphabet-Digit-Recognition/CNN1.h5\n",
      "Epoch 17/500\n",
      "92120/92120 [==============================] - 66s 718us/step - loss: 0.2927 - acc: 0.8896 - val_loss: 0.4238 - val_acc: 0.8615\n",
      "\n",
      "Epoch 00017: loss improved from 0.30173 to 0.29270, saving model to E:/Models/Alphabet-Digit-Recognition/CNN1.h5\n",
      "Epoch 18/500\n",
      "92120/92120 [==============================] - 67s 726us/step - loss: 0.2874 - acc: 0.8923 - val_loss: 0.4312 - val_acc: 0.8624\n",
      "\n",
      "Epoch 00018: loss improved from 0.29270 to 0.28738, saving model to E:/Models/Alphabet-Digit-Recognition/CNN1.h5\n",
      "Epoch 19/500\n",
      "92120/92120 [==============================] - 66s 721us/step - loss: 0.2808 - acc: 0.8925 - val_loss: 0.4325 - val_acc: 0.8628\n",
      "\n",
      "Epoch 00019: loss improved from 0.28738 to 0.28076, saving model to E:/Models/Alphabet-Digit-Recognition/CNN1.h5\n",
      "Epoch 20/500\n",
      "92120/92120 [==============================] - 66s 721us/step - loss: 0.2757 - acc: 0.8950 - val_loss: 0.4471 - val_acc: 0.8619\n",
      "\n",
      "Epoch 00020: loss improved from 0.28076 to 0.27567, saving model to E:/Models/Alphabet-Digit-Recognition/CNN1.h5\n",
      "Epoch 21/500\n",
      "92120/92120 [==============================] - 68s 737us/step - loss: 0.2697 - acc: 0.8970 - val_loss: 0.4395 - val_acc: 0.8630\n",
      "\n",
      "Epoch 00021: loss improved from 0.27567 to 0.26968, saving model to E:/Models/Alphabet-Digit-Recognition/CNN1.h5\n",
      "Epoch 22/500\n",
      "92120/92120 [==============================] - 77s 832us/step - loss: 0.2650 - acc: 0.8987 - val_loss: 0.4539 - val_acc: 0.8620\n",
      "\n",
      "Epoch 00022: loss improved from 0.26968 to 0.26500, saving model to E:/Models/Alphabet-Digit-Recognition/CNN1.h5\n",
      "Epoch 23/500\n",
      "92120/92120 [==============================] - 83s 898us/step - loss: 0.2600 - acc: 0.9010 - val_loss: 0.4453 - val_acc: 0.8631\n",
      "\n",
      "Epoch 00023: loss improved from 0.26500 to 0.25998, saving model to E:/Models/Alphabet-Digit-Recognition/CNN1.h5\n",
      "Epoch 24/500\n",
      "92120/92120 [==============================] - 77s 837us/step - loss: 0.2562 - acc: 0.9021 - val_loss: 0.4496 - val_acc: 0.8590\n",
      "\n",
      "Epoch 00024: loss improved from 0.25998 to 0.25623, saving model to E:/Models/Alphabet-Digit-Recognition/CNN1.h5\n",
      "Epoch 25/500\n",
      "92120/92120 [==============================] - 77s 838us/step - loss: 0.2521 - acc: 0.9036 - val_loss: 0.4635 - val_acc: 0.8614\n",
      "\n",
      "Epoch 00025: loss improved from 0.25623 to 0.25210, saving model to E:/Models/Alphabet-Digit-Recognition/CNN1.h5\n",
      "Epoch 26/500\n",
      "92120/92120 [==============================] - 76s 830us/step - loss: 0.2490 - acc: 0.9055 - val_loss: 0.4642 - val_acc: 0.8588\n",
      "\n",
      "Epoch 00026: loss improved from 0.25210 to 0.24899, saving model to E:/Models/Alphabet-Digit-Recognition/CNN1.h5\n",
      "Epoch 27/500\n",
      "92120/92120 [==============================] - 78s 851us/step - loss: 0.2448 - acc: 0.9064 - val_loss: 0.4593 - val_acc: 0.8583\n",
      "\n",
      "Epoch 00027: loss improved from 0.24899 to 0.24484, saving model to E:/Models/Alphabet-Digit-Recognition/CNN1.h5\n",
      "Epoch 28/500\n",
      "92120/92120 [==============================] - 78s 848us/step - loss: 0.2419 - acc: 0.9063 - val_loss: 0.4792 - val_acc: 0.8606\n",
      "\n",
      "Epoch 00028: loss improved from 0.24484 to 0.24187, saving model to E:/Models/Alphabet-Digit-Recognition/CNN1.h5\n",
      "Epoch 29/500\n",
      "92120/92120 [==============================] - 78s 845us/step - loss: 0.2383 - acc: 0.9075 - val_loss: 0.4875 - val_acc: 0.8602\n",
      "\n",
      "Epoch 00029: loss improved from 0.24187 to 0.23829, saving model to E:/Models/Alphabet-Digit-Recognition/CNN1.h5\n",
      "Epoch 30/500\n",
      "92120/92120 [==============================] - 77s 835us/step - loss: 0.2327 - acc: 0.9105 - val_loss: 0.4854 - val_acc: 0.8583\n",
      "\n",
      "Epoch 00030: loss improved from 0.23829 to 0.23265, saving model to E:/Models/Alphabet-Digit-Recognition/CNN1.h5\n",
      "Epoch 31/500\n",
      "92120/92120 [==============================] - 84s 911us/step - loss: 0.2312 - acc: 0.9108 - val_loss: 0.4874 - val_acc: 0.8601\n",
      "\n",
      "Epoch 00031: loss improved from 0.23265 to 0.23122, saving model to E:/Models/Alphabet-Digit-Recognition/CNN1.h5\n"
     ]
    },
    {
     "name": "stdout",
     "output_type": "stream",
     "text": [
      "Epoch 32/500\n",
      "92120/92120 [==============================] - 75s 815us/step - loss: 0.2300 - acc: 0.9108 - val_loss: 0.4805 - val_acc: 0.8607\n",
      "\n",
      "Epoch 00032: loss improved from 0.23122 to 0.23002, saving model to E:/Models/Alphabet-Digit-Recognition/CNN1.h5\n",
      "Epoch 33/500\n",
      "92120/92120 [==============================] - 75s 818us/step - loss: 0.2247 - acc: 0.9130 - val_loss: 0.4892 - val_acc: 0.8603\n",
      "\n",
      "Epoch 00033: loss improved from 0.23002 to 0.22466, saving model to E:/Models/Alphabet-Digit-Recognition/CNN1.h5\n",
      "Epoch 34/500\n",
      "92120/92120 [==============================] - 76s 828us/step - loss: 0.2232 - acc: 0.9149 - val_loss: 0.4952 - val_acc: 0.8606\n",
      "\n",
      "Epoch 00034: loss improved from 0.22466 to 0.22316, saving model to E:/Models/Alphabet-Digit-Recognition/CNN1.h5\n",
      "Epoch 35/500\n",
      "92120/92120 [==============================] - 77s 835us/step - loss: 0.2228 - acc: 0.9143 - val_loss: 0.5073 - val_acc: 0.8584\n",
      "\n",
      "Epoch 00035: loss improved from 0.22316 to 0.22279, saving model to E:/Models/Alphabet-Digit-Recognition/CNN1.h5\n",
      "Epoch 36/500\n",
      "92120/92120 [==============================] - 77s 832us/step - loss: 0.2238 - acc: 0.9133 - val_loss: 0.5032 - val_acc: 0.8599 acc: 0.9\n",
      "\n",
      "Epoch 00036: loss did not improve from 0.22279\n",
      "Epoch 00036: early stopping\n"
     ]
    },
    {
     "data": {
      "text/plain": [
       "<keras.callbacks.History at 0x1a790a737f0>"
      ]
     },
     "execution_count": 22,
     "metadata": {},
     "output_type": "execute_result"
    }
   ],
   "source": [
    "model.fit(X_all, y_all, validation_split=0.3, epochs=500, callbacks=[es, ckpt])"
   ]
  },
  {
   "cell_type": "code",
   "execution_count": null,
   "metadata": {},
   "outputs": [],
   "source": []
  }
 ],
 "metadata": {
  "kernelspec": {
   "display_name": "Python 3",
   "language": "python",
   "name": "python3"
  },
  "language_info": {
   "codemirror_mode": {
    "name": "ipython",
    "version": 3
   },
   "file_extension": ".py",
   "mimetype": "text/x-python",
   "name": "python",
   "nbconvert_exporter": "python",
   "pygments_lexer": "ipython3",
   "version": "3.7.3"
  },
  "toc": {
   "base_numbering": 1,
   "nav_menu": {},
   "number_sections": true,
   "sideBar": true,
   "skip_h1_title": false,
   "title_cell": "Table of Contents",
   "title_sidebar": "Contents",
   "toc_cell": false,
   "toc_position": {},
   "toc_section_display": true,
   "toc_window_display": false
  },
  "varInspector": {
   "cols": {
    "lenName": 16,
    "lenType": 16,
    "lenVar": 40
   },
   "kernels_config": {
    "python": {
     "delete_cmd_postfix": "",
     "delete_cmd_prefix": "del ",
     "library": "var_list.py",
     "varRefreshCmd": "print(var_dic_list())"
    },
    "r": {
     "delete_cmd_postfix": ") ",
     "delete_cmd_prefix": "rm(",
     "library": "var_list.r",
     "varRefreshCmd": "cat(var_dic_list()) "
    }
   },
   "types_to_exclude": [
    "module",
    "function",
    "builtin_function_or_method",
    "instance",
    "_Feature"
   ],
   "window_display": false
  }
 },
 "nbformat": 4,
 "nbformat_minor": 2
}
