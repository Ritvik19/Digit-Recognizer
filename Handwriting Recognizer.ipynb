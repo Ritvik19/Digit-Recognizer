{
 "cells": [
  {
   "cell_type": "code",
   "execution_count": 1,
   "metadata": {
    "ExecuteTime": {
     "end_time": "2019-12-27T13:58:45.248115Z",
     "start_time": "2019-12-27T13:58:45.057618Z"
    }
   },
   "outputs": [],
   "source": [
    "from numpy import argmax\n",
    "from tkinter import *\n",
    "import tkinter as tk\n",
    "import math\n",
    "from PIL import Image, ImageDraw\n",
    "import numpy as np"
   ]
  },
  {
   "cell_type": "code",
   "execution_count": 2,
   "metadata": {
    "ExecuteTime": {
     "end_time": "2019-12-27T13:58:51.403942Z",
     "start_time": "2019-12-27T13:58:45.251100Z"
    }
   },
   "outputs": [
    {
     "name": "stderr",
     "output_type": "stream",
     "text": [
      "Using TensorFlow backend.\n"
     ]
    },
    {
     "name": "stdout",
     "output_type": "stream",
     "text": [
      "WARNING:tensorflow:From D:\\Users\\Ritvik\\Anaconda3\\envs\\datascience\\lib\\site-packages\\tensorflow\\python\\framework\\op_def_library.py:263: colocate_with (from tensorflow.python.framework.ops) is deprecated and will be removed in a future version.\n",
      "Instructions for updating:\n",
      "Colocations handled automatically by placer.\n",
      "WARNING:tensorflow:From D:\\Users\\Ritvik\\Anaconda3\\envs\\datascience\\lib\\site-packages\\keras\\backend\\tensorflow_backend.py:3445: calling dropout (from tensorflow.python.ops.nn_ops) with keep_prob is deprecated and will be removed in a future version.\n",
      "Instructions for updating:\n",
      "Please use `rate` instead of `keep_prob`. Rate should be set to `rate = 1 - keep_prob`.\n",
      "WARNING:tensorflow:From D:\\Users\\Ritvik\\Anaconda3\\envs\\datascience\\lib\\site-packages\\tensorflow\\python\\ops\\math_ops.py:3066: to_int32 (from tensorflow.python.ops.math_ops) is deprecated and will be removed in a future version.\n",
      "Instructions for updating:\n",
      "Use tf.cast instead.\n"
     ]
    }
   ],
   "source": [
    "from keras.models import load_model\n",
    "model = load_model('E:/Models/Case-Insesitive-Alphabet-Recognition/CNN.h5')"
   ]
  },
  {
   "cell_type": "code",
   "execution_count": 3,
   "metadata": {
    "ExecuteTime": {
     "end_time": "2019-12-27T13:58:51.426886Z",
     "start_time": "2019-12-27T13:58:51.406935Z"
    }
   },
   "outputs": [],
   "source": [
    "symbols = {\n",
    "     0:'A',\n",
    "     1: 'B',\n",
    "     2: 'C',\n",
    "     3: 'D',\n",
    "     4: 'E',\n",
    "     5: 'F',\n",
    "     6: 'G',\n",
    "     7: 'H',\n",
    "     8: 'I',\n",
    "     9: 'J',\n",
    "    10: 'K',\n",
    "    11: 'L',\n",
    "    12: 'M',\n",
    "    13: 'N',\n",
    "    14: 'O',\n",
    "    15: 'P',\n",
    "    16: 'Q',\n",
    "    17: 'R',\n",
    "    18: 'S',\n",
    "    19: 'T',\n",
    "    20: 'U',\n",
    "    21: 'V',\n",
    "    22: 'W',\n",
    "    23: 'X',\n",
    "    24: 'Y',\n",
    "    25: 'Z'\n",
    "}"
   ]
  },
  {
   "cell_type": "code",
   "execution_count": 4,
   "metadata": {
    "ExecuteTime": {
     "end_time": "2019-12-27T13:59:30.991824Z",
     "start_time": "2019-12-27T13:58:51.434860Z"
    }
   },
   "outputs": [
    {
     "name": "stdout",
     "output_type": "stream",
     "text": [
      "String E\n",
      "String ET\n",
      "String ETT\n",
      "String ETTA\n",
      "String ETTAY\n",
      "String ETTAYJ\n",
      "String ETTAYJS\n",
      "String ETTAYJSF\n"
     ]
    }
   ],
   "source": [
    "white = (255, 255, 255)\n",
    "black = (0, 0, 0)\n",
    "\n",
    "window = Tk()\n",
    "window.title(\"Handwriting Recognizer\")\n",
    "window.geometry('270x250')\n",
    " \n",
    "canvas_width = 200\n",
    "canvas_height = 200\n",
    "image1 = Image.new(\"RGB\", (canvas_width, canvas_height),white)\n",
    "draw = ImageDraw.Draw(image1)\n",
    "xpoints=[]\n",
    "ypoints=[]\n",
    "x2points=[]\n",
    "y2points=[]\n",
    "\n",
    "LABEL_TEXT = \"\"\n",
    "\n",
    "lbl = Label(window, text='',font=('Arial Bold',20))\n",
    "lbl.grid(column=1, row=1, columnspan=2)\n",
    "\n",
    "def paint( event ):\n",
    "    x1, y1 = ( event.x - 4 ), ( event.y - 4 )\n",
    "    x2, y2 = ( event.x + 4 ), ( event.y + 4 )\n",
    "    w.create_oval( x1, y1, x2, y2, fill = 'black' )\n",
    "    xpoints.append(x1)\n",
    "    ypoints.append(y1)\n",
    "    x2points.append(x2) \n",
    "    y2points.append(y2)    \n",
    "    \n",
    "def imagen ():\n",
    "    global xpoints\n",
    "    global ypoints    \n",
    "    global x2points\n",
    "    global y2points\n",
    "    image1 = Image.new(\"RGB\", (canvas_width, canvas_height),black)\n",
    "    draw = ImageDraw.Draw(image1) \n",
    "    elementos=len(xpoints)\n",
    "    for p in range (elementos):\n",
    "        x=xpoints[p]\n",
    "        y=ypoints[p]\n",
    "        x2=x2points[p]\n",
    "        y2=y2points[p] \n",
    "        draw.ellipse((x,y,x2,y2),'white')\n",
    "        w.create_oval( x-4, y-4, x2+4, y2+4,outline='gray85', fill = 'gray85' )\n",
    "    size=(28,28)\n",
    "    image1 = image1.resize(size)\n",
    "    image1 = image1.convert('L')\n",
    "    image1 = np.array(image1)\n",
    "    image1 = image1.reshape(-1, 28, 28, 1)\n",
    "    image1 = image1.astype('float32')\n",
    "    image1 /= 255.0\n",
    "    pred = symbols[model.predict_classes(image1)[0]]\n",
    "    global LABEL_TEXT\n",
    "    LABEL_TEXT += str(pred)\n",
    "    lbl.config(text=LABEL_TEXT)\n",
    "    print('String', LABEL_TEXT)\n",
    "    xpoints=[]\n",
    "    ypoints=[]\n",
    "    x2points=[]\n",
    "    y2points=[]\n",
    "\n",
    "w = Canvas(window, \n",
    "           width=canvas_width, \n",
    "           height=canvas_height,bg='gray85')\n",
    "w.grid(column=1,row=2, rowspan=3)\n",
    "\n",
    "\n",
    "def delete ():\n",
    "    global LABEL_TEXT\n",
    "    LABEL_TEXT = LABEL_TEXT[:-1]\n",
    "    lbl.config(text=LABEL_TEXT)\n",
    "    print('String', LABEL_TEXT)\n",
    "    \n",
    "def reset():\n",
    "    global LABEL_TEXT\n",
    "    LABEL_TEXT = ''\n",
    "    lbl.config(text=LABEL_TEXT)\n",
    "    print('String', LABEL_TEXT)\n",
    "    \n",
    "w.bind( \"<B1-Motion>\", paint )\n",
    "\n",
    "btn_sv = Button(window, text='save', width=5, command=imagen)\n",
    "btn_sv.grid(column=2,row=2)\n",
    "\n",
    "btn_dlt = Button(window, text='<-', width=5, command=delete)\n",
    "btn_dlt.grid(column=2,row=3)\n",
    "\n",
    "btn_rst = Button(window, text='reset', width=5, command=reset)\n",
    "btn_rst.grid(column=2,row=4)\n",
    "\n",
    "window.mainloop()"
   ]
  },
  {
   "cell_type": "code",
   "execution_count": null,
   "metadata": {},
   "outputs": [],
   "source": []
  }
 ],
 "metadata": {
  "kernelspec": {
   "display_name": "Python 3",
   "language": "python",
   "name": "python3"
  },
  "language_info": {
   "codemirror_mode": {
    "name": "ipython",
    "version": 3
   },
   "file_extension": ".py",
   "mimetype": "text/x-python",
   "name": "python",
   "nbconvert_exporter": "python",
   "pygments_lexer": "ipython3",
   "version": "3.7.3"
  },
  "toc": {
   "base_numbering": 1,
   "nav_menu": {},
   "number_sections": true,
   "sideBar": true,
   "skip_h1_title": false,
   "title_cell": "Table of Contents",
   "title_sidebar": "Contents",
   "toc_cell": false,
   "toc_position": {},
   "toc_section_display": true,
   "toc_window_display": false
  },
  "varInspector": {
   "cols": {
    "lenName": 16,
    "lenType": 16,
    "lenVar": 40
   },
   "kernels_config": {
    "python": {
     "delete_cmd_postfix": "",
     "delete_cmd_prefix": "del ",
     "library": "var_list.py",
     "varRefreshCmd": "print(var_dic_list())"
    },
    "r": {
     "delete_cmd_postfix": ") ",
     "delete_cmd_prefix": "rm(",
     "library": "var_list.r",
     "varRefreshCmd": "cat(var_dic_list()) "
    }
   },
   "types_to_exclude": [
    "module",
    "function",
    "builtin_function_or_method",
    "instance",
    "_Feature"
   ],
   "window_display": false
  }
 },
 "nbformat": 4,
 "nbformat_minor": 2
}
