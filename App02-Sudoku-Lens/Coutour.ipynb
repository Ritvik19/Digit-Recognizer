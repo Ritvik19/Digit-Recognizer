{
 "cells": [
  {
   "cell_type": "code",
   "execution_count": 1,
   "metadata": {
    "ExecuteTime": {
     "end_time": "2020-06-06T07:48:37.928023Z",
     "start_time": "2020-06-06T07:48:37.101985Z"
    }
   },
   "outputs": [],
   "source": [
    "import cv2\n",
    "import numpy as np\n",
    "import matplotlib.pyplot as plt\n",
    "import imutils"
   ]
  },
  {
   "cell_type": "code",
   "execution_count": 2,
   "metadata": {
    "ExecuteTime": {
     "end_time": "2020-06-06T07:48:40.016623Z",
     "start_time": "2020-06-06T07:48:37.933922Z"
    }
   },
   "outputs": [],
   "source": [
    "img = cv2.imread('sudoku.jpg', 0)\n",
    "size = 640\n",
    "h, w = img.shape[:2]\n",
    "if h > w:\n",
    "    hnew = size\n",
    "    wnew = (size*w)//h\n",
    "else:\n",
    "    wnew = size\n",
    "    hnew = (size*h)//w\n",
    "    \n",
    "img = cv2.resize(img, (wnew, hnew))\n",
    "cv2.imshow('img-gray', img)\n",
    "cv2.waitKey(0)\n",
    "cv2.destroyAllWindows()"
   ]
  },
  {
   "cell_type": "code",
   "execution_count": 3,
   "metadata": {
    "ExecuteTime": {
     "end_time": "2020-06-06T07:48:40.043472Z",
     "start_time": "2020-06-06T07:48:40.027819Z"
    }
   },
   "outputs": [],
   "source": [
    "grayImageBlur = cv2.blur(img,(3,3))\n",
    "edgedImage = cv2.Canny(grayImageBlur, 100, 300, 3)"
   ]
  },
  {
   "cell_type": "code",
   "execution_count": 4,
   "metadata": {
    "ExecuteTime": {
     "end_time": "2020-06-06T07:48:40.188804Z",
     "start_time": "2020-06-06T07:48:40.052449Z"
    }
   },
   "outputs": [],
   "source": [
    "allContours = cv2.findContours(edgedImage.copy(), cv2.RETR_LIST, cv2.CHAIN_APPROX_SIMPLE)\n",
    "allContours = imutils.grab_contours(allContours)\n",
    "allContours = sorted(allContours, key=cv2.contourArea, reverse=True)[:1]"
   ]
  },
  {
   "cell_type": "code",
   "execution_count": 5,
   "metadata": {
    "ExecuteTime": {
     "end_time": "2020-06-06T07:48:41.932931Z",
     "start_time": "2020-06-06T07:48:40.193013Z"
    }
   },
   "outputs": [],
   "source": [
    "perimeter = cv2.arcLength(allContours[0], True) \n",
    "ROIdimensions = cv2.approxPolyDP(allContours[0], 0.02*perimeter, True)\n",
    "cv2.drawContours(img, [ROIdimensions], -1, (0,255,0), 2)\n",
    "cv2.imshow(\"Contour Outline\", img)\n",
    "cv2.waitKey(0)\n",
    "cv2.destroyAllWindows()"
   ]
  },
  {
   "cell_type": "code",
   "execution_count": 6,
   "metadata": {
    "ExecuteTime": {
     "end_time": "2020-06-06T07:48:41.966711Z",
     "start_time": "2020-06-06T07:48:41.936602Z"
    }
   },
   "outputs": [],
   "source": [
    "# reshape coordinates array\n",
    "ROIdimensions = ROIdimensions.reshape(4,2)\n",
    "# list to hold ROI coordinates\n",
    "rect = np.zeros((4,2), dtype=\"float32\")\n",
    "# top left corner will have the smallest sum, \n",
    "# bottom right corner will have the largest sum\n",
    "s = np.sum(ROIdimensions, axis=1)\n",
    "rect[0] = ROIdimensions[np.argmin(s)]\n",
    "rect[2] = ROIdimensions[np.argmax(s)]\n",
    "# top-right will have smallest difference\n",
    "# botton left will have largest difference\n",
    "diff = np.diff(ROIdimensions, axis=1)\n",
    "rect[1] = ROIdimensions[np.argmin(diff)]\n",
    "rect[3] = ROIdimensions[np.argmax(diff)]\n",
    "# top-left, top-right, bottom-right, bottom-left\n",
    "(tl, tr, br, bl) = rect\n",
    "# compute width of ROI\n",
    "widthA = np.sqrt((tl[0] - tr[0])**2 + (tl[1] - tr[1])**2 )\n",
    "widthB = np.sqrt((bl[0] - br[0])**2 + (bl[1] - br[1])**2 )\n",
    "maxWidth = max(int(widthA), int(widthB))\n",
    "# compute height of ROI\n",
    "heightA = np.sqrt((tl[0] - bl[0])**2 + (tl[1] - bl[1])**2 )\n",
    "heightB = np.sqrt((tr[0] - br[0])**2 + (tr[1] - br[1])**2 )\n",
    "maxHeight = max(int(heightA), int(heightB))"
   ]
  },
  {
   "cell_type": "code",
   "execution_count": 7,
   "metadata": {
    "ExecuteTime": {
     "end_time": "2020-06-06T07:48:43.125544Z",
     "start_time": "2020-06-06T07:48:41.974500Z"
    }
   },
   "outputs": [],
   "source": [
    "# Set of destinations points for \"birds eye view\"\n",
    "# dimension of the new image\n",
    "dst = np.array([\n",
    "    [0,0],\n",
    "    [maxWidth-1, 0],\n",
    "    [maxWidth-1, maxHeight-1],\n",
    "    [0, maxHeight-1]], dtype=\"float32\")\n",
    "# compute the perspective transform matrix and then apply it\n",
    "transformMatrix = cv2.getPerspectiveTransform(rect, dst)\n",
    "# transform ROI\n",
    "scan = cv2.warpPerspective(img, transformMatrix, (maxWidth, maxHeight))\n",
    "# lets see the wraped document\n",
    "cv2.imshow(\"Scaned\",scan)\n",
    "cv2.waitKey(0)\n",
    "cv2.destroyAllWindows()"
   ]
  },
  {
   "cell_type": "code",
   "execution_count": 8,
   "metadata": {
    "ExecuteTime": {
     "end_time": "2020-06-06T07:48:51.624323Z",
     "start_time": "2020-06-06T07:48:43.132526Z"
    }
   },
   "outputs": [],
   "source": [
    "# convert to gray\n",
    "scanGray = scan.copy()\n",
    "# display final gray image\n",
    "cv2.imshow(\"scanGray\", scanGray)\n",
    "cv2.waitKey(0)\n",
    "cv2.destroyAllWindows()\n",
    "# ------------------------------\n",
    "# convert to black/white with high contrast for documents\n",
    "from skimage.filters import threshold_local\n",
    "# increase contrast incase its document\n",
    "T = threshold_local(scanGray, 9, offset=8, method=\"gaussian\")\n",
    "scanBW = (scanGray > T).astype(\"uint8\") * 255\n",
    "# display final high-contrast image\n",
    "cv2.imshow(\"scanBW\", scanBW)\n",
    "cv2.waitKey(0)\n",
    "cv2.destroyAllWindows()"
   ]
  },
  {
   "cell_type": "code",
   "execution_count": null,
   "metadata": {},
   "outputs": [],
   "source": []
  }
 ],
 "metadata": {
  "kernelspec": {
   "display_name": "Python 3",
   "language": "python",
   "name": "python3"
  },
  "language_info": {
   "codemirror_mode": {
    "name": "ipython",
    "version": 3
   },
   "file_extension": ".py",
   "mimetype": "text/x-python",
   "name": "python",
   "nbconvert_exporter": "python",
   "pygments_lexer": "ipython3",
   "version": "3.7.7"
  },
  "toc": {
   "base_numbering": 1,
   "nav_menu": {},
   "number_sections": true,
   "sideBar": true,
   "skip_h1_title": false,
   "title_cell": "Table of Contents",
   "title_sidebar": "Contents",
   "toc_cell": false,
   "toc_position": {},
   "toc_section_display": true,
   "toc_window_display": false
  },
  "varInspector": {
   "cols": {
    "lenName": 16,
    "lenType": 16,
    "lenVar": 40
   },
   "kernels_config": {
    "python": {
     "delete_cmd_postfix": "",
     "delete_cmd_prefix": "del ",
     "library": "var_list.py",
     "varRefreshCmd": "print(var_dic_list())"
    },
    "r": {
     "delete_cmd_postfix": ") ",
     "delete_cmd_prefix": "rm(",
     "library": "var_list.r",
     "varRefreshCmd": "cat(var_dic_list()) "
    }
   },
   "types_to_exclude": [
    "module",
    "function",
    "builtin_function_or_method",
    "instance",
    "_Feature"
   ],
   "window_display": false
  }
 },
 "nbformat": 4,
 "nbformat_minor": 4
}
