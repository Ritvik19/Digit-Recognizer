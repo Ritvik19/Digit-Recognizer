{
 "cells": [
  {
   "cell_type": "code",
   "execution_count": 1,
   "metadata": {
    "ExecuteTime": {
     "end_time": "2019-11-22T15:41:43.524763Z",
     "start_time": "2019-11-22T15:41:42.995776Z"
    }
   },
   "outputs": [],
   "source": [
    "from numpy import argmax\n",
    "from tkinter import *\n",
    "import tkinter as tk\n",
    "import math\n",
    "from PIL import Image, ImageDraw\n",
    "import numpy as np"
   ]
  },
  {
   "cell_type": "code",
   "execution_count": 2,
   "metadata": {
    "ExecuteTime": {
     "end_time": "2019-11-22T15:42:21.298340Z",
     "start_time": "2019-11-22T15:41:43.530744Z"
    }
   },
   "outputs": [
    {
     "name": "stderr",
     "output_type": "stream",
     "text": [
      "Using TensorFlow backend.\n"
     ]
    },
    {
     "name": "stdout",
     "output_type": "stream",
     "text": [
      "WARNING:tensorflow:From D:\\Users\\Ritvik\\Anaconda3\\envs\\datascience\\lib\\site-packages\\tensorflow\\python\\framework\\op_def_library.py:263: colocate_with (from tensorflow.python.framework.ops) is deprecated and will be removed in a future version.\n",
      "Instructions for updating:\n",
      "Colocations handled automatically by placer.\n",
      "WARNING:tensorflow:From D:\\Users\\Ritvik\\Anaconda3\\envs\\datascience\\lib\\site-packages\\keras\\backend\\tensorflow_backend.py:3445: calling dropout (from tensorflow.python.ops.nn_ops) with keep_prob is deprecated and will be removed in a future version.\n",
      "Instructions for updating:\n",
      "Please use `rate` instead of `keep_prob`. Rate should be set to `rate = 1 - keep_prob`.\n",
      "WARNING:tensorflow:From D:\\Users\\Ritvik\\Anaconda3\\envs\\datascience\\lib\\site-packages\\tensorflow\\python\\ops\\math_ops.py:3066: to_int32 (from tensorflow.python.ops.math_ops) is deprecated and will be removed in a future version.\n",
      "Instructions for updating:\n",
      "Use tf.cast instead.\n"
     ]
    }
   ],
   "source": [
    "from keras.models import load_model\n",
    "model = load_model('E:/Models/Digit-Recognition/CNN.h5')"
   ]
  },
  {
   "cell_type": "code",
   "execution_count": 3,
   "metadata": {
    "ExecuteTime": {
     "end_time": "2019-11-22T15:42:59.885863Z",
     "start_time": "2019-11-22T15:42:21.301307Z"
    }
   },
   "outputs": [
    {
     "name": "stdout",
     "output_type": "stream",
     "text": [
      "String 9\n",
      "String \n",
      "String 2\n",
      "String \n",
      "String 1\n",
      "String 1+\n",
      "String 1+2\n",
      "String 3\n"
     ]
    }
   ],
   "source": [
    "white = (255, 255, 255)\n",
    "black = (0, 0, 0)\n",
    "\n",
    "window = Tk()\n",
    "window.title(\"Handwriting Calculator\")\n",
    "window.geometry('265x165')\n",
    " \n",
    "canvas_width = 120\n",
    "canvas_height = 120\n",
    "image1 = Image.new(\"RGB\", (canvas_width, canvas_height),white)\n",
    "draw = ImageDraw.Draw(image1)\n",
    "xpoints=[]\n",
    "ypoints=[]\n",
    "x2points=[]\n",
    "y2points=[]\n",
    "\n",
    "LABEL_TEXT = \"\"\n",
    "\n",
    "lbl = Label(window, text='',font=('Arial Bold',20))\n",
    "lbl.grid(column=1, row=1, columnspan=3)\n",
    "\n",
    "def paint( event ):\n",
    "    x1, y1 = ( event.x - 4 ), ( event.y - 4 )\n",
    "    x2, y2 = ( event.x + 4 ), ( event.y + 4 )\n",
    "    w.create_oval( x1, y1, x2, y2, fill = 'black' )\n",
    "    xpoints.append(x1)\n",
    "    ypoints.append(y1)\n",
    "    x2points.append(x2) \n",
    "    y2points.append(y2)    \n",
    "    \n",
    "def imagen ():\n",
    "    global xpoints\n",
    "    global ypoints    \n",
    "    global x2points\n",
    "    global y2points\n",
    "    image1 = Image.new(\"RGB\", (canvas_width, canvas_height),black)\n",
    "    draw = ImageDraw.Draw(image1) \n",
    "    elementos=len(xpoints)\n",
    "    for p in range (elementos):\n",
    "        x=xpoints[p]\n",
    "        y=ypoints[p]\n",
    "        x2=x2points[p]\n",
    "        y2=y2points[p] \n",
    "        draw.ellipse((x,y,x2,y2),'white')\n",
    "        w.create_oval( x-4, y-4, x2+4, y2+4,outline='gray85', fill = 'gray85' )\n",
    "    size=(28,28)\n",
    "    image1 = image1.resize(size)\n",
    "    image1 = image1.convert('L')\n",
    "    image1 = np.array(image1)\n",
    "    image1 = image1.reshape(-1, 28, 28, 1)\n",
    "    image1 = image1.astype('float32')\n",
    "    image1 /= 255.0\n",
    "    pred = model.predict_classes(image1)[0]\n",
    "    global LABEL_TEXT\n",
    "    LABEL_TEXT += str(pred)\n",
    "    lbl.config(text=LABEL_TEXT)\n",
    "    print('String', LABEL_TEXT)\n",
    "    xpoints=[]\n",
    "    ypoints=[]\n",
    "    x2points=[]\n",
    "    y2points=[]\n",
    "\n",
    "w = Canvas(window, \n",
    "           width=canvas_width, \n",
    "           height=canvas_height,bg='gray85')\n",
    "w.grid(column=1,row=2, rowspan=4)\n",
    "\n",
    "\n",
    "def delete ():\n",
    "    global LABEL_TEXT\n",
    "    LABEL_TEXT = LABEL_TEXT[:-1]\n",
    "    lbl.config(text=LABEL_TEXT)\n",
    "    print('String', LABEL_TEXT)\n",
    "    \n",
    "def reset():\n",
    "    global LABEL_TEXT\n",
    "    LABEL_TEXT = ''\n",
    "    lbl.config(text=LABEL_TEXT)\n",
    "    print('String', LABEL_TEXT)\n",
    "    \n",
    "def fun(op):\n",
    "    global LABEL_TEXT\n",
    "    LABEL_TEXT += op\n",
    "    lbl.config(text=LABEL_TEXT)\n",
    "    print('String', LABEL_TEXT)\n",
    "\n",
    "def eql():\n",
    "    global LABEL_TEXT\n",
    "    LABEL_TEXT = str(eval(LABEL_TEXT))\n",
    "    lbl.config(text=LABEL_TEXT)\n",
    "    print('String', LABEL_TEXT)\n",
    "    \n",
    "w.bind( \"<B1-Motion>\", paint )\n",
    "\n",
    "btn_add = Button(window, text='+', width=5, command=lambda: fun('+'))\n",
    "btn_add.grid(column=2,row=2)\n",
    "\n",
    "btn_sub = Button(window, text='-', width=5, command=lambda: fun('-'))\n",
    "btn_sub.grid(column=2,row=3)\n",
    "\n",
    "btn_mul = Button(window, text='*', width=5, command=lambda: fun('*'))\n",
    "btn_mul.grid(column=2,row=4)\n",
    "\n",
    "btn_idiv = Button(window, text='//', width=5, command=lambda: fun('//'))\n",
    "btn_idiv.grid(column=2,row=5)\n",
    "\n",
    "btn_dot = Button(window, text='.', width=5, command=lambda: fun('.'))\n",
    "btn_dot.grid(column=3,row=2)\n",
    "\n",
    "btn_mod = Button(window, text='%', width=5, command=lambda: fun('%'))\n",
    "btn_mod.grid(column=3,row=3)\n",
    "\n",
    "btn_pow = Button(window, text='**', width=5, command=lambda: fun('**'))\n",
    "btn_pow.grid(column=3,row=4)\n",
    "\n",
    "btn_tdiv = Button(window, text='/', width=5, command=lambda: fun('/'))\n",
    "btn_tdiv.grid(column=3,row=5)\n",
    "\n",
    "btn_sv = Button(window, text='save', width=5, command=imagen)\n",
    "btn_sv.grid(column=4,row=2)\n",
    "\n",
    "btn_eql = Button(window, text='=', width=5, command=eql)\n",
    "btn_eql.grid(column=4,row=3)\n",
    "\n",
    "btn_dlt = Button(window, text='<-', width=5, command=delete)\n",
    "btn_dlt.grid(column=4,row=4)\n",
    "\n",
    "btn_rst = Button(window, text='reset', width=5, command=reset)\n",
    "btn_rst.grid(column=4,row=5)\n",
    "\n",
    "\n",
    "window.mainloop()"
   ]
  },
  {
   "cell_type": "code",
   "execution_count": null,
   "metadata": {},
   "outputs": [],
   "source": []
  }
 ],
 "metadata": {
  "kernelspec": {
   "display_name": "Python 3",
   "language": "python",
   "name": "python3"
  },
  "language_info": {
   "codemirror_mode": {
    "name": "ipython",
    "version": 3
   },
   "file_extension": ".py",
   "mimetype": "text/x-python",
   "name": "python",
   "nbconvert_exporter": "python",
   "pygments_lexer": "ipython3",
   "version": "3.7.3"
  },
  "toc": {
   "base_numbering": 1,
   "nav_menu": {},
   "number_sections": true,
   "sideBar": true,
   "skip_h1_title": false,
   "title_cell": "Table of Contents",
   "title_sidebar": "Contents",
   "toc_cell": false,
   "toc_position": {},
   "toc_section_display": true,
   "toc_window_display": false
  },
  "varInspector": {
   "cols": {
    "lenName": 16,
    "lenType": 16,
    "lenVar": 40
   },
   "kernels_config": {
    "python": {
     "delete_cmd_postfix": "",
     "delete_cmd_prefix": "del ",
     "library": "var_list.py",
     "varRefreshCmd": "print(var_dic_list())"
    },
    "r": {
     "delete_cmd_postfix": ") ",
     "delete_cmd_prefix": "rm(",
     "library": "var_list.r",
     "varRefreshCmd": "cat(var_dic_list()) "
    }
   },
   "types_to_exclude": [
    "module",
    "function",
    "builtin_function_or_method",
    "instance",
    "_Feature"
   ],
   "window_display": false
  }
 },
 "nbformat": 4,
 "nbformat_minor": 2
}
