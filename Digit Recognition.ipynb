{
 "cells": [
  {
   "cell_type": "markdown",
   "metadata": {},
   "source": [
    "# Libraries"
   ]
  },
  {
   "cell_type": "code",
   "execution_count": 2,
   "metadata": {
    "ExecuteTime": {
     "end_time": "2019-11-21T06:34:28.826474Z",
     "start_time": "2019-11-21T06:34:17.929813Z"
    }
   },
   "outputs": [],
   "source": [
    "import numpy as np\n",
    "import pandas as pd\n",
    "import matplotlib.pyplot as plt"
   ]
  },
  {
   "cell_type": "code",
   "execution_count": 1,
   "metadata": {
    "ExecuteTime": {
     "end_time": "2019-11-21T06:34:14.891936Z",
     "start_time": "2019-11-21T06:34:14.886980Z"
    }
   },
   "outputs": [],
   "source": [
    "import warnings\n",
    "warnings.filterwarnings(\"ignore\")"
   ]
  },
  {
   "cell_type": "markdown",
   "metadata": {},
   "source": [
    "# Data"
   ]
  },
  {
   "cell_type": "code",
   "execution_count": 3,
   "metadata": {
    "ExecuteTime": {
     "end_time": "2019-11-21T06:34:55.829193Z",
     "start_time": "2019-11-21T06:34:28.845710Z"
    }
   },
   "outputs": [
    {
     "name": "stderr",
     "output_type": "stream",
     "text": [
      "Using TensorFlow backend.\n"
     ]
    }
   ],
   "source": [
    "from keras.datasets import mnist"
   ]
  },
  {
   "cell_type": "code",
   "execution_count": 4,
   "metadata": {
    "ExecuteTime": {
     "end_time": "2019-11-21T06:34:56.621407Z",
     "start_time": "2019-11-21T06:34:55.862022Z"
    }
   },
   "outputs": [],
   "source": [
    "(X_train, y_train), (X_test, y_test) = mnist.load_data()"
   ]
  },
  {
   "cell_type": "code",
   "execution_count": 5,
   "metadata": {
    "ExecuteTime": {
     "end_time": "2019-11-21T06:34:56.665201Z",
     "start_time": "2019-11-21T06:34:56.656225Z"
    },
    "cell_style": "split"
   },
   "outputs": [
    {
     "name": "stdout",
     "output_type": "stream",
     "text": [
      "Training Set\n",
      "60000\n",
      "(60000, 28, 28)\n",
      "(60000,)\n"
     ]
    }
   ],
   "source": [
    "print('Training Set')\n",
    "print(len(X_train))\n",
    "print(X_train.shape)\n",
    "print(y_train.shape)"
   ]
  },
  {
   "cell_type": "code",
   "execution_count": 6,
   "metadata": {
    "ExecuteTime": {
     "end_time": "2019-11-21T06:34:56.833066Z",
     "start_time": "2019-11-21T06:34:56.696118Z"
    },
    "cell_style": "split"
   },
   "outputs": [
    {
     "name": "stdout",
     "output_type": "stream",
     "text": [
      "Testing Set\n",
      "10000\n",
      "(10000, 28, 28)\n",
      "(10000,)\n"
     ]
    }
   ],
   "source": [
    "print('Testing Set')\n",
    "print(len(X_test))\n",
    "print(X_test.shape)\n",
    "print(y_test.shape)"
   ]
  },
  {
   "cell_type": "code",
   "execution_count": 8,
   "metadata": {
    "ExecuteTime": {
     "end_time": "2019-11-21T06:35:11.435513Z",
     "start_time": "2019-11-21T06:35:11.137424Z"
    }
   },
   "outputs": [
    {
     "data": {
      "text/plain": [
       "<matplotlib.image.AxesImage at 0x275eaa02668>"
      ]
     },
     "execution_count": 8,
     "metadata": {},
     "output_type": "execute_result"
    },
    {
     "data": {
      "image/png": "[encoded data removed]",
      "text/plain": [
       "<Figure size 432x288 with 1 Axes>"
      ]
     },
     "metadata": {
      "needs_background": "light"
     },
     "output_type": "display_data"
    }
   ],
   "source": [
    "plt.imshow(X_train[0],cmap=plt.get_cmap('gray'))"
   ]
  },
  {
   "cell_type": "markdown",
   "metadata": {},
   "source": [
    "# Preprocessing"
   ]
  },
  {
   "cell_type": "code",
   "execution_count": 7,
   "metadata": {
    "ExecuteTime": {
     "end_time": "2019-11-18T05:18:18.575179Z",
     "start_time": "2019-11-18T05:18:18.437312Z"
    }
   },
   "outputs": [],
   "source": [
    "from keras.utils.np_utils import to_categorical"
   ]
  },
  {
   "cell_type": "code",
   "execution_count": 8,
   "metadata": {
    "ExecuteTime": {
     "end_time": "2019-11-18T05:18:18.743224Z",
     "start_time": "2019-11-18T05:18:18.587143Z"
    },
    "cell_style": "split"
   },
   "outputs": [
    {
     "data": {
      "text/plain": [
       "(60000, 28, 28, 1)"
      ]
     },
     "execution_count": 8,
     "metadata": {},
     "output_type": "execute_result"
    }
   ],
   "source": [
    "X_train = X_train.reshape(-1, 28, 28, 1)\n",
    "X_test = X_test.reshape(-1, 28, 28, 1)\n",
    "\n",
    "X_train.shape"
   ]
  },
  {
   "cell_type": "code",
   "execution_count": 9,
   "metadata": {
    "ExecuteTime": {
     "end_time": "2019-11-18T05:18:18.939007Z",
     "start_time": "2019-11-18T05:18:18.753192Z"
    },
    "cell_style": "split"
   },
   "outputs": [
    {
     "data": {
      "text/plain": [
       "(60000, 784)"
      ]
     },
     "execution_count": 9,
     "metadata": {},
     "output_type": "execute_result"
    }
   ],
   "source": [
    "X_train_flat = X_train.reshape(-1, 784)\n",
    "X_test_flat = X_test.reshape(-1, 784)\n",
    "\n",
    "X_train_flat.shape"
   ]
  },
  {
   "cell_type": "code",
   "execution_count": 10,
   "metadata": {
    "ExecuteTime": {
     "end_time": "2019-11-18T05:18:19.132644Z",
     "start_time": "2019-11-18T05:18:18.942993Z"
    }
   },
   "outputs": [],
   "source": [
    "y_train_cat = to_categorical(y_train)\n",
    "y_test_cat = to_categorical(y_test)"
   ]
  },
  {
   "cell_type": "code",
   "execution_count": 11,
   "metadata": {
    "ExecuteTime": {
     "end_time": "2019-11-18T05:18:19.522213Z",
     "start_time": "2019-11-18T05:18:19.141614Z"
    },
    "cell_style": "split"
   },
   "outputs": [],
   "source": [
    "X_train = X_train.astype('float32')\n",
    "X_test = X_test.astype('float32')\n",
    "X_train /= 255.0\n",
    "X_test /= 255.0"
   ]
  },
  {
   "cell_type": "code",
   "execution_count": 12,
   "metadata": {
    "ExecuteTime": {
     "end_time": "2019-11-18T05:18:19.747519Z",
     "start_time": "2019-11-18T05:18:19.525113Z"
    },
    "cell_style": "split"
   },
   "outputs": [],
   "source": [
    "X_train_flat = X_train_flat.astype('float32')\n",
    "X_test_flat = X_test_flat.astype('float32')\n",
    "X_train_flat /= 255.0\n",
    "X_test_flat /= 255.0"
   ]
  },
  {
   "cell_type": "code",
   "execution_count": 13,
   "metadata": {
    "ExecuteTime": {
     "end_time": "2019-11-18T05:18:20.050976Z",
     "start_time": "2019-11-18T05:18:19.748515Z"
    }
   },
   "outputs": [],
   "source": [
    "X_all = np.concatenate((X_train, X_test))\n",
    "y_all = np.concatenate((y_train,  y_test))\n",
    "X_all_flat = np.concatenate((X_train_flat, X_test_flat))\n",
    "y_all_cat = np.concatenate((y_train_cat, y_test_cat))"
   ]
  },
  {
   "cell_type": "markdown",
   "metadata": {},
   "source": [
    "# Model Fitting"
   ]
  },
  {
   "cell_type": "code",
   "execution_count": 14,
   "metadata": {
    "ExecuteTime": {
     "end_time": "2019-11-18T05:18:20.440829Z",
     "start_time": "2019-11-18T05:18:20.052905Z"
    }
   },
   "outputs": [],
   "source": [
    "from sklearn.metrics import confusion_matrix, classification_report"
   ]
  },
  {
   "cell_type": "code",
   "execution_count": 15,
   "metadata": {
    "ExecuteTime": {
     "end_time": "2019-11-18T05:18:20.446756Z",
     "start_time": "2019-11-18T05:18:20.442763Z"
    }
   },
   "outputs": [],
   "source": [
    "import pickle"
   ]
  },
  {
   "cell_type": "markdown",
   "metadata": {},
   "source": [
    "## Logistic Regression"
   ]
  },
  {
   "cell_type": "code",
   "execution_count": 16,
   "metadata": {
    "ExecuteTime": {
     "end_time": "2019-11-18T05:18:20.720462Z",
     "start_time": "2019-11-18T05:18:20.450743Z"
    }
   },
   "outputs": [],
   "source": [
    "from sklearn.linear_model import LogisticRegression"
   ]
  },
  {
   "cell_type": "code",
   "execution_count": 17,
   "metadata": {
    "ExecuteTime": {
     "end_time": "2019-11-18T05:19:40.186292Z",
     "start_time": "2019-11-18T05:18:20.721400Z"
    }
   },
   "outputs": [
    {
     "name": "stdout",
     "output_type": "stream",
     "text": [
      "[[ 960    0    1    2    0    5    6    3    1    2]\n",
      " [   0 1112    3    1    0    1    5    1   12    0]\n",
      " [   8    8  920   20    9    5   10   11   37    4]\n",
      " [   4    0   17  919    2   22    4   12   21    9]\n",
      " [   1    2    5    3  914    0   10    2    7   38]\n",
      " [  10    2    0   41   10  770   17    7   28    7]\n",
      " [   9    3    7    2    6   20  907    1    3    0]\n",
      " [   2    7   22    5    8    1    1  950    5   27]\n",
      " [  10   14    5   21   14   27    7   11  853   12]\n",
      " [   8    8    2   13   31   14    0   24   12  897]]\n",
      "              precision    recall  f1-score   support\n",
      "\n",
      "           0       0.95      0.98      0.96       980\n",
      "           1       0.96      0.98      0.97      1135\n",
      "           2       0.94      0.89      0.91      1032\n",
      "           3       0.89      0.91      0.90      1010\n",
      "           4       0.92      0.93      0.93       982\n",
      "           5       0.89      0.86      0.88       892\n",
      "           6       0.94      0.95      0.94       958\n",
      "           7       0.93      0.92      0.93      1028\n",
      "           8       0.87      0.88      0.87       974\n",
      "           9       0.90      0.89      0.89      1009\n",
      "\n",
      "   micro avg       0.92      0.92      0.92     10000\n",
      "   macro avg       0.92      0.92      0.92     10000\n",
      "weighted avg       0.92      0.92      0.92     10000\n",
      "\n"
     ]
    }
   ],
   "source": [
    "model = LogisticRegression()\n",
    "model.fit(X_train_flat, y_train)\n",
    "pred = model.predict(X_test_flat)\n",
    "print(confusion_matrix(y_test, pred))\n",
    "print(classification_report(y_test, pred))"
   ]
  },
  {
   "cell_type": "code",
   "execution_count": 18,
   "metadata": {
    "ExecuteTime": {
     "end_time": "2019-11-18T05:19:43.711041Z",
     "start_time": "2019-11-18T05:19:40.189283Z"
    }
   },
   "outputs": [],
   "source": [
    "model = LogisticRegression(X_all_flat, y_all)\n",
    "pickle.dump(model, open('E:/Models/Digit-Recognition/LogisticRegression.pkl', 'wb'))"
   ]
  },
  {
   "cell_type": "markdown",
   "metadata": {},
   "source": [
    "## Random Forest Classifier"
   ]
  },
  {
   "cell_type": "code",
   "execution_count": 19,
   "metadata": {
    "ExecuteTime": {
     "end_time": "2019-11-18T05:19:43.758880Z",
     "start_time": "2019-11-18T05:19:43.714032Z"
    }
   },
   "outputs": [],
   "source": [
    "from sklearn.ensemble import RandomForestClassifier"
   ]
  },
  {
   "cell_type": "code",
   "execution_count": 20,
   "metadata": {
    "ExecuteTime": {
     "end_time": "2019-11-18T05:19:49.528102Z",
     "start_time": "2019-11-18T05:19:43.760874Z"
    }
   },
   "outputs": [
    {
     "name": "stdout",
     "output_type": "stream",
     "text": [
      "[[ 966    0    2    1    0    2    6    1    2    0]\n",
      " [   0 1124    3    3    0    2    2    0    1    0]\n",
      " [   7    0  982    4    6    2    4   15   11    1]\n",
      " [   5    0   21  941    1   13    0   10   14    5]\n",
      " [   3    0    2    1  934    0    9    4    9   20]\n",
      " [   8    3    6   33    4  816    5    3    9    5]\n",
      " [  14    3    2    2   11    6  918    0    2    0]\n",
      " [   0   10   20    6    6    1    1  968    2   14]\n",
      " [   4    0   19   22   11   14    8    4  884    8]\n",
      " [   8    6    4   14   31    6    0    8   10  922]]\n",
      "              precision    recall  f1-score   support\n",
      "\n",
      "           0       0.95      0.99      0.97       980\n",
      "           1       0.98      0.99      0.99      1135\n",
      "           2       0.93      0.95      0.94      1032\n",
      "           3       0.92      0.93      0.92      1010\n",
      "           4       0.93      0.95      0.94       982\n",
      "           5       0.95      0.91      0.93       892\n",
      "           6       0.96      0.96      0.96       958\n",
      "           7       0.96      0.94      0.95      1028\n",
      "           8       0.94      0.91      0.92       974\n",
      "           9       0.95      0.91      0.93      1009\n",
      "\n",
      "   micro avg       0.95      0.95      0.95     10000\n",
      "   macro avg       0.95      0.94      0.94     10000\n",
      "weighted avg       0.95      0.95      0.95     10000\n",
      "\n"
     ]
    }
   ],
   "source": [
    "model = RandomForestClassifier()\n",
    "model.fit(X_train_flat, y_train)\n",
    "pred = model.predict(X_test_flat)\n",
    "print(confusion_matrix(y_test, pred))\n",
    "print(classification_report(y_test, pred))"
   ]
  },
  {
   "cell_type": "code",
   "execution_count": 21,
   "metadata": {
    "ExecuteTime": {
     "end_time": "2019-11-18T05:19:53.483179Z",
     "start_time": "2019-11-18T05:19:49.531061Z"
    }
   },
   "outputs": [],
   "source": [
    "model = RandomForestClassifier(X_all_flat, y_all)\n",
    "pickle.dump(model, open('E:/Models/Digit-Recognition/RandomForestClassifier.pkl', 'wb'))"
   ]
  },
  {
   "cell_type": "markdown",
   "metadata": {},
   "source": [
    "## MultinomialNB"
   ]
  },
  {
   "cell_type": "code",
   "execution_count": 22,
   "metadata": {
    "ExecuteTime": {
     "end_time": "2019-11-18T05:19:53.502126Z",
     "start_time": "2019-11-18T05:19:53.487167Z"
    }
   },
   "outputs": [],
   "source": [
    "from sklearn.naive_bayes import MultinomialNB"
   ]
  },
  {
   "cell_type": "code",
   "execution_count": 23,
   "metadata": {
    "ExecuteTime": {
     "end_time": "2019-11-18T05:19:54.426314Z",
     "start_time": "2019-11-18T05:19:53.512101Z"
    }
   },
   "outputs": [
    {
     "name": "stdout",
     "output_type": "stream",
     "text": [
      "[[ 912    0    2    6    1    8   14    1   36    0]\n",
      " [   0 1061    5    9    0    1    6    0   52    1]\n",
      " [  15   11  858   24   10    3   32   12   66    1]\n",
      " [   4   11   34  852    1   19    7   14   41   27]\n",
      " [   2    2    6    0  731    0   25    1   38  177]\n",
      " [  23   12    6  108   18  586   17    6   79   37]\n",
      " [  18   13   17    1    8   24  859    0   18    0]\n",
      " [   1   21   11    5   18    0    1  861   41   69]\n",
      " [   6   26   13   55   14   27    8    9  776   40]\n",
      " [   6    8    3   11   65    9    1   18   27  861]]\n",
      "              precision    recall  f1-score   support\n",
      "\n",
      "           0       0.92      0.93      0.93       980\n",
      "           1       0.91      0.93      0.92      1135\n",
      "           2       0.90      0.83      0.86      1032\n",
      "           3       0.80      0.84      0.82      1010\n",
      "           4       0.84      0.74      0.79       982\n",
      "           5       0.87      0.66      0.75       892\n",
      "           6       0.89      0.90      0.89       958\n",
      "           7       0.93      0.84      0.88      1028\n",
      "           8       0.66      0.80      0.72       974\n",
      "           9       0.71      0.85      0.77      1009\n",
      "\n",
      "   micro avg       0.84      0.84      0.84     10000\n",
      "   macro avg       0.84      0.83      0.83     10000\n",
      "weighted avg       0.84      0.84      0.84     10000\n",
      "\n"
     ]
    }
   ],
   "source": [
    "model = MultinomialNB()\n",
    "model.fit(X_train_flat, y_train)\n",
    "pred = model.predict(X_test_flat)\n",
    "print(confusion_matrix(y_test, pred))\n",
    "print(classification_report(y_test, pred))"
   ]
  },
  {
   "cell_type": "code",
   "execution_count": 24,
   "metadata": {
    "ExecuteTime": {
     "end_time": "2019-11-18T05:19:58.424119Z",
     "start_time": "2019-11-18T05:19:54.432298Z"
    }
   },
   "outputs": [],
   "source": [
    "model = MultinomialNB(X_all_flat, y_all)\n",
    "pickle.dump(model, open('E:/Models/Digit-Recognition/MultinomialNB.pkl', 'wb'))"
   ]
  },
  {
   "cell_type": "markdown",
   "metadata": {},
   "source": [
    "## Artificial Neural Network"
   ]
  },
  {
   "cell_type": "code",
   "execution_count": 30,
   "metadata": {
    "ExecuteTime": {
     "end_time": "2019-11-18T05:43:15.721420Z",
     "start_time": "2019-11-18T05:43:15.716435Z"
    }
   },
   "outputs": [],
   "source": [
    "from keras.models import Sequential\n",
    "from keras.layers import Dense, Dropout, Conv2D, Flatten, MaxPooling2D\n",
    "from keras.callbacks import EarlyStopping, ModelCheckpoint"
   ]
  },
  {
   "cell_type": "code",
   "execution_count": 28,
   "metadata": {
    "ExecuteTime": {
     "end_time": "2019-11-18T05:38:47.420593Z",
     "start_time": "2019-11-18T05:35:02.932573Z"
    }
   },
   "outputs": [
    {
     "name": "stdout",
     "output_type": "stream",
     "text": [
      "_________________________________________________________________\n",
      "Layer (type)                 Output Shape              Param #   \n",
      "=================================================================\n",
      "dense_4 (Dense)              (None, 1024)              803840    \n",
      "_________________________________________________________________\n",
      "dropout_3 (Dropout)          (None, 1024)              0         \n",
      "_________________________________________________________________\n",
      "dense_5 (Dense)              (None, 32)                32800     \n",
      "_________________________________________________________________\n",
      "dropout_4 (Dropout)          (None, 32)                0         \n",
      "_________________________________________________________________\n",
      "dense_6 (Dense)              (None, 10)                330       \n",
      "=================================================================\n",
      "Total params: 836,970\n",
      "Trainable params: 836,970\n",
      "Non-trainable params: 0\n",
      "_________________________________________________________________\n",
      "WARNING:tensorflow:From D:\\Users\\Ritvik\\Anaconda3\\envs\\datascience\\lib\\site-packages\\tensorflow\\python\\ops\\math_ops.py:3066: to_int32 (from tensorflow.python.ops.math_ops) is deprecated and will be removed in a future version.\n",
      "Instructions for updating:\n",
      "Use tf.cast instead.\n",
      "Train on 49000 samples, validate on 21000 samples\n",
      "Epoch 1/50\n",
      "49000/49000 [==============================] - 25s 520us/step - loss: 0.3632 - acc: 0.8956 - val_loss: 0.1312 - val_acc: 0.9608\n",
      "\n",
      "Epoch 00001: loss improved from inf to 0.36322, saving model to ANN.h5\n",
      "Epoch 2/50\n",
      "49000/49000 [==============================] - 21s 439us/step - loss: 0.1417 - acc: 0.9596 - val_loss: 0.0952 - val_acc: 0.9713\n",
      "\n",
      "Epoch 00002: loss improved from 0.36322 to 0.14170, saving model to ANN.h5\n",
      "Epoch 3/50\n",
      "49000/49000 [==============================] - 22s 440us/step - loss: 0.1018 - acc: 0.9704 - val_loss: 0.0840 - val_acc: 0.9747\n",
      "\n",
      "Epoch 00003: loss improved from 0.14170 to 0.10183, saving model to ANN.h5\n",
      "Epoch 4/50\n",
      "49000/49000 [==============================] - 22s 441us/step - loss: 0.0816 - acc: 0.9757 - val_loss: 0.0769 - val_acc: 0.9769\n",
      "\n",
      "Epoch 00004: loss improved from 0.10183 to 0.08163, saving model to ANN.h5\n",
      "Epoch 5/50\n",
      "49000/49000 [==============================] - 22s 440us/step - loss: 0.0705 - acc: 0.9793 - val_loss: 0.0794 - val_acc: 0.9776\n",
      "\n",
      "Epoch 00005: loss improved from 0.08163 to 0.07054, saving model to ANN.h5\n",
      "Epoch 6/50\n",
      "49000/49000 [==============================] - 22s 442us/step - loss: 0.0601 - acc: 0.9818 - val_loss: 0.0926 - val_acc: 0.9753\n",
      "\n",
      "Epoch 00006: loss improved from 0.07054 to 0.06010, saving model to ANN.h5\n",
      "Epoch 7/50\n",
      "49000/49000 [==============================] - 22s 440us/step - loss: 0.0517 - acc: 0.9845 - val_loss: 0.0824 - val_acc: 0.9788\n",
      "\n",
      "Epoch 00007: loss improved from 0.06010 to 0.05170, saving model to ANN.h5\n",
      "Epoch 8/50\n",
      "49000/49000 [==============================] - 22s 441us/step - loss: 0.0464 - acc: 0.9860 - val_loss: 0.0936 - val_acc: 0.9786\n",
      "\n",
      "Epoch 00008: loss improved from 0.05170 to 0.04642, saving model to ANN.h5\n",
      "Epoch 9/50\n",
      "49000/49000 [==============================] - 22s 456us/step - loss: 0.0438 - acc: 0.9864 - val_loss: 0.0881 - val_acc: 0.9796\n",
      "\n",
      "Epoch 00009: loss improved from 0.04642 to 0.04378, saving model to ANN.h5\n",
      "Epoch 10/50\n",
      "49000/49000 [==============================] - 22s 443us/step - loss: nan - acc: 0.6662 - val_loss: nan - val_acc: 0.0990\n",
      "\n",
      "Epoch 00010: loss did not improve from 0.04378\n",
      "Epoch 00010: early stopping\n"
     ]
    },
    {
     "data": {
      "text/plain": [
       "<keras.callbacks.History at 0x248322e8a90>"
      ]
     },
     "execution_count": 28,
     "metadata": {},
     "output_type": "execute_result"
    }
   ],
   "source": [
    "es = EarlyStopping(monitor='loss', mode='min', verbose=1)\n",
    "filepath = \"E:/Models/Digit-Recognition/ANN.h5\"\n",
    "ckpt = ModelCheckpoint(filepath, monitor='loss', verbose=1, save_best_only=True, mode='min')\n",
    "\n",
    "def build_network():\n",
    "    model = Sequential()\n",
    "    model.add(Dense(1024,input_dim=784, activation='relu'))\n",
    "    model.add(Dropout(0.2))\n",
    "    model.add(Dense(32, activation='relu'))\n",
    "    model.add(Dropout(0.2))\n",
    "    model.add(Dense(10, activation='sigmoid'))\n",
    "    model.compile(loss='categorical_crossentropy', optimizer='adam', metrics=['accuracy'])\n",
    "    model.summary()\n",
    "    return model\n",
    "\n",
    "model = build_network()\n",
    "\n",
    "model.fit(X_all_flat, y_all_cat, validation_split=0.3, epochs=50, callbacks=[es, ckpt])"
   ]
  },
  {
   "cell_type": "markdown",
   "metadata": {},
   "source": [
    "## Convolutional Neural Network"
   ]
  },
  {
   "cell_type": "code",
   "execution_count": 32,
   "metadata": {
    "ExecuteTime": {
     "end_time": "2019-11-18T06:00:19.661953Z",
     "start_time": "2019-11-18T05:43:52.068244Z"
    }
   },
   "outputs": [
    {
     "name": "stdout",
     "output_type": "stream",
     "text": [
      "_________________________________________________________________\n",
      "Layer (type)                 Output Shape              Param #   \n",
      "=================================================================\n",
      "conv2d_2 (Conv2D)            (None, 26, 26, 32)        320       \n",
      "_________________________________________________________________\n",
      "dropout_7 (Dropout)          (None, 26, 26, 32)        0         \n",
      "_________________________________________________________________\n",
      "flatten_2 (Flatten)          (None, 21632)             0         \n",
      "_________________________________________________________________\n",
      "dense_9 (Dense)              (None, 128)               2769024   \n",
      "_________________________________________________________________\n",
      "dropout_8 (Dropout)          (None, 128)               0         \n",
      "_________________________________________________________________\n",
      "dense_10 (Dense)             (None, 10)                1290      \n",
      "=================================================================\n",
      "Total params: 2,770,634\n",
      "Trainable params: 2,770,634\n",
      "Non-trainable params: 0\n",
      "_________________________________________________________________\n",
      "Train on 49000 samples, validate on 21000 samples\n",
      "Epoch 1/50\n",
      "49000/49000 [==============================] - 91s 2ms/step - loss: 0.2266 - acc: 0.9343 - val_loss: 0.0700 - val_acc: 0.9786\n",
      "\n",
      "Epoch 00001: loss improved from inf to 0.22664, saving model to CNN.h5\n",
      "Epoch 2/50\n",
      "49000/49000 [==============================] - 90s 2ms/step - loss: 0.0762 - acc: 0.9766 - val_loss: 0.0699 - val_acc: 0.9807\n",
      "\n",
      "Epoch 00002: loss improved from 0.22664 to 0.07618, saving model to CNN.h5\n",
      "Epoch 3/50\n",
      "49000/49000 [==============================] - 88s 2ms/step - loss: 0.0516 - acc: 0.9836 - val_loss: 0.0611 - val_acc: 0.9814\n",
      "\n",
      "Epoch 00003: loss improved from 0.07618 to 0.05161, saving model to CNN.h5\n",
      "Epoch 4/50\n",
      "49000/49000 [==============================] - 91s 2ms/step - loss: 0.0401 - acc: 0.9874 - val_loss: 0.0556 - val_acc: 0.9844\n",
      "\n",
      "Epoch 00004: loss improved from 0.05161 to 0.04006, saving model to CNN.h5\n",
      "Epoch 5/50\n",
      "49000/49000 [==============================] - 88s 2ms/step - loss: 0.0290 - acc: 0.9904 - val_loss: 0.0592 - val_acc: 0.9839\n",
      "\n",
      "Epoch 00005: loss improved from 0.04006 to 0.02905, saving model to CNN.h5\n",
      "Epoch 6/50\n",
      "49000/49000 [==============================] - 88s 2ms/step - loss: 0.0247 - acc: 0.9919 - val_loss: 0.0646 - val_acc: 0.9827\n",
      "\n",
      "Epoch 00006: loss improved from 0.02905 to 0.02466, saving model to CNN.h5\n",
      "Epoch 7/50\n",
      "49000/49000 [==============================] - 88s 2ms/step - loss: 0.0203 - acc: 0.9930 - val_loss: 0.0674 - val_acc: 0.9846\n",
      "\n",
      "Epoch 00007: loss improved from 0.02466 to 0.02027, saving model to CNN.h5\n",
      "Epoch 8/50\n",
      "49000/49000 [==============================] - 90s 2ms/step - loss: 0.0183 - acc: 0.9937 - val_loss: 0.0789 - val_acc: 0.9831\n",
      "\n",
      "Epoch 00008: loss improved from 0.02027 to 0.01832, saving model to CNN.h5\n",
      "Epoch 9/50\n",
      "49000/49000 [==============================] - 90s 2ms/step - loss: 0.0171 - acc: 0.9941 - val_loss: 0.0723 - val_acc: 0.9846\n",
      "\n",
      "Epoch 00009: loss improved from 0.01832 to 0.01707, saving model to CNN.h5\n",
      "Epoch 10/50\n",
      "49000/49000 [==============================] - 88s 2ms/step - loss: 0.0136 - acc: 0.9953 - val_loss: 0.0805 - val_acc: 0.9842\n",
      "\n",
      "Epoch 00010: loss improved from 0.01707 to 0.01364, saving model to CNN.h5\n",
      "Epoch 11/50\n",
      "49000/49000 [==============================] - 92s 2ms/step - loss: nan - acc: 0.2249 - val_loss: nan - val_acc: 0.0990\n",
      "\n",
      "Epoch 00011: loss did not improve from 0.01364\n",
      "Epoch 00011: early stopping\n"
     ]
    },
    {
     "data": {
      "text/plain": [
       "<keras.callbacks.History at 0x2483c26c908>"
      ]
     },
     "execution_count": 32,
     "metadata": {},
     "output_type": "execute_result"
    }
   ],
   "source": [
    "es = EarlyStopping(monitor='loss', mode='min', verbose=1)\n",
    "filepath = \"E:/Models/Digit-Recognition/CNN.h5\"\n",
    "ckpt = ModelCheckpoint(filepath, monitor='loss', verbose=1, save_best_only=True, mode='min')\n",
    "\n",
    "def cnn(image_size):\n",
    "    classifier = Sequential()\n",
    "    classifier.add(Conv2D(32, (3, 3), input_shape = (*image_size, 1), activation = 'relu'))\n",
    "    classifier.add(Dropout(0.2))\n",
    "    classifier.add(Flatten())\n",
    "    classifier.add(Dense(units = 128, activation = 'relu'))\n",
    "    classifier.add(Dropout(0.2))\n",
    "    classifier.add(Dense(units = 10, activation = 'sigmoid'))\n",
    "    classifier.compile(optimizer = 'adam', loss = 'categorical_crossentropy', metrics = ['accuracy'])\n",
    "    classifier.summary()\n",
    "    return classifier\n",
    "\n",
    "\n",
    "model = cnn((28,28))\n",
    "\n",
    "model.fit(X_all, y_all_cat, validation_split=0.3, epochs=50, callbacks=[es, ckpt])"
   ]
  },
  {
   "cell_type": "code",
   "execution_count": null,
   "metadata": {},
   "outputs": [],
   "source": []
  }
 ],
 "metadata": {
  "kernelspec": {
   "display_name": "Python 3",
   "language": "python",
   "name": "python3"
  },
  "language_info": {
   "codemirror_mode": {
    "name": "ipython",
    "version": 3
   },
   "file_extension": ".py",
   "mimetype": "text/x-python",
   "name": "python",
   "nbconvert_exporter": "python",
   "pygments_lexer": "ipython3",
   "version": "3.6.4"
  },
  "toc": {
   "base_numbering": 1,
   "nav_menu": {},
   "number_sections": true,
   "sideBar": true,
   "skip_h1_title": false,
   "title_cell": "Table of Contents",
   "title_sidebar": "Contents",
   "toc_cell": false,
   "toc_position": {},
   "toc_section_display": true,
   "toc_window_display": false
  },
  "varInspector": {
   "cols": {
    "lenName": 16,
    "lenType": 16,
    "lenVar": 40
   },
   "kernels_config": {
    "python": {
     "delete_cmd_postfix": "",
     "delete_cmd_prefix": "del ",
     "library": "var_list.py",
     "varRefreshCmd": "print(var_dic_list())"
    },
    "r": {
     "delete_cmd_postfix": ") ",
     "delete_cmd_prefix": "rm(",
     "library": "var_list.r",
     "varRefreshCmd": "cat(var_dic_list()) "
    }
   },
   "types_to_exclude": [
    "module",
    "function",
    "builtin_function_or_method",
    "instance",
    "_Feature"
   ],
   "window_display": false
  }
 },
 "nbformat": 4,
 "nbformat_minor": 2
}
